{
  "nbformat": 4,
  "nbformat_minor": 0,
  "metadata": {
    "colab": {
      "name": "E-commerce-Q1 and Q2.ipynb",
      "provenance": [],
      "collapsed_sections": []
    },
    "kernelspec": {
      "name": "python3",
      "display_name": "Python 3"
    },
    "language_info": {
      "name": "python"
    }
  },
  "cells": [
    {
      "cell_type": "code",
      "metadata": {
        "colab": {
          "base_uri": "https://localhost:8080/"
        },
        "id": "7MQUugcroXFe",
        "outputId": "bc6e284e-7c73-48b7-e21b-75e323795b2a"
      },
      "source": [
        "from google.colab import drive\n",
        "drive.mount('/content/drive')"
      ],
      "execution_count": 84,
      "outputs": [
        {
          "output_type": "stream",
          "text": [
            "Drive already mounted at /content/drive; to attempt to forcibly remount, call drive.mount(\"/content/drive\", force_remount=True).\n"
          ],
          "name": "stdout"
        }
      ]
    },
    {
      "cell_type": "code",
      "metadata": {
        "id": "oCbf1rP3tFBI",
        "colab": {
          "base_uri": "https://localhost:8080/"
        },
        "outputId": "05d762ff-1d0c-4f26-cdff-cbd83b331ce5"
      },
      "source": [
        "import pandas as pd\n",
        "import matplotlib.pyplot as plt\n",
        "import numpy as np\n",
        "%unload_ext google.colab.data_table\n",
        "\n",
        "path = \"/content/drive/Shareddrives/E-Commerce Project/ml-100k/ml-100k/\"\n",
        "\n",
        "df_data = pd.read_csv(path +'u.data', index_col=False, encoding = \"ISO-8859-1\" , delimiter='\\t', names=['User id', 'Item id', 'Rating', 'Timestamp'])\n",
        "df_train = pd.read_csv(path + 'u1.base', index_col=False, encoding = \"ISO-8859-1\" , delimiter='\\t', names=['User id', 'Item id', 'Rating', 'Timestamp'])\n",
        "df_test = pd.read_csv(path+'u1.test',index_col=False, encoding = \"ISO-8859-1\",delimiter='\\t', names=['User id', 'Item id', 'Rating', 'Timestamp'])\n",
        "df_user_info = pd.read_csv(path + 'u.user', delimiter='|', names=['User id', 'Age', 'Gender', 'Occupation', 'Zip code'])\n",
        "df_items = pd.read_csv(path + 'u.item', sep='|', names=['Item id', 'Movie title', 'Release date', 'Video release date','IMDb URL', 'Unknown', 'Action', 'Adventure', 'Animation','Children', 'Comedy', 'Crime', 'Documentary', 'Drama','Fantasy', 'Film-Noir', 'Horror', 'Musical', 'Mystery', 'Romance','Sci-Fi', 'Thriller', 'War', 'Western'], encoding='latin-1')\n",
        "df_items.index = df_items.index +1\n",
        "\n",
        "# add the movie_title column to all the data\n",
        "df_data = pd.merge(df_data, df_items[['Item id', 'Movie title']])\n"
      ],
      "execution_count": 85,
      "outputs": [
        {
          "output_type": "stream",
          "text": [
            "The google.colab.data_table extension is not loaded.\n"
          ],
          "name": "stdout"
        }
      ]
    },
    {
      "cell_type": "markdown",
      "metadata": {
        "id": "_shERLxgz8u-"
      },
      "source": [
        "# Question 1"
      ]
    },
    {
      "cell_type": "markdown",
      "metadata": {
        "id": "sunlaxMT0Afd"
      },
      "source": [
        "## Part A"
      ]
    },
    {
      "cell_type": "code",
      "metadata": {
        "id": "e2o9-iTNUsl4"
      },
      "source": [
        "def get_average_rating(df_data):\n",
        "    # sum and count itemid\n",
        "    ItemCount = (df_data.groupby('Item id').size())\n",
        "    ItemRating = (df_data.groupby('Item id').sum())\n",
        "\n",
        "    # rename column\n",
        "    ItemCount.name = \"Item count\"\n",
        "\n",
        "    # merge and get avg rating\n",
        "    df = pd.concat((ItemRating,ItemCount), axis=1)\n",
        "\n",
        "    #compute the Average rating for every movie\n",
        "    df[\"Average rating\"] = df[\"Rating\"] / df[\"Item count\"]\n",
        "    df = df.drop(['User id','Timestamp'], axis=1)\n",
        "    return df\n"
      ],
      "execution_count": 86,
      "outputs": []
    },
    {
      "cell_type": "code",
      "metadata": {
        "id": "KZp3YcpEat2b"
      },
      "source": [
        "def create_plot(dataframe,plot_title, x_label, y_label,hist_title):\n",
        "\n",
        "  # create an histogram for the average ratings distribution\n",
        "  plt.hist(dataframe['Average rating'],rwidth=0.95, bins=[1.0,1.5, 2.0,2.5, 3.0,3.5, 4.0,4.5, 5.0],color='skyblue')\n",
        "  plt.title(hist_title, fontsize=15)\n",
        "  plt.xlabel(x_label, fontsize=12)\n",
        "  plt.ylabel(y_label, fontsize=12)\n",
        "  plt.show()"
      ],
      "execution_count": 87,
      "outputs": []
    },
    {
      "cell_type": "code",
      "metadata": {
        "id": "lR83wDlEVGIv"
      },
      "source": [
        "# import movies names\n",
        "def get_top_3_movies_names_and_rating(df,title):\n",
        "\n",
        "  # merge so we have movie name and not only id\n",
        "  df = df.sort_values(by=['Average rating','Item count'],ascending=False).head(3)\n",
        "\n",
        "  print(title)\n",
        "  return df[['Movie title','Average rating']]"
      ],
      "execution_count": 88,
      "outputs": []
    },
    {
      "cell_type": "code",
      "metadata": {
        "colab": {
          "base_uri": "https://localhost:8080/",
          "height": 300
        },
        "id": "5CNdTiNbXrnK",
        "outputId": "66626633-08fd-438c-ff44-cf9f2edc584d"
      },
      "source": [
        "# call to get_average_rating function to get the Average rating for every movie\n",
        "df_item_count_avg_rating = get_average_rating(df_data)\n",
        "\n",
        "# merge with the movies data to get the all information\n",
        "df_item_count_avg_rating = pd.merge(df_item_count_avg_rating, df_items[['Item id', 'Movie title']], on='Item id')\n",
        "\n",
        "df_item_count_avg_rating.index = df_item_count_avg_rating.index +1\n",
        "\n",
        "# sort the data in the dataframe by the values of Average rating\n",
        "df_item_count_avg_rating = df_item_count_avg_rating.sort_values(by=['Average rating','Item count'],ascending=False)\n",
        "\n",
        "# create an histogram for the average ratings distribution\n",
        "create_plot(df_item_count_avg_rating,\"Average Rating\",\"Average Rating\",\"Number Of Movies\",\"Distribution of Average Ratings Between Movies\")\n"
      ],
      "execution_count": 89,
      "outputs": [
        {
          "output_type": "display_data",
          "data": {
            "image/png": "[encoded data removed]",
            "text/plain": [
              "<Figure size 432x288 with 1 Axes>"
            ]
          },
          "metadata": {
            "tags": [],
            "needs_background": "light"
          }
        }
      ]
    },
    {
      "cell_type": "markdown",
      "metadata": {
        "id": "7TbUyf-LoLyA"
      },
      "source": [
        "**Display top 3 movies with the highest rating average**"
      ]
    },
    {
      "cell_type": "code",
      "metadata": {
        "colab": {
          "base_uri": "https://localhost:8080/",
          "height": 155
        },
        "id": "jhJN972loE8L",
        "outputId": "889cde91-0488-4f48-ab1a-735707510705"
      },
      "source": [
        "# get the top 3 movies with the highest Average rating\n",
        "top_3_movies = get_top_3_movies_names_and_rating(df_item_count_avg_rating,\"Top 3 Movies by Avera ge Rating:\")\n",
        "display(top_3_movies)"
      ],
      "execution_count": 90,
      "outputs": [
        {
          "output_type": "stream",
          "text": [
            "Top 3 Movies by Avera ge Rating:\n"
          ],
          "name": "stdout"
        },
        {
          "output_type": "display_data",
          "data": {
            "text/html": [
              "<div>\n",
              "<style scoped>\n",
              "    .dataframe tbody tr th:only-of-type {\n",
              "        vertical-align: middle;\n",
              "    }\n",
              "\n",
              "    .dataframe tbody tr th {\n",
              "        vertical-align: top;\n",
              "    }\n",
              "\n",
              "    .dataframe thead th {\n",
              "        text-align: right;\n",
              "    }\n",
              "</style>\n",
              "<table border=\"1\" class=\"dataframe\">\n",
              "  <thead>\n",
              "    <tr style=\"text-align: right;\">\n",
              "      <th></th>\n",
              "      <th>Movie title</th>\n",
              "      <th>Average rating</th>\n",
              "    </tr>\n",
              "  </thead>\n",
              "  <tbody>\n",
              "    <tr>\n",
              "      <th>1189</th>\n",
              "      <td>Prefontaine (1997)</td>\n",
              "      <td>5.0</td>\n",
              "    </tr>\n",
              "    <tr>\n",
              "      <th>1293</th>\n",
              "      <td>Star Kid (1997)</td>\n",
              "      <td>5.0</td>\n",
              "    </tr>\n",
              "    <tr>\n",
              "      <th>1467</th>\n",
              "      <td>Saint of Fort Washington, The (1993)</td>\n",
              "      <td>5.0</td>\n",
              "    </tr>\n",
              "  </tbody>\n",
              "</table>\n",
              "</div>"
            ],
            "text/plain": [
              "                               Movie title  Average rating\n",
              "1189                    Prefontaine (1997)             5.0\n",
              "1293                       Star Kid (1997)             5.0\n",
              "1467  Saint of Fort Washington, The (1993)             5.0"
            ]
          },
          "metadata": {
            "tags": []
          }
        }
      ]
    },
    {
      "cell_type": "markdown",
      "metadata": {
        "id": "wgurU04r3i2P"
      },
      "source": [
        "## Part B"
      ]
    },
    {
      "cell_type": "code",
      "metadata": {
        "id": "j0UQX7di3kZT"
      },
      "source": [
        "df_data_gender = pd.merge(df_data,df_user_info)\n",
        "\n",
        "# get only the information for the females\n",
        "df_females = df_data_gender.loc[df_data_gender.Gender=='F']\n",
        "\n",
        "# get only the information for the males\n",
        "df_males = df_data_gender.loc[df_data_gender.Gender=='M']\n",
        "\n",
        "# get the avrege rating for each dataframe\n",
        "df_item_count_avg_rating_females = get_average_rating(df_females)\n",
        "df_item_count_avg_rating_males = get_average_rating(df_males)\n",
        "\n",
        "\n",
        "def get_average_rating_by_gender(df_data_gender):\n",
        "  df_females = df_data_gender.loc[df_data_gender.Gender=='F']\n",
        "  df_males = df_data_gender.loc[df_data_gender.Gender=='M']\n",
        "\n",
        "  # groupby the Item id and Movie titele to get all the necessary data\n",
        "  df_females = df_females.groupby(['Item id','Movie title']).mean()\n",
        "  df_males = df_males.groupby(['Item id','Movie title']).mean()\n",
        "\n",
        "  # merge male and female with movie dataframe\n",
        "  df_item_count_females = df_item_count_avg_rating_females.merge(df_items[['Item id','Movie title']] ,on='Item id')\n",
        "  df_item_count_females.index = df_item_count_females.index +1\n",
        "\n",
        "  df_item_count_males = df_item_count_avg_rating_males.merge(df_items[['Item id','Movie title']] ,on='Item id')\n",
        "  df_item_count_males.index = df_item_count_males.index +1\n",
        "\n",
        "  return df_item_count_females, df_item_count_males"
      ],
      "execution_count": 91,
      "outputs": []
    },
    {
      "cell_type": "code",
      "metadata": {
        "colab": {
          "base_uri": "https://localhost:8080/",
          "height": 861
        },
        "id": "yX5RGsX8ukNr",
        "outputId": "470be758-3ba0-4f97-ec65-66d0971d03de"
      },
      "source": [
        "# call get_average_rating_by_gender function to compute all the data \n",
        "df_females, df_males = get_average_rating_by_gender(df_data_gender)\n",
        "\n",
        "# create an histogram for the average ratings distribution\n",
        "create_plot(df_females, \"Average Rating for Females\", \"Average Rating\",\"Number Of Movies\",\"Distribution of Average Ratings Between Movies Rated by Females\")\n",
        "create_plot(df_males, \"Average Rating for Males\", \"Average Rating\",\"Number Of Movies\",\"Distribution of Average Ratings Between Movies Rated by Males\")\n",
        "\n",
        "# get the top 3 movies with the highest Average rating\n",
        "top_3_movies_females = get_top_3_movies_names_and_rating(df_females,\"Top 3 Movies Average Rating For Females:\")\n",
        "display(top_3_movies_females)\n",
        "\n",
        "top_3_movies_males = get_top_3_movies_names_and_rating(df_males,\"Top 3 Movies Average Rating For Males:\")\n",
        "display(top_3_movies_males)"
      ],
      "execution_count": 92,
      "outputs": [
        {
          "output_type": "display_data",
          "data": {
            "image/png": "[encoded data removed]",
            "text/plain": [
              "<Figure size 432x288 with 1 Axes>"
            ]
          },
          "metadata": {
            "tags": [],
            "needs_background": "light"
          }
        },
        {
          "output_type": "display_data",
          "data": {
            "image/png": "[encoded data removed]",
            "text/plain": [
              "<Figure size 432x288 with 1 Axes>"
            ]
          },
          "metadata": {
            "tags": [],
            "needs_background": "light"
          }
        },
        {
          "output_type": "stream",
          "text": [
            "Top 3 Movies Average Rating For Females:\n"
          ],
          "name": "stdout"
        },
        {
          "output_type": "display_data",
          "data": {
            "text/html": [
              "<div>\n",
              "<style scoped>\n",
              "    .dataframe tbody tr th:only-of-type {\n",
              "        vertical-align: middle;\n",
              "    }\n",
              "\n",
              "    .dataframe tbody tr th {\n",
              "        vertical-align: top;\n",
              "    }\n",
              "\n",
              "    .dataframe thead th {\n",
              "        text-align: right;\n",
              "    }\n",
              "</style>\n",
              "<table border=\"1\" class=\"dataframe\">\n",
              "  <thead>\n",
              "    <tr style=\"text-align: right;\">\n",
              "      <th></th>\n",
              "      <th>Movie title</th>\n",
              "      <th>Average rating</th>\n",
              "    </tr>\n",
              "  </thead>\n",
              "  <tbody>\n",
              "    <tr>\n",
              "      <th>1303</th>\n",
              "      <td>Mina Tannenbaum (1994)</td>\n",
              "      <td>5.0</td>\n",
              "    </tr>\n",
              "    <tr>\n",
              "      <th>74</th>\n",
              "      <td>Faster Pussycat! Kill! Kill! (1965)</td>\n",
              "      <td>5.0</td>\n",
              "    </tr>\n",
              "    <tr>\n",
              "      <th>118</th>\n",
              "      <td>Maya Lin: A Strong Clear Vision (1994)</td>\n",
              "      <td>5.0</td>\n",
              "    </tr>\n",
              "  </tbody>\n",
              "</table>\n",
              "</div>"
            ],
            "text/plain": [
              "                                 Movie title  Average rating\n",
              "1303                  Mina Tannenbaum (1994)             5.0\n",
              "74       Faster Pussycat! Kill! Kill! (1965)             5.0\n",
              "118   Maya Lin: A Strong Clear Vision (1994)             5.0"
            ]
          },
          "metadata": {
            "tags": []
          }
        },
        {
          "output_type": "stream",
          "text": [
            "Top 3 Movies Average Rating For Males:\n"
          ],
          "name": "stdout"
        },
        {
          "output_type": "display_data",
          "data": {
            "text/html": [
              "<div>\n",
              "<style scoped>\n",
              "    .dataframe tbody tr th:only-of-type {\n",
              "        vertical-align: middle;\n",
              "    }\n",
              "\n",
              "    .dataframe tbody tr th {\n",
              "        vertical-align: top;\n",
              "    }\n",
              "\n",
              "    .dataframe thead th {\n",
              "        text-align: right;\n",
              "    }\n",
              "</style>\n",
              "<table border=\"1\" class=\"dataframe\">\n",
              "  <thead>\n",
              "    <tr style=\"text-align: right;\">\n",
              "      <th></th>\n",
              "      <th>Movie title</th>\n",
              "      <th>Average rating</th>\n",
              "    </tr>\n",
              "  </thead>\n",
              "  <tbody>\n",
              "    <tr>\n",
              "      <th>1291</th>\n",
              "      <td>Star Kid (1997)</td>\n",
              "      <td>5.0</td>\n",
              "    </tr>\n",
              "    <tr>\n",
              "      <th>1173</th>\n",
              "      <td>Hugo Pool (1997)</td>\n",
              "      <td>5.0</td>\n",
              "    </tr>\n",
              "    <tr>\n",
              "      <th>1187</th>\n",
              "      <td>Prefontaine (1997)</td>\n",
              "      <td>5.0</td>\n",
              "    </tr>\n",
              "  </tbody>\n",
              "</table>\n",
              "</div>"
            ],
            "text/plain": [
              "             Movie title  Average rating\n",
              "1291     Star Kid (1997)             5.0\n",
              "1173    Hugo Pool (1997)             5.0\n",
              "1187  Prefontaine (1997)             5.0"
            ]
          },
          "metadata": {
            "tags": []
          }
        }
      ]
    },
    {
      "cell_type": "code",
      "metadata": {
        "id": "w8Qm5DL3MU7a",
        "colab": {
          "base_uri": "https://localhost:8080/",
          "height": 276
        },
        "outputId": "5affca6a-15b7-44f4-e71a-bf5e859c0d94"
      },
      "source": [
        "# calculate the diffrence \n",
        "# get top 3 for max difference between gender ranking\n",
        "\n",
        "diffrence = pd.merge(df_females, df_males, how='right', on=\"Movie title\", suffixes=('_female', \"_male\"))\n",
        "\n",
        "# compute the diffrence\n",
        "diffrence['Average rating'] = abs((diffrence['Average rating_male']-diffrence['Average rating_female']))\n",
        "\n",
        "# sort the data by the value of Average rating\n",
        "top_3_movies_diffrence = diffrence.sort_values(by=['Average rating'],ascending=False).head(3)\n",
        "\n",
        "# show the Average rating for females, males and the diffrense\n",
        "display(top_3_movies_diffrence[['Average rating_female','Average rating_male','Average rating']])\n",
        "\n",
        "# show the top 3 movies with the highest diffrence Average rating\n",
        "print(\"Top 3 Movies Max Difference Average Rating Between Females and Males:\")\n",
        "top_3_movies_diffrence = top_3_movies_diffrence[['Movie title','Average rating']]\n",
        "display(top_3_movies_diffrence)\n"
      ],
      "execution_count": 93,
      "outputs": [
        {
          "output_type": "display_data",
          "data": {
            "text/html": [
              "<div>\n",
              "<style scoped>\n",
              "    .dataframe tbody tr th:only-of-type {\n",
              "        vertical-align: middle;\n",
              "    }\n",
              "\n",
              "    .dataframe tbody tr th {\n",
              "        vertical-align: top;\n",
              "    }\n",
              "\n",
              "    .dataframe thead th {\n",
              "        text-align: right;\n",
              "    }\n",
              "</style>\n",
              "<table border=\"1\" class=\"dataframe\">\n",
              "  <thead>\n",
              "    <tr style=\"text-align: right;\">\n",
              "      <th></th>\n",
              "      <th>Average rating_female</th>\n",
              "      <th>Average rating_male</th>\n",
              "      <th>Average rating</th>\n",
              "    </tr>\n",
              "  </thead>\n",
              "  <tbody>\n",
              "    <tr>\n",
              "      <th>1327</th>\n",
              "      <td>1.0</td>\n",
              "      <td>5.000000</td>\n",
              "      <td>4.000000</td>\n",
              "    </tr>\n",
              "    <tr>\n",
              "      <th>867</th>\n",
              "      <td>1.0</td>\n",
              "      <td>4.666667</td>\n",
              "      <td>3.666667</td>\n",
              "    </tr>\n",
              "    <tr>\n",
              "      <th>1453</th>\n",
              "      <td>1.0</td>\n",
              "      <td>4.500000</td>\n",
              "      <td>3.500000</td>\n",
              "    </tr>\n",
              "  </tbody>\n",
              "</table>\n",
              "</div>"
            ],
            "text/plain": [
              "      Average rating_female  Average rating_male  Average rating\n",
              "1327                    1.0             5.000000        4.000000\n",
              "867                     1.0             4.666667        3.666667\n",
              "1453                    1.0             4.500000        3.500000"
            ]
          },
          "metadata": {
            "tags": []
          }
        },
        {
          "output_type": "stream",
          "text": [
            "Top 3 Movies Max Difference Average Rating Between Females and Males:\n"
          ],
          "name": "stdout"
        },
        {
          "output_type": "display_data",
          "data": {
            "text/html": [
              "<div>\n",
              "<style scoped>\n",
              "    .dataframe tbody tr th:only-of-type {\n",
              "        vertical-align: middle;\n",
              "    }\n",
              "\n",
              "    .dataframe tbody tr th {\n",
              "        vertical-align: top;\n",
              "    }\n",
              "\n",
              "    .dataframe thead th {\n",
              "        text-align: right;\n",
              "    }\n",
              "</style>\n",
              "<table border=\"1\" class=\"dataframe\">\n",
              "  <thead>\n",
              "    <tr style=\"text-align: right;\">\n",
              "      <th></th>\n",
              "      <th>Movie title</th>\n",
              "      <th>Average rating</th>\n",
              "    </tr>\n",
              "  </thead>\n",
              "  <tbody>\n",
              "    <tr>\n",
              "      <th>1327</th>\n",
              "      <td>Delta of Venus (1994)</td>\n",
              "      <td>4.000000</td>\n",
              "    </tr>\n",
              "    <tr>\n",
              "      <th>867</th>\n",
              "      <td>Two or Three Things I Know About Her (1966)</td>\n",
              "      <td>3.666667</td>\n",
              "    </tr>\n",
              "    <tr>\n",
              "      <th>1453</th>\n",
              "      <td>Sliding Doors (1998)</td>\n",
              "      <td>3.500000</td>\n",
              "    </tr>\n",
              "  </tbody>\n",
              "</table>\n",
              "</div>"
            ],
            "text/plain": [
              "                                      Movie title  Average rating\n",
              "1327                        Delta of Venus (1994)        4.000000\n",
              "867   Two or Three Things I Know About Her (1966)        3.666667\n",
              "1453                         Sliding Doors (1998)        3.500000"
            ]
          },
          "metadata": {
            "tags": []
          }
        }
      ]
    },
    {
      "cell_type": "markdown",
      "metadata": {
        "id": "V7VRgErx0oW2"
      },
      "source": [
        "## Part C"
      ]
    },
    {
      "cell_type": "markdown",
      "metadata": {
        "id": "r0xO_gX3KGS8"
      },
      "source": [
        "We examined the category (genre) distribution of the 100 films with the highest rating and the 100 films with the lowest rating\n",
        "For different populations.\n",
        "\n",
        "The populations we examined are:\n",
        "\n",
        "*   The general population\n",
        "*   Females\n",
        "*   Males\n",
        "*   Age 30 and under\n",
        "*   Over the age of 30 "
      ]
    },
    {
      "cell_type": "code",
      "metadata": {
        "id": "GP_XLh1glOrF"
      },
      "source": [
        "df_data_age = pd.merge(df_data,df_user_info)\n",
        "\n",
        "# get only the information for the under 30\n",
        "df_under_30_and_30 = df_data_age.loc[df_data_age.Age<=30]\n",
        "\n",
        "# get only the information for the over 30\n",
        "df_over_30 = df_data_age.loc[df_data_age.Age>30]\n",
        "\n",
        "# get the avrege rating for each dataframe\n",
        "df_item_count_avg_rating_under_30 = get_average_rating(df_under_30_and_30)\n",
        "df_item_count_avg_rating_over_30 = get_average_rating(df_over_30)\n",
        "\n",
        "def get_average_rating_by_age(df_data_age):\n",
        "  df_under_30_and_30 = df_data_age.loc[df_data_age.Age<=30]\n",
        "  df_over_30 = df_data_age.loc[df_data_age.Age>30]\n",
        "\n",
        "  # groupby the Item id and Movie titele to get all the necessary data\n",
        "  df_under_30_and_30 = df_under_30_and_30.groupby(['Item id','Movie title']).mean()\n",
        "  df_over_30 = df_over_30.groupby(['Item id','Movie title']).mean()\n",
        "\n",
        "  # merge over 30 and under 30 with movie dataframe\n",
        "  df_item_count_under_30 = df_item_count_avg_rating_under_30.merge(df_items[['Item id','Movie title']] ,on='Item id')\n",
        "  df_item_count_under_30.index = df_item_count_under_30.index +1\n",
        "\n",
        "  df_item_count_over_30 = df_item_count_avg_rating_over_30.merge(df_items[['Item id','Movie title']] ,on='Item id')\n",
        "  df_item_count_over_30.index = df_item_count_over_30.index +1\n",
        "\n",
        "\n",
        "  return df_item_count_under_30, df_item_count_over_30\n",
        "\n",
        "\n",
        "df_under_30_and_30, df_over_30 = get_average_rating_by_age(df_data_age)"
      ],
      "execution_count": 94,
      "outputs": []
    },
    {
      "cell_type": "code",
      "metadata": {
        "id": "T_inTXJB0nZ6"
      },
      "source": [
        "# merge male and female with movie dataframe\n",
        "df_females = df_data_gender.loc[df_data_gender.Gender=='F']\n",
        "df_males = df_data_gender.loc[df_data_gender.Gender=='M']\n",
        "\n",
        "df_females = df_females.merge(df_items)\n",
        "df_males = df_males.merge(df_items)\n",
        "\n",
        "\n",
        "# merge under 30 and over 30 with movie dataframe\n",
        "df_under_30_and_30 = df_data_age.loc[df_data_age.Age<=30]\n",
        "df_over_30 = df_data_age.loc[df_data_age.Age>30]\n",
        "\n",
        "df_under_30_and_30 = df_under_30_and_30.merge(df_items)\n",
        "df_over_30 = df_over_30.merge(df_items)\n",
        "\n",
        "# the list of all geners\n",
        "list_of_genre = ['Unknown','Action', 'Adventure', 'Animation', 'Children', 'Comedy', 'Crime', 'Documentary', 'Drama', 'Fantasy',\n",
        "                 'Film-Noir', 'Horror', 'Musical', 'Mystery', 'Romance', 'Sci-Fi', 'Thriller', 'War', 'Western']\n",
        "\n",
        "# merge all data with movie dataframe\n",
        "df_movies = df_data.merge(df_items)"
      ],
      "execution_count": 95,
      "outputs": []
    },
    {
      "cell_type": "code",
      "metadata": {
        "id": "GTxtWLf7-GDg"
      },
      "source": [
        "# calculate the mean of Rating for each dataframe\n",
        "\n",
        "df_under_30_and_30 = df_under_30_and_30.groupby('Movie title').mean()\n",
        "df_over_30 = df_over_30.groupby('Movie title').mean()\n",
        "df_females = df_females.groupby('Movie title').mean()\n",
        "df_males = df_males.groupby('Movie title').mean()\n",
        "df_movies = df_movies.groupby('Movie title').mean()\n",
        "\n",
        "# sort all dataframe by the value Rating\n",
        "df_under_30_and_30 = df_under_30_and_30.sort_values(by='Rating',ascending=False, inplace=False)\n",
        "df_over_30 = df_over_30.sort_values(by='Rating',ascending=False, inplace=False)\n",
        "df_females = df_females.sort_values(by='Rating',ascending=False, inplace=False)\n",
        "df_males = df_males.sort_values(by='Rating',ascending=False, inplace=False)\n",
        "df_movies = df_movies.sort_values(by='Rating',ascending=False, inplace=False)\n"
      ],
      "execution_count": 96,
      "outputs": []
    },
    {
      "cell_type": "code",
      "metadata": {
        "id": "w1XiIRCr_QRE"
      },
      "source": [
        "\"\"\"count the amount of movies in each gener\n",
        "take the head or tail of the dataframe if we need to compute the top movies or the bottom movies\n",
        "return a dataframe that is ready to show by histogram\"\"\"\n",
        "\n",
        "def categoryCountDF(df_movies_to_check,top_or_bottom):\n",
        "    # check if it is top or bottom\n",
        "    if top_or_bottom == 'top':\n",
        "        df_movies_to_check = (df_movies_to_check.head(100))\n",
        "    else:\n",
        "        df_movies_to_check = (df_movies_to_check.tail(100))\n",
        "    \n",
        "    # get the gener list, count the movies in each gener\n",
        "    df_movies_to_check=df_movies_to_check[list_of_genre]\n",
        "    df_movies_to_check.loc['Total'] = df_movies_to_check.sum(axis=0)\n",
        "    # add it at the last row\n",
        "    df_movies_to_check=df_movies_to_check.iloc[-1]\n",
        " \n",
        "    df_movies_to_check=pd.DataFrame({'Genre': df_movies_to_check.index, 'Count': df_movies_to_check.values})\n",
        "    return df_movies_to_check.sort_values(by='Count',ascending=False)\n"
      ],
      "execution_count": 97,
      "outputs": []
    },
    {
      "cell_type": "code",
      "metadata": {
        "id": "MmGZ_tia_XPD"
      },
      "source": [
        "# take the top 100 and keep only Genres for each dataframe of specific population\n",
        "\n",
        "# all data\n",
        "df_movies_Top100 = categoryCountDF(df_movies,'top')\n",
        "df_movies_Bottom100 = categoryCountDF(df_movies,'bottom')\n",
        "\n",
        "# only females\n",
        "df_female_movies_Top100= categoryCountDF(df_females,'top')\n",
        "df_female_movies_Bottom100 = categoryCountDF(df_females,'bottom')\n",
        "\n",
        "# only males\n",
        "df_male_movies_Top100 = categoryCountDF(df_males,'top')\n",
        "df_male_movies_Bottom100 = categoryCountDF(df_males,'bottom')\n",
        "\n",
        "# only under 30 and 30\n",
        "df_under_30_movies_Top100 = categoryCountDF(df_under_30_and_30,'top')\n",
        "df_under_30_movies_Bottom100 = categoryCountDF(df_under_30_and_30,'bottom')\n",
        "\n",
        "# only over 30\n",
        "df_over_30_movies_Top100 = categoryCountDF(df_over_30,'top')\n",
        "df_over_30_movies_Bottom100 = categoryCountDF(df_over_30,'bottom')"
      ],
      "execution_count": 98,
      "outputs": []
    },
    {
      "cell_type": "code",
      "metadata": {
        "id": "RHOrjxxr-rQ6"
      },
      "source": [
        "# create histogram for every dataframe of specific population\n",
        "def create_plot_and_display(df_to_show,title):\n",
        "    df_to_show.columns = ['Genre', 'Count']\n",
        "    plt.title(title)\n",
        "    plt.xlabel('Genre Name')\n",
        "    plt.ylabel('Total Movies In This Genre')\n",
        "    y = df_to_show['Count']\n",
        "    x = df_to_show['Genre']\n",
        "    plt.bar(x, y, label='Bar', align='center')\n",
        "    plt.xticks(x,rotation=-90, fontsize=12)\n",
        "    plt.yticks(fontsize=12)\n",
        "    plt.show()\n",
        "    \n",
        "    display(df_to_show)"
      ],
      "execution_count": 99,
      "outputs": []
    },
    {
      "cell_type": "markdown",
      "metadata": {
        "id": "0WTnvVhoJVwb"
      },
      "source": [
        "**category distribution for different populations**"
      ]
    },
    {
      "cell_type": "code",
      "metadata": {
        "colab": {
          "base_uri": "https://localhost:8080/",
          "height": 1000
        },
        "id": "Xkp57_gh-tUJ",
        "outputId": "412d1d18-a8c7-42f6-fa22-071caa7f905c"
      },
      "source": [
        "# create and show histogram for all data top 100 and bottom 100\n",
        "create_plot_and_display(df_movies_Top100,'General Movies Top Rating')\n",
        "create_plot_and_display(df_movies_Bottom100,'General Movies Bottom Rating')\n",
        "\n",
        "# create and show histogram foronly females top 100 and bottom 100\n",
        "create_plot_and_display(df_female_movies_Top100,'Female Movies Top Rating')\n",
        "create_plot_and_display(df_female_movies_Bottom100,'Female Movies Bottom Rating')\n",
        "\n",
        "# create and show histogram for only males top 100 and bottom 100\n",
        "create_plot_and_display(df_male_movies_Top100,'Male Movies Top Rating')\n",
        "create_plot_and_display(df_male_movies_Bottom100,'Male Movies Bottom Rating')\n",
        "\n",
        "# create and show histogram for only under 30 and 30 top 100 and bottom 100\n",
        "create_plot_and_display(df_under_30_movies_Top100,'Age 30 and Under Age 30 Movies Top Rating')\n",
        "create_plot_and_display(df_under_30_movies_Bottom100,'Age 30 and Under Age 30 Movies Bottom Rating')\n",
        "\n",
        "# create and show histogram for only over 30 top 100 and bottom 100\n",
        "create_plot_and_display(df_over_30_movies_Top100,'Over Age 30 Movies Top Rating')\n",
        "create_plot_and_display(df_over_30_movies_Bottom100,'Over Age 30 Movies Bottom Rating')\n",
        "\n"
      ],
      "execution_count": 100,
      "outputs": [
        {
          "output_type": "display_data",
          "data": {
            "image/png": "[encoded data removed]",
            "text/plain": [
              "<Figure size 432x288 with 1 Axes>"
            ]
          },
          "metadata": {
            "tags": [],
            "needs_background": "light"
          }
        },
        {
          "output_type": "display_data",
          "data": {
            "text/html": [
              "<div>\n",
              "<style scoped>\n",
              "    .dataframe tbody tr th:only-of-type {\n",
              "        vertical-align: middle;\n",
              "    }\n",
              "\n",
              "    .dataframe tbody tr th {\n",
              "        vertical-align: top;\n",
              "    }\n",
              "\n",
              "    .dataframe thead th {\n",
              "        text-align: right;\n",
              "    }\n",
              "</style>\n",
              "<table border=\"1\" class=\"dataframe\">\n",
              "  <thead>\n",
              "    <tr style=\"text-align: right;\">\n",
              "      <th></th>\n",
              "      <th>Genre</th>\n",
              "      <th>Count</th>\n",
              "    </tr>\n",
              "  </thead>\n",
              "  <tbody>\n",
              "    <tr>\n",
              "      <th>8</th>\n",
              "      <td>Drama</td>\n",
              "      <td>54.0</td>\n",
              "    </tr>\n",
              "    <tr>\n",
              "      <th>16</th>\n",
              "      <td>Thriller</td>\n",
              "      <td>19.0</td>\n",
              "    </tr>\n",
              "    <tr>\n",
              "      <th>17</th>\n",
              "      <td>War</td>\n",
              "      <td>16.0</td>\n",
              "    </tr>\n",
              "    <tr>\n",
              "      <th>5</th>\n",
              "      <td>Comedy</td>\n",
              "      <td>15.0</td>\n",
              "    </tr>\n",
              "    <tr>\n",
              "      <th>14</th>\n",
              "      <td>Romance</td>\n",
              "      <td>13.0</td>\n",
              "    </tr>\n",
              "    <tr>\n",
              "      <th>1</th>\n",
              "      <td>Action</td>\n",
              "      <td>11.0</td>\n",
              "    </tr>\n",
              "    <tr>\n",
              "      <th>2</th>\n",
              "      <td>Adventure</td>\n",
              "      <td>10.0</td>\n",
              "    </tr>\n",
              "    <tr>\n",
              "      <th>6</th>\n",
              "      <td>Crime</td>\n",
              "      <td>10.0</td>\n",
              "    </tr>\n",
              "    <tr>\n",
              "      <th>13</th>\n",
              "      <td>Mystery</td>\n",
              "      <td>10.0</td>\n",
              "    </tr>\n",
              "    <tr>\n",
              "      <th>10</th>\n",
              "      <td>Film-Noir</td>\n",
              "      <td>9.0</td>\n",
              "    </tr>\n",
              "    <tr>\n",
              "      <th>15</th>\n",
              "      <td>Sci-Fi</td>\n",
              "      <td>5.0</td>\n",
              "    </tr>\n",
              "    <tr>\n",
              "      <th>3</th>\n",
              "      <td>Animation</td>\n",
              "      <td>5.0</td>\n",
              "    </tr>\n",
              "    <tr>\n",
              "      <th>7</th>\n",
              "      <td>Documentary</td>\n",
              "      <td>5.0</td>\n",
              "    </tr>\n",
              "    <tr>\n",
              "      <th>4</th>\n",
              "      <td>Children</td>\n",
              "      <td>2.0</td>\n",
              "    </tr>\n",
              "    <tr>\n",
              "      <th>9</th>\n",
              "      <td>Fantasy</td>\n",
              "      <td>1.0</td>\n",
              "    </tr>\n",
              "    <tr>\n",
              "      <th>18</th>\n",
              "      <td>Western</td>\n",
              "      <td>1.0</td>\n",
              "    </tr>\n",
              "    <tr>\n",
              "      <th>12</th>\n",
              "      <td>Musical</td>\n",
              "      <td>1.0</td>\n",
              "    </tr>\n",
              "    <tr>\n",
              "      <th>11</th>\n",
              "      <td>Horror</td>\n",
              "      <td>1.0</td>\n",
              "    </tr>\n",
              "    <tr>\n",
              "      <th>0</th>\n",
              "      <td>Unknown</td>\n",
              "      <td>0.0</td>\n",
              "    </tr>\n",
              "  </tbody>\n",
              "</table>\n",
              "</div>"
            ],
            "text/plain": [
              "          Genre  Count\n",
              "8         Drama   54.0\n",
              "16     Thriller   19.0\n",
              "17          War   16.0\n",
              "5        Comedy   15.0\n",
              "14      Romance   13.0\n",
              "1        Action   11.0\n",
              "2     Adventure   10.0\n",
              "6         Crime   10.0\n",
              "13      Mystery   10.0\n",
              "10    Film-Noir    9.0\n",
              "15       Sci-Fi    5.0\n",
              "3     Animation    5.0\n",
              "7   Documentary    5.0\n",
              "4      Children    2.0\n",
              "9       Fantasy    1.0\n",
              "18      Western    1.0\n",
              "12      Musical    1.0\n",
              "11       Horror    1.0\n",
              "0       Unknown    0.0"
            ]
          },
          "metadata": {
            "tags": []
          }
        },
        {
          "output_type": "display_data",
          "data": {
            "image/png": "[encoded data removed]",
            "text/plain": [
              "<Figure size 432x288 with 1 Axes>"
            ]
          },
          "metadata": {
            "tags": [],
            "needs_background": "light"
          }
        },
        {
          "output_type": "display_data",
          "data": {
            "text/html": [
              "<div>\n",
              "<style scoped>\n",
              "    .dataframe tbody tr th:only-of-type {\n",
              "        vertical-align: middle;\n",
              "    }\n",
              "\n",
              "    .dataframe tbody tr th {\n",
              "        vertical-align: top;\n",
              "    }\n",
              "\n",
              "    .dataframe thead th {\n",
              "        text-align: right;\n",
              "    }\n",
              "</style>\n",
              "<table border=\"1\" class=\"dataframe\">\n",
              "  <thead>\n",
              "    <tr style=\"text-align: right;\">\n",
              "      <th></th>\n",
              "      <th>Genre</th>\n",
              "      <th>Count</th>\n",
              "    </tr>\n",
              "  </thead>\n",
              "  <tbody>\n",
              "    <tr>\n",
              "      <th>8</th>\n",
              "      <td>Drama</td>\n",
              "      <td>41.0</td>\n",
              "    </tr>\n",
              "    <tr>\n",
              "      <th>5</th>\n",
              "      <td>Comedy</td>\n",
              "      <td>24.0</td>\n",
              "    </tr>\n",
              "    <tr>\n",
              "      <th>1</th>\n",
              "      <td>Action</td>\n",
              "      <td>12.0</td>\n",
              "    </tr>\n",
              "    <tr>\n",
              "      <th>11</th>\n",
              "      <td>Horror</td>\n",
              "      <td>12.0</td>\n",
              "    </tr>\n",
              "    <tr>\n",
              "      <th>16</th>\n",
              "      <td>Thriller</td>\n",
              "      <td>9.0</td>\n",
              "    </tr>\n",
              "    <tr>\n",
              "      <th>14</th>\n",
              "      <td>Romance</td>\n",
              "      <td>8.0</td>\n",
              "    </tr>\n",
              "    <tr>\n",
              "      <th>7</th>\n",
              "      <td>Documentary</td>\n",
              "      <td>6.0</td>\n",
              "    </tr>\n",
              "    <tr>\n",
              "      <th>4</th>\n",
              "      <td>Children</td>\n",
              "      <td>3.0</td>\n",
              "    </tr>\n",
              "    <tr>\n",
              "      <th>9</th>\n",
              "      <td>Fantasy</td>\n",
              "      <td>2.0</td>\n",
              "    </tr>\n",
              "    <tr>\n",
              "      <th>13</th>\n",
              "      <td>Mystery</td>\n",
              "      <td>2.0</td>\n",
              "    </tr>\n",
              "    <tr>\n",
              "      <th>6</th>\n",
              "      <td>Crime</td>\n",
              "      <td>2.0</td>\n",
              "    </tr>\n",
              "    <tr>\n",
              "      <th>17</th>\n",
              "      <td>War</td>\n",
              "      <td>1.0</td>\n",
              "    </tr>\n",
              "    <tr>\n",
              "      <th>15</th>\n",
              "      <td>Sci-Fi</td>\n",
              "      <td>1.0</td>\n",
              "    </tr>\n",
              "    <tr>\n",
              "      <th>0</th>\n",
              "      <td>Unknown</td>\n",
              "      <td>1.0</td>\n",
              "    </tr>\n",
              "    <tr>\n",
              "      <th>10</th>\n",
              "      <td>Film-Noir</td>\n",
              "      <td>1.0</td>\n",
              "    </tr>\n",
              "    <tr>\n",
              "      <th>3</th>\n",
              "      <td>Animation</td>\n",
              "      <td>1.0</td>\n",
              "    </tr>\n",
              "    <tr>\n",
              "      <th>2</th>\n",
              "      <td>Adventure</td>\n",
              "      <td>1.0</td>\n",
              "    </tr>\n",
              "    <tr>\n",
              "      <th>18</th>\n",
              "      <td>Western</td>\n",
              "      <td>1.0</td>\n",
              "    </tr>\n",
              "    <tr>\n",
              "      <th>12</th>\n",
              "      <td>Musical</td>\n",
              "      <td>0.0</td>\n",
              "    </tr>\n",
              "  </tbody>\n",
              "</table>\n",
              "</div>"
            ],
            "text/plain": [
              "          Genre  Count\n",
              "8         Drama   41.0\n",
              "5        Comedy   24.0\n",
              "1        Action   12.0\n",
              "11       Horror   12.0\n",
              "16     Thriller    9.0\n",
              "14      Romance    8.0\n",
              "7   Documentary    6.0\n",
              "4      Children    3.0\n",
              "9       Fantasy    2.0\n",
              "13      Mystery    2.0\n",
              "6         Crime    2.0\n",
              "17          War    1.0\n",
              "15       Sci-Fi    1.0\n",
              "0       Unknown    1.0\n",
              "10    Film-Noir    1.0\n",
              "3     Animation    1.0\n",
              "2     Adventure    1.0\n",
              "18      Western    1.0\n",
              "12      Musical    0.0"
            ]
          },
          "metadata": {
            "tags": []
          }
        },
        {
          "output_type": "display_data",
          "data": {
            "image/png": "[encoded data removed]",
            "text/plain": [
              "<Figure size 432x288 with 1 Axes>"
            ]
          },
          "metadata": {
            "tags": [],
            "needs_background": "light"
          }
        },
        {
          "output_type": "display_data",
          "data": {
            "text/html": [
              "<div>\n",
              "<style scoped>\n",
              "    .dataframe tbody tr th:only-of-type {\n",
              "        vertical-align: middle;\n",
              "    }\n",
              "\n",
              "    .dataframe tbody tr th {\n",
              "        vertical-align: top;\n",
              "    }\n",
              "\n",
              "    .dataframe thead th {\n",
              "        text-align: right;\n",
              "    }\n",
              "</style>\n",
              "<table border=\"1\" class=\"dataframe\">\n",
              "  <thead>\n",
              "    <tr style=\"text-align: right;\">\n",
              "      <th></th>\n",
              "      <th>Genre</th>\n",
              "      <th>Count</th>\n",
              "    </tr>\n",
              "  </thead>\n",
              "  <tbody>\n",
              "    <tr>\n",
              "      <th>8</th>\n",
              "      <td>Drama</td>\n",
              "      <td>52.0</td>\n",
              "    </tr>\n",
              "    <tr>\n",
              "      <th>5</th>\n",
              "      <td>Comedy</td>\n",
              "      <td>26.0</td>\n",
              "    </tr>\n",
              "    <tr>\n",
              "      <th>14</th>\n",
              "      <td>Romance</td>\n",
              "      <td>21.0</td>\n",
              "    </tr>\n",
              "    <tr>\n",
              "      <th>16</th>\n",
              "      <td>Thriller</td>\n",
              "      <td>16.0</td>\n",
              "    </tr>\n",
              "    <tr>\n",
              "      <th>17</th>\n",
              "      <td>War</td>\n",
              "      <td>9.0</td>\n",
              "    </tr>\n",
              "    <tr>\n",
              "      <th>1</th>\n",
              "      <td>Action</td>\n",
              "      <td>9.0</td>\n",
              "    </tr>\n",
              "    <tr>\n",
              "      <th>7</th>\n",
              "      <td>Documentary</td>\n",
              "      <td>7.0</td>\n",
              "    </tr>\n",
              "    <tr>\n",
              "      <th>12</th>\n",
              "      <td>Musical</td>\n",
              "      <td>6.0</td>\n",
              "    </tr>\n",
              "    <tr>\n",
              "      <th>13</th>\n",
              "      <td>Mystery</td>\n",
              "      <td>5.0</td>\n",
              "    </tr>\n",
              "    <tr>\n",
              "      <th>3</th>\n",
              "      <td>Animation</td>\n",
              "      <td>4.0</td>\n",
              "    </tr>\n",
              "    <tr>\n",
              "      <th>6</th>\n",
              "      <td>Crime</td>\n",
              "      <td>4.0</td>\n",
              "    </tr>\n",
              "    <tr>\n",
              "      <th>10</th>\n",
              "      <td>Film-Noir</td>\n",
              "      <td>3.0</td>\n",
              "    </tr>\n",
              "    <tr>\n",
              "      <th>15</th>\n",
              "      <td>Sci-Fi</td>\n",
              "      <td>3.0</td>\n",
              "    </tr>\n",
              "    <tr>\n",
              "      <th>2</th>\n",
              "      <td>Adventure</td>\n",
              "      <td>2.0</td>\n",
              "    </tr>\n",
              "    <tr>\n",
              "      <th>4</th>\n",
              "      <td>Children</td>\n",
              "      <td>1.0</td>\n",
              "    </tr>\n",
              "    <tr>\n",
              "      <th>11</th>\n",
              "      <td>Horror</td>\n",
              "      <td>1.0</td>\n",
              "    </tr>\n",
              "    <tr>\n",
              "      <th>18</th>\n",
              "      <td>Western</td>\n",
              "      <td>1.0</td>\n",
              "    </tr>\n",
              "    <tr>\n",
              "      <th>0</th>\n",
              "      <td>Unknown</td>\n",
              "      <td>0.0</td>\n",
              "    </tr>\n",
              "    <tr>\n",
              "      <th>9</th>\n",
              "      <td>Fantasy</td>\n",
              "      <td>0.0</td>\n",
              "    </tr>\n",
              "  </tbody>\n",
              "</table>\n",
              "</div>"
            ],
            "text/plain": [
              "          Genre  Count\n",
              "8         Drama   52.0\n",
              "5        Comedy   26.0\n",
              "14      Romance   21.0\n",
              "16     Thriller   16.0\n",
              "17          War    9.0\n",
              "1        Action    9.0\n",
              "7   Documentary    7.0\n",
              "12      Musical    6.0\n",
              "13      Mystery    5.0\n",
              "3     Animation    4.0\n",
              "6         Crime    4.0\n",
              "10    Film-Noir    3.0\n",
              "15       Sci-Fi    3.0\n",
              "2     Adventure    2.0\n",
              "4      Children    1.0\n",
              "11       Horror    1.0\n",
              "18      Western    1.0\n",
              "0       Unknown    0.0\n",
              "9       Fantasy    0.0"
            ]
          },
          "metadata": {
            "tags": []
          }
        },
        {
          "output_type": "display_data",
          "data": {
            "image/png": "[encoded data removed]",
            "text/plain": [
              "<Figure size 432x288 with 1 Axes>"
            ]
          },
          "metadata": {
            "tags": [],
            "needs_background": "light"
          }
        },
        {
          "output_type": "display_data",
          "data": {
            "text/html": [
              "<div>\n",
              "<style scoped>\n",
              "    .dataframe tbody tr th:only-of-type {\n",
              "        vertical-align: middle;\n",
              "    }\n",
              "\n",
              "    .dataframe tbody tr th {\n",
              "        vertical-align: top;\n",
              "    }\n",
              "\n",
              "    .dataframe thead th {\n",
              "        text-align: right;\n",
              "    }\n",
              "</style>\n",
              "<table border=\"1\" class=\"dataframe\">\n",
              "  <thead>\n",
              "    <tr style=\"text-align: right;\">\n",
              "      <th></th>\n",
              "      <th>Genre</th>\n",
              "      <th>Count</th>\n",
              "    </tr>\n",
              "  </thead>\n",
              "  <tbody>\n",
              "    <tr>\n",
              "      <th>8</th>\n",
              "      <td>Drama</td>\n",
              "      <td>42.0</td>\n",
              "    </tr>\n",
              "    <tr>\n",
              "      <th>5</th>\n",
              "      <td>Comedy</td>\n",
              "      <td>21.0</td>\n",
              "    </tr>\n",
              "    <tr>\n",
              "      <th>11</th>\n",
              "      <td>Horror</td>\n",
              "      <td>14.0</td>\n",
              "    </tr>\n",
              "    <tr>\n",
              "      <th>1</th>\n",
              "      <td>Action</td>\n",
              "      <td>13.0</td>\n",
              "    </tr>\n",
              "    <tr>\n",
              "      <th>14</th>\n",
              "      <td>Romance</td>\n",
              "      <td>12.0</td>\n",
              "    </tr>\n",
              "    <tr>\n",
              "      <th>7</th>\n",
              "      <td>Documentary</td>\n",
              "      <td>6.0</td>\n",
              "    </tr>\n",
              "    <tr>\n",
              "      <th>4</th>\n",
              "      <td>Children</td>\n",
              "      <td>5.0</td>\n",
              "    </tr>\n",
              "    <tr>\n",
              "      <th>16</th>\n",
              "      <td>Thriller</td>\n",
              "      <td>5.0</td>\n",
              "    </tr>\n",
              "    <tr>\n",
              "      <th>17</th>\n",
              "      <td>War</td>\n",
              "      <td>4.0</td>\n",
              "    </tr>\n",
              "    <tr>\n",
              "      <th>18</th>\n",
              "      <td>Western</td>\n",
              "      <td>3.0</td>\n",
              "    </tr>\n",
              "    <tr>\n",
              "      <th>6</th>\n",
              "      <td>Crime</td>\n",
              "      <td>3.0</td>\n",
              "    </tr>\n",
              "    <tr>\n",
              "      <th>2</th>\n",
              "      <td>Adventure</td>\n",
              "      <td>2.0</td>\n",
              "    </tr>\n",
              "    <tr>\n",
              "      <th>15</th>\n",
              "      <td>Sci-Fi</td>\n",
              "      <td>2.0</td>\n",
              "    </tr>\n",
              "    <tr>\n",
              "      <th>13</th>\n",
              "      <td>Mystery</td>\n",
              "      <td>2.0</td>\n",
              "    </tr>\n",
              "    <tr>\n",
              "      <th>9</th>\n",
              "      <td>Fantasy</td>\n",
              "      <td>1.0</td>\n",
              "    </tr>\n",
              "    <tr>\n",
              "      <th>10</th>\n",
              "      <td>Film-Noir</td>\n",
              "      <td>1.0</td>\n",
              "    </tr>\n",
              "    <tr>\n",
              "      <th>3</th>\n",
              "      <td>Animation</td>\n",
              "      <td>1.0</td>\n",
              "    </tr>\n",
              "    <tr>\n",
              "      <th>12</th>\n",
              "      <td>Musical</td>\n",
              "      <td>0.0</td>\n",
              "    </tr>\n",
              "    <tr>\n",
              "      <th>0</th>\n",
              "      <td>Unknown</td>\n",
              "      <td>0.0</td>\n",
              "    </tr>\n",
              "  </tbody>\n",
              "</table>\n",
              "</div>"
            ],
            "text/plain": [
              "          Genre  Count\n",
              "8         Drama   42.0\n",
              "5        Comedy   21.0\n",
              "11       Horror   14.0\n",
              "1        Action   13.0\n",
              "14      Romance   12.0\n",
              "7   Documentary    6.0\n",
              "4      Children    5.0\n",
              "16     Thriller    5.0\n",
              "17          War    4.0\n",
              "18      Western    3.0\n",
              "6         Crime    3.0\n",
              "2     Adventure    2.0\n",
              "15       Sci-Fi    2.0\n",
              "13      Mystery    2.0\n",
              "9       Fantasy    1.0\n",
              "10    Film-Noir    1.0\n",
              "3     Animation    1.0\n",
              "12      Musical    0.0\n",
              "0       Unknown    0.0"
            ]
          },
          "metadata": {
            "tags": []
          }
        },
        {
          "output_type": "display_data",
          "data": {
            "image/png": "[encoded data removed]",
            "text/plain": [
              "<Figure size 432x288 with 1 Axes>"
            ]
          },
          "metadata": {
            "tags": [],
            "needs_background": "light"
          }
        },
        {
          "output_type": "display_data",
          "data": {
            "text/html": [
              "<div>\n",
              "<style scoped>\n",
              "    .dataframe tbody tr th:only-of-type {\n",
              "        vertical-align: middle;\n",
              "    }\n",
              "\n",
              "    .dataframe tbody tr th {\n",
              "        vertical-align: top;\n",
              "    }\n",
              "\n",
              "    .dataframe thead th {\n",
              "        text-align: right;\n",
              "    }\n",
              "</style>\n",
              "<table border=\"1\" class=\"dataframe\">\n",
              "  <thead>\n",
              "    <tr style=\"text-align: right;\">\n",
              "      <th></th>\n",
              "      <th>Genre</th>\n",
              "      <th>Count</th>\n",
              "    </tr>\n",
              "  </thead>\n",
              "  <tbody>\n",
              "    <tr>\n",
              "      <th>8</th>\n",
              "      <td>Drama</td>\n",
              "      <td>55.0</td>\n",
              "    </tr>\n",
              "    <tr>\n",
              "      <th>16</th>\n",
              "      <td>Thriller</td>\n",
              "      <td>18.0</td>\n",
              "    </tr>\n",
              "    <tr>\n",
              "      <th>17</th>\n",
              "      <td>War</td>\n",
              "      <td>14.0</td>\n",
              "    </tr>\n",
              "    <tr>\n",
              "      <th>5</th>\n",
              "      <td>Comedy</td>\n",
              "      <td>13.0</td>\n",
              "    </tr>\n",
              "    <tr>\n",
              "      <th>6</th>\n",
              "      <td>Crime</td>\n",
              "      <td>12.0</td>\n",
              "    </tr>\n",
              "    <tr>\n",
              "      <th>1</th>\n",
              "      <td>Action</td>\n",
              "      <td>10.0</td>\n",
              "    </tr>\n",
              "    <tr>\n",
              "      <th>10</th>\n",
              "      <td>Film-Noir</td>\n",
              "      <td>10.0</td>\n",
              "    </tr>\n",
              "    <tr>\n",
              "      <th>2</th>\n",
              "      <td>Adventure</td>\n",
              "      <td>9.0</td>\n",
              "    </tr>\n",
              "    <tr>\n",
              "      <th>13</th>\n",
              "      <td>Mystery</td>\n",
              "      <td>9.0</td>\n",
              "    </tr>\n",
              "    <tr>\n",
              "      <th>14</th>\n",
              "      <td>Romance</td>\n",
              "      <td>9.0</td>\n",
              "    </tr>\n",
              "    <tr>\n",
              "      <th>15</th>\n",
              "      <td>Sci-Fi</td>\n",
              "      <td>5.0</td>\n",
              "    </tr>\n",
              "    <tr>\n",
              "      <th>3</th>\n",
              "      <td>Animation</td>\n",
              "      <td>4.0</td>\n",
              "    </tr>\n",
              "    <tr>\n",
              "      <th>7</th>\n",
              "      <td>Documentary</td>\n",
              "      <td>4.0</td>\n",
              "    </tr>\n",
              "    <tr>\n",
              "      <th>4</th>\n",
              "      <td>Children</td>\n",
              "      <td>2.0</td>\n",
              "    </tr>\n",
              "    <tr>\n",
              "      <th>9</th>\n",
              "      <td>Fantasy</td>\n",
              "      <td>1.0</td>\n",
              "    </tr>\n",
              "    <tr>\n",
              "      <th>18</th>\n",
              "      <td>Western</td>\n",
              "      <td>1.0</td>\n",
              "    </tr>\n",
              "    <tr>\n",
              "      <th>12</th>\n",
              "      <td>Musical</td>\n",
              "      <td>0.0</td>\n",
              "    </tr>\n",
              "    <tr>\n",
              "      <th>11</th>\n",
              "      <td>Horror</td>\n",
              "      <td>0.0</td>\n",
              "    </tr>\n",
              "    <tr>\n",
              "      <th>0</th>\n",
              "      <td>Unknown</td>\n",
              "      <td>0.0</td>\n",
              "    </tr>\n",
              "  </tbody>\n",
              "</table>\n",
              "</div>"
            ],
            "text/plain": [
              "          Genre  Count\n",
              "8         Drama   55.0\n",
              "16     Thriller   18.0\n",
              "17          War   14.0\n",
              "5        Comedy   13.0\n",
              "6         Crime   12.0\n",
              "1        Action   10.0\n",
              "10    Film-Noir   10.0\n",
              "2     Adventure    9.0\n",
              "13      Mystery    9.0\n",
              "14      Romance    9.0\n",
              "15       Sci-Fi    5.0\n",
              "3     Animation    4.0\n",
              "7   Documentary    4.0\n",
              "4      Children    2.0\n",
              "9       Fantasy    1.0\n",
              "18      Western    1.0\n",
              "12      Musical    0.0\n",
              "11       Horror    0.0\n",
              "0       Unknown    0.0"
            ]
          },
          "metadata": {
            "tags": []
          }
        },
        {
          "output_type": "display_data",
          "data": {
            "image/png": "[encoded data removed]",
            "text/plain": [
              "<Figure size 432x288 with 1 Axes>"
            ]
          },
          "metadata": {
            "tags": [],
            "needs_background": "light"
          }
        },
        {
          "output_type": "display_data",
          "data": {
            "text/html": [
              "<div>\n",
              "<style scoped>\n",
              "    .dataframe tbody tr th:only-of-type {\n",
              "        vertical-align: middle;\n",
              "    }\n",
              "\n",
              "    .dataframe tbody tr th {\n",
              "        vertical-align: top;\n",
              "    }\n",
              "\n",
              "    .dataframe thead th {\n",
              "        text-align: right;\n",
              "    }\n",
              "</style>\n",
              "<table border=\"1\" class=\"dataframe\">\n",
              "  <thead>\n",
              "    <tr style=\"text-align: right;\">\n",
              "      <th></th>\n",
              "      <th>Genre</th>\n",
              "      <th>Count</th>\n",
              "    </tr>\n",
              "  </thead>\n",
              "  <tbody>\n",
              "    <tr>\n",
              "      <th>8</th>\n",
              "      <td>Drama</td>\n",
              "      <td>39.0</td>\n",
              "    </tr>\n",
              "    <tr>\n",
              "      <th>5</th>\n",
              "      <td>Comedy</td>\n",
              "      <td>30.0</td>\n",
              "    </tr>\n",
              "    <tr>\n",
              "      <th>11</th>\n",
              "      <td>Horror</td>\n",
              "      <td>13.0</td>\n",
              "    </tr>\n",
              "    <tr>\n",
              "      <th>16</th>\n",
              "      <td>Thriller</td>\n",
              "      <td>10.0</td>\n",
              "    </tr>\n",
              "    <tr>\n",
              "      <th>1</th>\n",
              "      <td>Action</td>\n",
              "      <td>10.0</td>\n",
              "    </tr>\n",
              "    <tr>\n",
              "      <th>14</th>\n",
              "      <td>Romance</td>\n",
              "      <td>9.0</td>\n",
              "    </tr>\n",
              "    <tr>\n",
              "      <th>4</th>\n",
              "      <td>Children</td>\n",
              "      <td>9.0</td>\n",
              "    </tr>\n",
              "    <tr>\n",
              "      <th>2</th>\n",
              "      <td>Adventure</td>\n",
              "      <td>5.0</td>\n",
              "    </tr>\n",
              "    <tr>\n",
              "      <th>15</th>\n",
              "      <td>Sci-Fi</td>\n",
              "      <td>4.0</td>\n",
              "    </tr>\n",
              "    <tr>\n",
              "      <th>7</th>\n",
              "      <td>Documentary</td>\n",
              "      <td>3.0</td>\n",
              "    </tr>\n",
              "    <tr>\n",
              "      <th>9</th>\n",
              "      <td>Fantasy</td>\n",
              "      <td>2.0</td>\n",
              "    </tr>\n",
              "    <tr>\n",
              "      <th>6</th>\n",
              "      <td>Crime</td>\n",
              "      <td>2.0</td>\n",
              "    </tr>\n",
              "    <tr>\n",
              "      <th>12</th>\n",
              "      <td>Musical</td>\n",
              "      <td>2.0</td>\n",
              "    </tr>\n",
              "    <tr>\n",
              "      <th>0</th>\n",
              "      <td>Unknown</td>\n",
              "      <td>1.0</td>\n",
              "    </tr>\n",
              "    <tr>\n",
              "      <th>13</th>\n",
              "      <td>Mystery</td>\n",
              "      <td>1.0</td>\n",
              "    </tr>\n",
              "    <tr>\n",
              "      <th>3</th>\n",
              "      <td>Animation</td>\n",
              "      <td>1.0</td>\n",
              "    </tr>\n",
              "    <tr>\n",
              "      <th>18</th>\n",
              "      <td>Western</td>\n",
              "      <td>1.0</td>\n",
              "    </tr>\n",
              "    <tr>\n",
              "      <th>10</th>\n",
              "      <td>Film-Noir</td>\n",
              "      <td>0.0</td>\n",
              "    </tr>\n",
              "    <tr>\n",
              "      <th>17</th>\n",
              "      <td>War</td>\n",
              "      <td>0.0</td>\n",
              "    </tr>\n",
              "  </tbody>\n",
              "</table>\n",
              "</div>"
            ],
            "text/plain": [
              "          Genre  Count\n",
              "8         Drama   39.0\n",
              "5        Comedy   30.0\n",
              "11       Horror   13.0\n",
              "16     Thriller   10.0\n",
              "1        Action   10.0\n",
              "14      Romance    9.0\n",
              "4      Children    9.0\n",
              "2     Adventure    5.0\n",
              "15       Sci-Fi    4.0\n",
              "7   Documentary    3.0\n",
              "9       Fantasy    2.0\n",
              "6         Crime    2.0\n",
              "12      Musical    2.0\n",
              "0       Unknown    1.0\n",
              "13      Mystery    1.0\n",
              "3     Animation    1.0\n",
              "18      Western    1.0\n",
              "10    Film-Noir    0.0\n",
              "17          War    0.0"
            ]
          },
          "metadata": {
            "tags": []
          }
        },
        {
          "output_type": "display_data",
          "data": {
            "image/png": "[encoded data removed]",
            "text/plain": [
              "<Figure size 432x288 with 1 Axes>"
            ]
          },
          "metadata": {
            "tags": [],
            "needs_background": "light"
          }
        },
        {
          "output_type": "display_data",
          "data": {
            "text/html": [
              "<div>\n",
              "<style scoped>\n",
              "    .dataframe tbody tr th:only-of-type {\n",
              "        vertical-align: middle;\n",
              "    }\n",
              "\n",
              "    .dataframe tbody tr th {\n",
              "        vertical-align: top;\n",
              "    }\n",
              "\n",
              "    .dataframe thead th {\n",
              "        text-align: right;\n",
              "    }\n",
              "</style>\n",
              "<table border=\"1\" class=\"dataframe\">\n",
              "  <thead>\n",
              "    <tr style=\"text-align: right;\">\n",
              "      <th></th>\n",
              "      <th>Genre</th>\n",
              "      <th>Count</th>\n",
              "    </tr>\n",
              "  </thead>\n",
              "  <tbody>\n",
              "    <tr>\n",
              "      <th>8</th>\n",
              "      <td>Drama</td>\n",
              "      <td>51.0</td>\n",
              "    </tr>\n",
              "    <tr>\n",
              "      <th>14</th>\n",
              "      <td>Romance</td>\n",
              "      <td>19.0</td>\n",
              "    </tr>\n",
              "    <tr>\n",
              "      <th>16</th>\n",
              "      <td>Thriller</td>\n",
              "      <td>19.0</td>\n",
              "    </tr>\n",
              "    <tr>\n",
              "      <th>5</th>\n",
              "      <td>Comedy</td>\n",
              "      <td>18.0</td>\n",
              "    </tr>\n",
              "    <tr>\n",
              "      <th>17</th>\n",
              "      <td>War</td>\n",
              "      <td>15.0</td>\n",
              "    </tr>\n",
              "    <tr>\n",
              "      <th>1</th>\n",
              "      <td>Action</td>\n",
              "      <td>12.0</td>\n",
              "    </tr>\n",
              "    <tr>\n",
              "      <th>13</th>\n",
              "      <td>Mystery</td>\n",
              "      <td>9.0</td>\n",
              "    </tr>\n",
              "    <tr>\n",
              "      <th>6</th>\n",
              "      <td>Crime</td>\n",
              "      <td>8.0</td>\n",
              "    </tr>\n",
              "    <tr>\n",
              "      <th>2</th>\n",
              "      <td>Adventure</td>\n",
              "      <td>8.0</td>\n",
              "    </tr>\n",
              "    <tr>\n",
              "      <th>15</th>\n",
              "      <td>Sci-Fi</td>\n",
              "      <td>8.0</td>\n",
              "    </tr>\n",
              "    <tr>\n",
              "      <th>7</th>\n",
              "      <td>Documentary</td>\n",
              "      <td>7.0</td>\n",
              "    </tr>\n",
              "    <tr>\n",
              "      <th>10</th>\n",
              "      <td>Film-Noir</td>\n",
              "      <td>6.0</td>\n",
              "    </tr>\n",
              "    <tr>\n",
              "      <th>3</th>\n",
              "      <td>Animation</td>\n",
              "      <td>3.0</td>\n",
              "    </tr>\n",
              "    <tr>\n",
              "      <th>11</th>\n",
              "      <td>Horror</td>\n",
              "      <td>2.0</td>\n",
              "    </tr>\n",
              "    <tr>\n",
              "      <th>4</th>\n",
              "      <td>Children</td>\n",
              "      <td>1.0</td>\n",
              "    </tr>\n",
              "    <tr>\n",
              "      <th>12</th>\n",
              "      <td>Musical</td>\n",
              "      <td>1.0</td>\n",
              "    </tr>\n",
              "    <tr>\n",
              "      <th>9</th>\n",
              "      <td>Fantasy</td>\n",
              "      <td>1.0</td>\n",
              "    </tr>\n",
              "    <tr>\n",
              "      <th>0</th>\n",
              "      <td>Unknown</td>\n",
              "      <td>0.0</td>\n",
              "    </tr>\n",
              "    <tr>\n",
              "      <th>18</th>\n",
              "      <td>Western</td>\n",
              "      <td>0.0</td>\n",
              "    </tr>\n",
              "  </tbody>\n",
              "</table>\n",
              "</div>"
            ],
            "text/plain": [
              "          Genre  Count\n",
              "8         Drama   51.0\n",
              "14      Romance   19.0\n",
              "16     Thriller   19.0\n",
              "5        Comedy   18.0\n",
              "17          War   15.0\n",
              "1        Action   12.0\n",
              "13      Mystery    9.0\n",
              "6         Crime    8.0\n",
              "2     Adventure    8.0\n",
              "15       Sci-Fi    8.0\n",
              "7   Documentary    7.0\n",
              "10    Film-Noir    6.0\n",
              "3     Animation    3.0\n",
              "11       Horror    2.0\n",
              "4      Children    1.0\n",
              "12      Musical    1.0\n",
              "9       Fantasy    1.0\n",
              "0       Unknown    0.0\n",
              "18      Western    0.0"
            ]
          },
          "metadata": {
            "tags": []
          }
        },
        {
          "output_type": "display_data",
          "data": {
            "image/png": "[encoded data removed]",
            "text/plain": [
              "<Figure size 432x288 with 1 Axes>"
            ]
          },
          "metadata": {
            "tags": [],
            "needs_background": "light"
          }
        },
        {
          "output_type": "display_data",
          "data": {
            "text/html": [
              "<div>\n",
              "<style scoped>\n",
              "    .dataframe tbody tr th:only-of-type {\n",
              "        vertical-align: middle;\n",
              "    }\n",
              "\n",
              "    .dataframe tbody tr th {\n",
              "        vertical-align: top;\n",
              "    }\n",
              "\n",
              "    .dataframe thead th {\n",
              "        text-align: right;\n",
              "    }\n",
              "</style>\n",
              "<table border=\"1\" class=\"dataframe\">\n",
              "  <thead>\n",
              "    <tr style=\"text-align: right;\">\n",
              "      <th></th>\n",
              "      <th>Genre</th>\n",
              "      <th>Count</th>\n",
              "    </tr>\n",
              "  </thead>\n",
              "  <tbody>\n",
              "    <tr>\n",
              "      <th>8</th>\n",
              "      <td>Drama</td>\n",
              "      <td>57.0</td>\n",
              "    </tr>\n",
              "    <tr>\n",
              "      <th>5</th>\n",
              "      <td>Comedy</td>\n",
              "      <td>19.0</td>\n",
              "    </tr>\n",
              "    <tr>\n",
              "      <th>1</th>\n",
              "      <td>Action</td>\n",
              "      <td>10.0</td>\n",
              "    </tr>\n",
              "    <tr>\n",
              "      <th>14</th>\n",
              "      <td>Romance</td>\n",
              "      <td>8.0</td>\n",
              "    </tr>\n",
              "    <tr>\n",
              "      <th>7</th>\n",
              "      <td>Documentary</td>\n",
              "      <td>7.0</td>\n",
              "    </tr>\n",
              "    <tr>\n",
              "      <th>16</th>\n",
              "      <td>Thriller</td>\n",
              "      <td>6.0</td>\n",
              "    </tr>\n",
              "    <tr>\n",
              "      <th>11</th>\n",
              "      <td>Horror</td>\n",
              "      <td>5.0</td>\n",
              "    </tr>\n",
              "    <tr>\n",
              "      <th>6</th>\n",
              "      <td>Crime</td>\n",
              "      <td>4.0</td>\n",
              "    </tr>\n",
              "    <tr>\n",
              "      <th>4</th>\n",
              "      <td>Children</td>\n",
              "      <td>3.0</td>\n",
              "    </tr>\n",
              "    <tr>\n",
              "      <th>0</th>\n",
              "      <td>Unknown</td>\n",
              "      <td>1.0</td>\n",
              "    </tr>\n",
              "    <tr>\n",
              "      <th>13</th>\n",
              "      <td>Mystery</td>\n",
              "      <td>1.0</td>\n",
              "    </tr>\n",
              "    <tr>\n",
              "      <th>17</th>\n",
              "      <td>War</td>\n",
              "      <td>1.0</td>\n",
              "    </tr>\n",
              "    <tr>\n",
              "      <th>9</th>\n",
              "      <td>Fantasy</td>\n",
              "      <td>1.0</td>\n",
              "    </tr>\n",
              "    <tr>\n",
              "      <th>18</th>\n",
              "      <td>Western</td>\n",
              "      <td>1.0</td>\n",
              "    </tr>\n",
              "    <tr>\n",
              "      <th>12</th>\n",
              "      <td>Musical</td>\n",
              "      <td>0.0</td>\n",
              "    </tr>\n",
              "    <tr>\n",
              "      <th>10</th>\n",
              "      <td>Film-Noir</td>\n",
              "      <td>0.0</td>\n",
              "    </tr>\n",
              "    <tr>\n",
              "      <th>15</th>\n",
              "      <td>Sci-Fi</td>\n",
              "      <td>0.0</td>\n",
              "    </tr>\n",
              "    <tr>\n",
              "      <th>3</th>\n",
              "      <td>Animation</td>\n",
              "      <td>0.0</td>\n",
              "    </tr>\n",
              "    <tr>\n",
              "      <th>2</th>\n",
              "      <td>Adventure</td>\n",
              "      <td>0.0</td>\n",
              "    </tr>\n",
              "  </tbody>\n",
              "</table>\n",
              "</div>"
            ],
            "text/plain": [
              "          Genre  Count\n",
              "8         Drama   57.0\n",
              "5        Comedy   19.0\n",
              "1        Action   10.0\n",
              "14      Romance    8.0\n",
              "7   Documentary    7.0\n",
              "16     Thriller    6.0\n",
              "11       Horror    5.0\n",
              "6         Crime    4.0\n",
              "4      Children    3.0\n",
              "0       Unknown    1.0\n",
              "13      Mystery    1.0\n",
              "17          War    1.0\n",
              "9       Fantasy    1.0\n",
              "18      Western    1.0\n",
              "12      Musical    0.0\n",
              "10    Film-Noir    0.0\n",
              "15       Sci-Fi    0.0\n",
              "3     Animation    0.0\n",
              "2     Adventure    0.0"
            ]
          },
          "metadata": {
            "tags": []
          }
        },
        {
          "output_type": "display_data",
          "data": {
            "image/png": "[encoded data removed]",
            "text/plain": [
              "<Figure size 432x288 with 1 Axes>"
            ]
          },
          "metadata": {
            "tags": [],
            "needs_background": "light"
          }
        },
        {
          "output_type": "display_data",
          "data": {
            "text/html": [
              "<div>\n",
              "<style scoped>\n",
              "    .dataframe tbody tr th:only-of-type {\n",
              "        vertical-align: middle;\n",
              "    }\n",
              "\n",
              "    .dataframe tbody tr th {\n",
              "        vertical-align: top;\n",
              "    }\n",
              "\n",
              "    .dataframe thead th {\n",
              "        text-align: right;\n",
              "    }\n",
              "</style>\n",
              "<table border=\"1\" class=\"dataframe\">\n",
              "  <thead>\n",
              "    <tr style=\"text-align: right;\">\n",
              "      <th></th>\n",
              "      <th>Genre</th>\n",
              "      <th>Count</th>\n",
              "    </tr>\n",
              "  </thead>\n",
              "  <tbody>\n",
              "    <tr>\n",
              "      <th>8</th>\n",
              "      <td>Drama</td>\n",
              "      <td>56.0</td>\n",
              "    </tr>\n",
              "    <tr>\n",
              "      <th>16</th>\n",
              "      <td>Thriller</td>\n",
              "      <td>19.0</td>\n",
              "    </tr>\n",
              "    <tr>\n",
              "      <th>5</th>\n",
              "      <td>Comedy</td>\n",
              "      <td>12.0</td>\n",
              "    </tr>\n",
              "    <tr>\n",
              "      <th>17</th>\n",
              "      <td>War</td>\n",
              "      <td>12.0</td>\n",
              "    </tr>\n",
              "    <tr>\n",
              "      <th>13</th>\n",
              "      <td>Mystery</td>\n",
              "      <td>10.0</td>\n",
              "    </tr>\n",
              "    <tr>\n",
              "      <th>14</th>\n",
              "      <td>Romance</td>\n",
              "      <td>10.0</td>\n",
              "    </tr>\n",
              "    <tr>\n",
              "      <th>6</th>\n",
              "      <td>Crime</td>\n",
              "      <td>9.0</td>\n",
              "    </tr>\n",
              "    <tr>\n",
              "      <th>1</th>\n",
              "      <td>Action</td>\n",
              "      <td>9.0</td>\n",
              "    </tr>\n",
              "    <tr>\n",
              "      <th>10</th>\n",
              "      <td>Film-Noir</td>\n",
              "      <td>8.0</td>\n",
              "    </tr>\n",
              "    <tr>\n",
              "      <th>2</th>\n",
              "      <td>Adventure</td>\n",
              "      <td>7.0</td>\n",
              "    </tr>\n",
              "    <tr>\n",
              "      <th>15</th>\n",
              "      <td>Sci-Fi</td>\n",
              "      <td>5.0</td>\n",
              "    </tr>\n",
              "    <tr>\n",
              "      <th>3</th>\n",
              "      <td>Animation</td>\n",
              "      <td>5.0</td>\n",
              "    </tr>\n",
              "    <tr>\n",
              "      <th>7</th>\n",
              "      <td>Documentary</td>\n",
              "      <td>3.0</td>\n",
              "    </tr>\n",
              "    <tr>\n",
              "      <th>4</th>\n",
              "      <td>Children</td>\n",
              "      <td>2.0</td>\n",
              "    </tr>\n",
              "    <tr>\n",
              "      <th>9</th>\n",
              "      <td>Fantasy</td>\n",
              "      <td>1.0</td>\n",
              "    </tr>\n",
              "    <tr>\n",
              "      <th>18</th>\n",
              "      <td>Western</td>\n",
              "      <td>1.0</td>\n",
              "    </tr>\n",
              "    <tr>\n",
              "      <th>12</th>\n",
              "      <td>Musical</td>\n",
              "      <td>1.0</td>\n",
              "    </tr>\n",
              "    <tr>\n",
              "      <th>11</th>\n",
              "      <td>Horror</td>\n",
              "      <td>0.0</td>\n",
              "    </tr>\n",
              "    <tr>\n",
              "      <th>0</th>\n",
              "      <td>Unknown</td>\n",
              "      <td>0.0</td>\n",
              "    </tr>\n",
              "  </tbody>\n",
              "</table>\n",
              "</div>"
            ],
            "text/plain": [
              "          Genre  Count\n",
              "8         Drama   56.0\n",
              "16     Thriller   19.0\n",
              "5        Comedy   12.0\n",
              "17          War   12.0\n",
              "13      Mystery   10.0\n",
              "14      Romance   10.0\n",
              "6         Crime    9.0\n",
              "1        Action    9.0\n",
              "10    Film-Noir    8.0\n",
              "2     Adventure    7.0\n",
              "15       Sci-Fi    5.0\n",
              "3     Animation    5.0\n",
              "7   Documentary    3.0\n",
              "4      Children    2.0\n",
              "9       Fantasy    1.0\n",
              "18      Western    1.0\n",
              "12      Musical    1.0\n",
              "11       Horror    0.0\n",
              "0       Unknown    0.0"
            ]
          },
          "metadata": {
            "tags": []
          }
        },
        {
          "output_type": "display_data",
          "data": {
            "image/png": "[encoded data removed]",
            "text/plain": [
              "<Figure size 432x288 with 1 Axes>"
            ]
          },
          "metadata": {
            "tags": [],
            "needs_background": "light"
          }
        },
        {
          "output_type": "display_data",
          "data": {
            "text/html": [
              "<div>\n",
              "<style scoped>\n",
              "    .dataframe tbody tr th:only-of-type {\n",
              "        vertical-align: middle;\n",
              "    }\n",
              "\n",
              "    .dataframe tbody tr th {\n",
              "        vertical-align: top;\n",
              "    }\n",
              "\n",
              "    .dataframe thead th {\n",
              "        text-align: right;\n",
              "    }\n",
              "</style>\n",
              "<table border=\"1\" class=\"dataframe\">\n",
              "  <thead>\n",
              "    <tr style=\"text-align: right;\">\n",
              "      <th></th>\n",
              "      <th>Genre</th>\n",
              "      <th>Count</th>\n",
              "    </tr>\n",
              "  </thead>\n",
              "  <tbody>\n",
              "    <tr>\n",
              "      <th>5</th>\n",
              "      <td>Comedy</td>\n",
              "      <td>40.0</td>\n",
              "    </tr>\n",
              "    <tr>\n",
              "      <th>8</th>\n",
              "      <td>Drama</td>\n",
              "      <td>23.0</td>\n",
              "    </tr>\n",
              "    <tr>\n",
              "      <th>1</th>\n",
              "      <td>Action</td>\n",
              "      <td>17.0</td>\n",
              "    </tr>\n",
              "    <tr>\n",
              "      <th>11</th>\n",
              "      <td>Horror</td>\n",
              "      <td>15.0</td>\n",
              "    </tr>\n",
              "    <tr>\n",
              "      <th>4</th>\n",
              "      <td>Children</td>\n",
              "      <td>14.0</td>\n",
              "    </tr>\n",
              "    <tr>\n",
              "      <th>16</th>\n",
              "      <td>Thriller</td>\n",
              "      <td>11.0</td>\n",
              "    </tr>\n",
              "    <tr>\n",
              "      <th>2</th>\n",
              "      <td>Adventure</td>\n",
              "      <td>8.0</td>\n",
              "    </tr>\n",
              "    <tr>\n",
              "      <th>14</th>\n",
              "      <td>Romance</td>\n",
              "      <td>7.0</td>\n",
              "    </tr>\n",
              "    <tr>\n",
              "      <th>15</th>\n",
              "      <td>Sci-Fi</td>\n",
              "      <td>4.0</td>\n",
              "    </tr>\n",
              "    <tr>\n",
              "      <th>3</th>\n",
              "      <td>Animation</td>\n",
              "      <td>3.0</td>\n",
              "    </tr>\n",
              "    <tr>\n",
              "      <th>6</th>\n",
              "      <td>Crime</td>\n",
              "      <td>3.0</td>\n",
              "    </tr>\n",
              "    <tr>\n",
              "      <th>12</th>\n",
              "      <td>Musical</td>\n",
              "      <td>2.0</td>\n",
              "    </tr>\n",
              "    <tr>\n",
              "      <th>9</th>\n",
              "      <td>Fantasy</td>\n",
              "      <td>1.0</td>\n",
              "    </tr>\n",
              "    <tr>\n",
              "      <th>17</th>\n",
              "      <td>War</td>\n",
              "      <td>1.0</td>\n",
              "    </tr>\n",
              "    <tr>\n",
              "      <th>18</th>\n",
              "      <td>Western</td>\n",
              "      <td>1.0</td>\n",
              "    </tr>\n",
              "    <tr>\n",
              "      <th>13</th>\n",
              "      <td>Mystery</td>\n",
              "      <td>1.0</td>\n",
              "    </tr>\n",
              "    <tr>\n",
              "      <th>7</th>\n",
              "      <td>Documentary</td>\n",
              "      <td>1.0</td>\n",
              "    </tr>\n",
              "    <tr>\n",
              "      <th>10</th>\n",
              "      <td>Film-Noir</td>\n",
              "      <td>0.0</td>\n",
              "    </tr>\n",
              "    <tr>\n",
              "      <th>0</th>\n",
              "      <td>Unknown</td>\n",
              "      <td>0.0</td>\n",
              "    </tr>\n",
              "  </tbody>\n",
              "</table>\n",
              "</div>"
            ],
            "text/plain": [
              "          Genre  Count\n",
              "5        Comedy   40.0\n",
              "8         Drama   23.0\n",
              "1        Action   17.0\n",
              "11       Horror   15.0\n",
              "4      Children   14.0\n",
              "16     Thriller   11.0\n",
              "2     Adventure    8.0\n",
              "14      Romance    7.0\n",
              "15       Sci-Fi    4.0\n",
              "3     Animation    3.0\n",
              "6         Crime    3.0\n",
              "12      Musical    2.0\n",
              "9       Fantasy    1.0\n",
              "17          War    1.0\n",
              "18      Western    1.0\n",
              "13      Mystery    1.0\n",
              "7   Documentary    1.0\n",
              "10    Film-Noir    0.0\n",
              "0       Unknown    0.0"
            ]
          },
          "metadata": {
            "tags": []
          }
        }
      ]
    },
    {
      "cell_type": "markdown",
      "metadata": {
        "id": "rBrq8znzB4DA"
      },
      "source": [
        "## Part D"
      ]
    },
    {
      "cell_type": "markdown",
      "metadata": {
        "id": "acklitiJJIc5"
      },
      "source": [
        "**Top 10 Popular Movies:**"
      ]
    },
    {
      "cell_type": "code",
      "metadata": {
        "colab": {
          "base_uri": "https://localhost:8080/",
          "height": 347
        },
        "id": "SVvnasfaB9Bh",
        "outputId": "9c51b87c-6713-481a-da96-d76e3c6eecbf"
      },
      "source": [
        "df_sorted_by_number_of_ratings = df_item_count_avg_rating.sort_values(by=['Item count','Average rating'],ascending=False)\n",
        "\n",
        "# take the dataframe that as the full data after the Average rating compute\n",
        "# sort this dataframe by the value of Item count and then sort by the value of Average rating\n",
        "# take the top 50\n",
        "top_item_count = df_item_count_avg_rating.sort_values(by=['Item count','Average rating'],ascending=False).head(50)\n",
        "\n",
        "# sort the top 50  dataframe by the value of Average rating and then sort by the value of Item count\n",
        "# take the top 30\n",
        "top_avg_rating = top_item_count.sort_values(by=['Average rating','Item count'],ascending=False).head(30)\n",
        "\n",
        "# sort the top 30 dataframe by the value of Item count and then sort by the value of Average rating\n",
        "# take the top 20\n",
        "top_item_count = top_avg_rating.sort_values(by=['Item count','Average rating'],ascending=False).head(20)\n",
        "\n",
        "# sort the top 20  dataframe by the value of Average rating and then sort by the value of Item count\n",
        "# take the top 10\n",
        "top_avg_rating = top_item_count.sort_values(by=['Average rating','Item count'],ascending=False).head(10)\n",
        "\n",
        "display(top_avg_rating[[\"Movie title\",\"Average rating\",\"Item count\"]])\n"
      ],
      "execution_count": 101,
      "outputs": [
        {
          "output_type": "display_data",
          "data": {
            "text/html": [
              "<div>\n",
              "<style scoped>\n",
              "    .dataframe tbody tr th:only-of-type {\n",
              "        vertical-align: middle;\n",
              "    }\n",
              "\n",
              "    .dataframe tbody tr th {\n",
              "        vertical-align: top;\n",
              "    }\n",
              "\n",
              "    .dataframe thead th {\n",
              "        text-align: right;\n",
              "    }\n",
              "</style>\n",
              "<table border=\"1\" class=\"dataframe\">\n",
              "  <thead>\n",
              "    <tr style=\"text-align: right;\">\n",
              "      <th></th>\n",
              "      <th>Movie title</th>\n",
              "      <th>Average rating</th>\n",
              "      <th>Item count</th>\n",
              "    </tr>\n",
              "  </thead>\n",
              "  <tbody>\n",
              "    <tr>\n",
              "      <th>50</th>\n",
              "      <td>Star Wars (1977)</td>\n",
              "      <td>4.358491</td>\n",
              "      <td>583</td>\n",
              "    </tr>\n",
              "    <tr>\n",
              "      <th>98</th>\n",
              "      <td>Silence of the Lambs, The (1991)</td>\n",
              "      <td>4.289744</td>\n",
              "      <td>390</td>\n",
              "    </tr>\n",
              "    <tr>\n",
              "      <th>127</th>\n",
              "      <td>Godfather, The (1972)</td>\n",
              "      <td>4.283293</td>\n",
              "      <td>413</td>\n",
              "    </tr>\n",
              "    <tr>\n",
              "      <th>174</th>\n",
              "      <td>Raiders of the Lost Ark (1981)</td>\n",
              "      <td>4.252381</td>\n",
              "      <td>420</td>\n",
              "    </tr>\n",
              "    <tr>\n",
              "      <th>313</th>\n",
              "      <td>Titanic (1997)</td>\n",
              "      <td>4.245714</td>\n",
              "      <td>350</td>\n",
              "    </tr>\n",
              "    <tr>\n",
              "      <th>172</th>\n",
              "      <td>Empire Strikes Back, The (1980)</td>\n",
              "      <td>4.204360</td>\n",
              "      <td>367</td>\n",
              "    </tr>\n",
              "    <tr>\n",
              "      <th>173</th>\n",
              "      <td>Princess Bride, The (1987)</td>\n",
              "      <td>4.172840</td>\n",
              "      <td>324</td>\n",
              "    </tr>\n",
              "    <tr>\n",
              "      <th>100</th>\n",
              "      <td>Fargo (1996)</td>\n",
              "      <td>4.155512</td>\n",
              "      <td>508</td>\n",
              "    </tr>\n",
              "    <tr>\n",
              "      <th>168</th>\n",
              "      <td>Monty Python and the Holy Grail (1974)</td>\n",
              "      <td>4.066456</td>\n",
              "      <td>316</td>\n",
              "    </tr>\n",
              "    <tr>\n",
              "      <th>56</th>\n",
              "      <td>Pulp Fiction (1994)</td>\n",
              "      <td>4.060914</td>\n",
              "      <td>394</td>\n",
              "    </tr>\n",
              "  </tbody>\n",
              "</table>\n",
              "</div>"
            ],
            "text/plain": [
              "                                Movie title  Average rating  Item count\n",
              "50                         Star Wars (1977)        4.358491         583\n",
              "98         Silence of the Lambs, The (1991)        4.289744         390\n",
              "127                   Godfather, The (1972)        4.283293         413\n",
              "174          Raiders of the Lost Ark (1981)        4.252381         420\n",
              "313                          Titanic (1997)        4.245714         350\n",
              "172         Empire Strikes Back, The (1980)        4.204360         367\n",
              "173              Princess Bride, The (1987)        4.172840         324\n",
              "100                            Fargo (1996)        4.155512         508\n",
              "168  Monty Python and the Holy Grail (1974)        4.066456         316\n",
              "56                      Pulp Fiction (1994)        4.060914         394"
            ]
          },
          "metadata": {
            "tags": []
          }
        }
      ]
    },
    {
      "cell_type": "markdown",
      "metadata": {
        "id": "fhEeqLF7Dlor"
      },
      "source": [
        "## Part E"
      ]
    },
    {
      "cell_type": "markdown",
      "metadata": {
        "id": "TsXVivfUXD8e"
      },
      "source": [
        "**clacluate sparsity**"
      ]
    },
    {
      "cell_type": "code",
      "metadata": {
        "id": "jSb86tNTDnYB",
        "colab": {
          "base_uri": "https://localhost:8080/",
          "height": 34
        },
        "outputId": "0a58485b-22c7-4a11-816e-41321d30b2da"
      },
      "source": [
        "# amount of moveis rating reviews\n",
        "reviewCount = len(df_data)\n",
        "\n",
        "# amount of movies\n",
        "ItemCount = len((df_data.groupby('Item id')))  \n",
        "\n",
        "# amount of users\n",
        "UserCount = len((df_data.groupby('User id')))\n",
        "\n",
        "# multipul amount of movies with amount of users\n",
        "Max_option_for_rating = ItemCount * UserCount\n",
        "\n",
        "# amount of moveis rating reviews divided by Max_option_for_rating\n",
        "sparsity = reviewCount/Max_option_for_rating\n",
        "display(sparsity)"
      ],
      "execution_count": 102,
      "outputs": [
        {
          "output_type": "display_data",
          "data": {
            "text/plain": [
              "0.06304669364224531"
            ]
          },
          "metadata": {
            "tags": []
          }
        }
      ]
    },
    {
      "cell_type": "markdown",
      "metadata": {
        "id": "TVotSALTXHOH"
      },
      "source": [
        "**calculate number of average ratings for user**"
      ]
    },
    {
      "cell_type": "code",
      "metadata": {
        "colab": {
          "base_uri": "https://localhost:8080/"
        },
        "id": "OMWShiCBXKS0",
        "outputId": "835b9b75-b31f-406c-f74c-93202988e447"
      },
      "source": [
        "# amount of moveis rating reviews divided by amount of users\n",
        "num_of_avg_ratings = reviewCount/UserCount\n",
        "print(round(num_of_avg_ratings))"
      ],
      "execution_count": 103,
      "outputs": [
        {
          "output_type": "stream",
          "text": [
            "106\n"
          ],
          "name": "stdout"
        }
      ]
    },
    {
      "cell_type": "markdown",
      "metadata": {
        "id": "Rlkj5mddE3ws"
      },
      "source": [
        "# Question 2"
      ]
    },
    {
      "cell_type": "markdown",
      "metadata": {
        "id": "Ai5h0D6EE5yM"
      },
      "source": [
        "## Part A\n"
      ]
    },
    {
      "cell_type": "code",
      "metadata": {
        "id": "VAsJWhJjH-_s"
      },
      "source": [
        "from sklearn.preprocessing import LabelEncoder\n",
        "\n",
        "# convert values to float\n",
        "def convert_to_float(df, str):\n",
        "    enc = LabelEncoder()\n",
        "    enc.fit(df[str])\n",
        "    return enc.transform(df[str])\n",
        "\n",
        "# normalize values\n",
        "def normalize(df):\n",
        "    df.set_index(['Item id'], inplace=True)\n",
        "    min = df['Average rating'].min()\n",
        "    max = df['Average rating'].max()\n",
        "    df=5*(df-min)/(max-min)\n",
        "    return df"
      ],
      "execution_count": 104,
      "outputs": []
    },
    {
      "cell_type": "code",
      "metadata": {
        "id": "XLwfKjDhKqve"
      },
      "source": [
        "# merge two dataframes and sort the new dataframe \n",
        "# sort the dataframe by value Item id\n",
        "def merge_dataframes_for_train(df_sort , sort_value , df_merge):\n",
        "\n",
        "  df_avg_ratings = df_sort.sort_values(by=sort_value, ascending=True,inplace=False)\n",
        "  df_features_and_avg_ratings = pd.merge(df_avg_ratings,df_merge)\n",
        "  return df_features_and_avg_ratings\n",
        "\n",
        "# create df for train x and for train y\n",
        "def create_df_train_x_and_df_train_y(df_features_and_avg_ratings):\n",
        "  df_train_x = df_features_and_avg_ratings\n",
        "  df_train_y = df_features_and_avg_ratings[['Item id','Average rating']]\n",
        "  return df_train_x , df_train_y\n",
        "\n",
        "# create df for train x and for train y for gender dataframes\n",
        "def create_df_train_x_and_df_train_y_gender(df_features_and_avg_ratings):\n",
        "  df_train_x = df_features_and_avg_ratings\n",
        "  df_train_y = df_features_and_avg_ratings[['Item id','Rating']]\n",
        "  return df_train_x , df_train_y\n",
        " \n",
        "# merge so we have movie name and not only id\n",
        "def merge_dataframes_for_test(df_test,df_merg):\n",
        "  df_test = df_test.merge(df_merg[list(['Item id','Movie title'])], left_index=True, right_on='Item id', how='outer')\n",
        "  df_test = pd.merge(df_test,df_merg)\n",
        "  return df_test\n",
        "\n",
        "# create df for test x and for test y for\n",
        "def create_df_test_x_and_df_test_y(df_test):\n",
        "  df_test_x = df_test.drop('Average rating', axis=1, inplace=False).set_index(['Item id'])\n",
        "  df_test_y = df_test[['Item id','Average rating']].set_index(['Item id'])\n",
        "  return df_test_x , df_test_y"
      ],
      "execution_count": 105,
      "outputs": []
    },
    {
      "cell_type": "code",
      "metadata": {
        "id": "I0LIKuH3KwPO"
      },
      "source": [
        "#do the same process of Question1A to test info\n",
        "df_test = get_average_rating(df_test)\n",
        "\n",
        "# merge dataframes and create dataframes for train x and train y\n",
        "df_features_and_avg_ratings = merge_dataframes_for_train(df_item_count_avg_rating , 'Item id' , df_items)\n",
        "df_train_x , df_train_y = create_df_train_x_and_df_train_y(df_features_and_avg_ratings)\n",
        "\n",
        "# merge dataframes and create dataframes for test x and test y\n",
        "df_test = merge_dataframes_for_test(df_test,df_items)\n",
        "df_test_x , df_test_y = create_df_test_x_and_df_test_y(df_test)"
      ],
      "execution_count": 106,
      "outputs": []
    },
    {
      "cell_type": "markdown",
      "metadata": {
        "id": "hVm612ItLIs_"
      },
      "source": [
        "**Convert all types to float and then build a prediction model**"
      ]
    },
    {
      "cell_type": "code",
      "metadata": {
        "id": "OJgR253jL5b1"
      },
      "source": [
        "# convert all types to float and then build a prediction model\n",
        "df_test_x['Movie title'] = convert_to_float(df_test_x,'Movie title')\n",
        "df_train_x['Movie title'] = convert_to_float(df_train_x,'Movie title')"
      ],
      "execution_count": 107,
      "outputs": []
    },
    {
      "cell_type": "markdown",
      "metadata": {
        "id": "VMdCDgvWhvqK"
      },
      "source": [
        "**Predict model**"
      ]
    },
    {
      "cell_type": "code",
      "metadata": {
        "id": "1Cq8utCSL0zz"
      },
      "source": [
        "# comput the prediction\n",
        "df_test_y['prediction'] = df_train_y['Average rating']\n",
        "\n",
        "# drop Na and Nan valuse\n",
        "df_test_y = df_test_y.dropna()"
      ],
      "execution_count": 108,
      "outputs": []
    },
    {
      "cell_type": "markdown",
      "metadata": {
        "id": "ijB2lO-uh0fc"
      },
      "source": [
        "**The MAE for the model**"
      ]
    },
    {
      "cell_type": "code",
      "metadata": {
        "colab": {
          "base_uri": "https://localhost:8080/"
        },
        "id": "K7kAjgtQLx0w",
        "outputId": "46432ae6-7424-4d20-e4d6-9f21cd167622"
      },
      "source": [
        "from sklearn.metrics import mean_absolute_error\n",
        "\n",
        "# calculate the MAE for the model\n",
        "mae = mean_absolute_error(df_test_y['Average rating'], df_test_y['prediction'])\n",
        "print(\"The MAE of the Model: \" + str(mae))"
      ],
      "execution_count": 109,
      "outputs": [
        {
          "output_type": "stream",
          "text": [
            "The MAE of the Model: 0.6943326091781578\n"
          ],
          "name": "stdout"
        }
      ]
    },
    {
      "cell_type": "markdown",
      "metadata": {
        "id": "fc5RvMZKmUNw"
      },
      "source": [
        "## Part B"
      ]
    },
    {
      "cell_type": "markdown",
      "metadata": {
        "id": "p3bCvKx-N30X"
      },
      "source": [
        "**MALE**"
      ]
    },
    {
      "cell_type": "code",
      "metadata": {
        "id": "-H-aOg6HibEU"
      },
      "source": [
        "# MALE\n",
        "df_males = df_data_gender.loc[df_data_gender.Gender=='M']\n",
        "df_males = df_males.merge(df_items)\n",
        "df_males = df_males.groupby(['Item id','Movie title']).mean()\n",
        "\n",
        "# #do the same process of Question1A to test info\n",
        "df_male_test = pd.read_csv(path + 'u1.test',index_col=False, encoding = \"ISO-8859-1\",delimiter='\\t', names=['User id', 'Item id', 'Rating', 'Timestamp'])\n",
        "df_male_test = get_average_rating(df_male_test)\n",
        "\n",
        "\n",
        "# merge dataframes and create dataframes for train x and train y\n",
        "df_male_features_and_avg_ratings = merge_dataframes_for_train(df_males , 'Item id' , df_items)\n",
        "df_male_x_train , df_male_y_train = create_df_train_x_and_df_train_y_gender(df_male_features_and_avg_ratings)\n",
        "\n",
        "# merge dataframes and create dataframes for test x and test y\n",
        "df_male_test = merge_dataframes_for_test(df_male_test,df_items)\n",
        "df_male_x_test , df_male_y_test = create_df_test_x_and_df_test_y(df_male_test)"
      ],
      "execution_count": 110,
      "outputs": []
    },
    {
      "cell_type": "markdown",
      "metadata": {
        "id": "vCaTrfzJ1gke"
      },
      "source": [
        "**Convert all types to float and then build a prediction model**"
      ]
    },
    {
      "cell_type": "code",
      "metadata": {
        "id": "h9S1mzAecrBH"
      },
      "source": [
        "# convert all types to float and then build a prediction model\n",
        "df_male_x_test['Movie title'] = convert_to_float(df_male_x_test,'Movie title')\n",
        "df_male_x_train['Movie title'] = convert_to_float(df_male_x_train,'Movie title')\n",
        "df_male_x_train.drop('Age', axis=1, inplace=True)"
      ],
      "execution_count": 111,
      "outputs": []
    },
    {
      "cell_type": "markdown",
      "metadata": {
        "id": "BggnhIBY1kaC"
      },
      "source": [
        "**Predict model**"
      ]
    },
    {
      "cell_type": "code",
      "metadata": {
        "id": "GVOx_fM7kr1T"
      },
      "source": [
        "# comput the prediction\n",
        "df_male_y_test['prediction'] = df_male_y_train['Rating']\n",
        "\n",
        "# drop Na and Nan valuse\n",
        "df_male_y_test = df_male_y_test.dropna()"
      ],
      "execution_count": 112,
      "outputs": []
    },
    {
      "cell_type": "markdown",
      "metadata": {
        "id": "lCoQyzUJ1m0d"
      },
      "source": [
        "**The MAE for the model**"
      ]
    },
    {
      "cell_type": "code",
      "metadata": {
        "colab": {
          "base_uri": "https://localhost:8080/"
        },
        "id": "8lGOm-HE03d7",
        "outputId": "6281b7bb-b271-4453-ed01-dc3dfcc39692"
      },
      "source": [
        "# calculate the MAE for the model\n",
        "mae = mean_absolute_error(df_male_y_test['Average rating'], df_male_y_test['prediction'])\n",
        "print(\"The MAE of the Male Model: \" + str(mae))"
      ],
      "execution_count": 113,
      "outputs": [
        {
          "output_type": "stream",
          "text": [
            "The MAE of the Male Model: 0.921300684810803\n"
          ],
          "name": "stdout"
        }
      ]
    },
    {
      "cell_type": "markdown",
      "metadata": {
        "id": "k_NuJ_ntlByy"
      },
      "source": [
        "**FEMALE**"
      ]
    },
    {
      "cell_type": "code",
      "metadata": {
        "id": "_J_Jdo4NlApD"
      },
      "source": [
        "# FEMALE\n",
        "df_females = df_data_gender.loc[df_data_gender.Gender=='F']\n",
        "df_females = df_females.merge(df_items)\n",
        "\n",
        "df_females = df_females.groupby(['Item id','Movie title']).mean()\n",
        "\n",
        "# #do the same process of Question1A to test info\n",
        "df_female_test = pd.read_csv(path + 'u1.test',index_col=False, encoding = \"ISO-8859-1\",delimiter='\\t', names=['User id', 'Item id', 'Rating', 'Timestamp'])\n",
        "df_female_test = get_average_rating(df_female_test)\n",
        "\n",
        "\n",
        "# merge dataframes and create dataframes for train x and train y\n",
        "df_female_features_and_avg_ratings = merge_dataframes_for_train(df_females , 'Item id' , df_items)\n",
        "df_female_x_train , df_female_y_train = create_df_train_x_and_df_train_y_gender(df_female_features_and_avg_ratings)\n",
        "\n",
        "# merge dataframes and create dataframes for test x and test y\n",
        "df_female_test = merge_dataframes_for_test(df_female_test,df_items)\n",
        "df_female_x_test , df_female_y_test = create_df_test_x_and_df_test_y(df_female_test)"
      ],
      "execution_count": 114,
      "outputs": []
    },
    {
      "cell_type": "markdown",
      "metadata": {
        "id": "j999KtD61tHL"
      },
      "source": [
        "**Convert all types to float and then build a prediction model**"
      ]
    },
    {
      "cell_type": "code",
      "metadata": {
        "id": "rsgAtWNsliTh"
      },
      "source": [
        "# convert all types to float and then build a prediction model\n",
        "df_female_x_test['Movie title'] = convert_to_float(df_female_x_test,'Movie title')\n",
        "df_female_x_train['Movie title'] = convert_to_float(df_female_x_train,'Movie title')\n",
        "df_female_x_train.drop('Age', axis=1, inplace=True)"
      ],
      "execution_count": 115,
      "outputs": []
    },
    {
      "cell_type": "markdown",
      "metadata": {
        "id": "GV65-F5Z1qYv"
      },
      "source": [
        "**Predict model**"
      ]
    },
    {
      "cell_type": "code",
      "metadata": {
        "id": "EeRg0gSNmA2C"
      },
      "source": [
        "# comput the prediction\n",
        "df_female_y_test['prediction'] = df_female_y_train['Rating']\n",
        "\n",
        "# drop Na and Nan valuse\n",
        "df_female_y_test = df_female_y_test.dropna()"
      ],
      "execution_count": 116,
      "outputs": []
    },
    {
      "cell_type": "markdown",
      "metadata": {
        "id": "McF-13Lu1oHa"
      },
      "source": [
        "**The MAE for the model**"
      ]
    },
    {
      "cell_type": "code",
      "metadata": {
        "colab": {
          "base_uri": "https://localhost:8080/"
        },
        "id": "v-MkKKHQ0zDc",
        "outputId": "cf21545a-0be3-4b98-9b29-607e7676f729"
      },
      "source": [
        "# calculate the MAE for the model\n",
        "mae = mean_absolute_error(df_female_y_test['Average rating'], df_female_y_test['prediction'])\n",
        "print(\"The MAE of the Feale Model: \" + str(mae))"
      ],
      "execution_count": 117,
      "outputs": [
        {
          "output_type": "stream",
          "text": [
            "The MAE of the Feale Model: 0.9246418287385217\n"
          ],
          "name": "stdout"
        }
      ]
    }
  ]
}