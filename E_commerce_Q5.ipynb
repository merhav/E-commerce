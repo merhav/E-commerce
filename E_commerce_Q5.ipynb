{
  "nbformat": 4,
  "nbformat_minor": 0,
  "metadata": {
    "colab": {
      "name": "E-commerce-Q5.ipynb",
      "provenance": [],
      "collapsed_sections": []
    },
    "kernelspec": {
      "name": "python3",
      "display_name": "Python 3"
    },
    "language_info": {
      "name": "python"
    }
  },
  "cells": [
    {
      "cell_type": "code",
      "metadata": {
        "colab": {
          "base_uri": "https://localhost:8080/"
        },
        "id": "FuCtDK7X9So1",
        "outputId": "328ada0c-0e85-48ba-d181-524daf19b139"
      },
      "source": [
        "from google.colab import drive\n",
        "drive.mount('/content/drive')"
      ],
      "execution_count": null,
      "outputs": [
        {
          "output_type": "stream",
          "text": [
            "Mounted at /content/drive\n"
          ],
          "name": "stdout"
        }
      ]
    },
    {
      "cell_type": "code",
      "metadata": {
        "colab": {
          "base_uri": "https://localhost:8080/"
        },
        "id": "lnQnvKZk90il",
        "outputId": "d6be9f3b-ed02-493c-b898-26187cd4ca1d"
      },
      "source": [
        "!pip install deepctr\n",
        "import numpy as np\n",
        "import pandas as pd\n",
        "from sklearn.metrics import log_loss, roc_auc_score\n",
        "from sklearn.model_selection import train_test_split\n",
        "from sklearn.preprocessing import LabelEncoder, MinMaxScaler\n",
        "from sklearn.metrics import mean_absolute_error\n",
        "from deepctr.models import *\n",
        "from deepctr.feature_column import SparseFeat, DenseFeat, get_feature_names"
      ],
      "execution_count": null,
      "outputs": [
        {
          "output_type": "stream",
          "text": [
            "Requirement already satisfied: deepctr in /usr/local/lib/python3.7/dist-packages (0.8.5)\n",
            "Requirement already satisfied: h5py==2.10.0 in /usr/local/lib/python3.7/dist-packages (from deepctr) (2.10.0)\n",
            "Requirement already satisfied: requests in /usr/local/lib/python3.7/dist-packages (from deepctr) (2.23.0)\n",
            "Requirement already satisfied: six in /usr/local/lib/python3.7/dist-packages (from h5py==2.10.0->deepctr) (1.15.0)\n",
            "Requirement already satisfied: numpy>=1.7 in /usr/local/lib/python3.7/dist-packages (from h5py==2.10.0->deepctr) (1.19.5)\n",
            "Requirement already satisfied: chardet<4,>=3.0.2 in /usr/local/lib/python3.7/dist-packages (from requests->deepctr) (3.0.4)\n",
            "Requirement already satisfied: idna<3,>=2.5 in /usr/local/lib/python3.7/dist-packages (from requests->deepctr) (2.10)\n",
            "Requirement already satisfied: certifi>=2017.4.17 in /usr/local/lib/python3.7/dist-packages (from requests->deepctr) (2020.12.5)\n",
            "Requirement already satisfied: urllib3!=1.25.0,!=1.25.1,<1.26,>=1.21.1 in /usr/local/lib/python3.7/dist-packages (from requests->deepctr) (1.24.3)\n"
          ],
          "name": "stdout"
        }
      ]
    },
    {
      "cell_type": "code",
      "metadata": {
        "id": "KZdvviKC9sPv"
      },
      "source": [
        "# read the data\n",
        "df_train_ratings = pd.read_csv('/content/drive/Shareddrives/E-Commerce Project/ml-100k/ml-100k/u1.base', \n",
        "                    sep='\\t', \n",
        "                    engine='python', \n",
        "                    encoding='latin-1',\n",
        "                    names=['User_id', 'Item_id', 'rating', 'timestamp'])\n",
        "df_test_ratings = pd.read_csv('/content/drive/Shareddrives/E-Commerce Project/ml-100k/ml-100k/u1.test', \n",
        "                    sep='\\t', \n",
        "                    engine='python', \n",
        "                    encoding='latin-1',\n",
        "                    names=['User_id', 'Item_id', 'rating', 'timestamp'])\n",
        "df_users_info = pd.read_csv('/content/drive/Shareddrives/E-Commerce Project/ml-100k/ml-100k/u.user',delimiter='|',names=['User_id','age','gender','occupation','zip_code'])\n",
        "df_items_info = pd.read_csv('/content/drive/Shareddrives/E-Commerce Project/ml-100k/ml-100k/u.item',delimiter='|', encoding = \"ISO-8859-1\", names=['Item_id', 'movie_title', 'release_date', 'video_release_date','IMDb_URL', 'unknown', 'Action', 'Adventure', 'Animation','Children', 'Comedy', 'Crime', 'Documentary', 'Drama','Fantasy', 'Film-Noir', 'Horror', 'Musical', 'Mystery', 'Romance','Sci-Fi', 'Thriller', 'War', 'Western'])\n",
        "\n",
        "# merge the data for more features\n",
        "df_temp_merge = pd.merge(df_train_ratings, df_users_info)\n",
        "df_train_merged = pd.merge(df_temp_merge, df_items_info) \n",
        "\n",
        "df_temp_merge = pd.merge(df_test_ratings, df_users_info)\n",
        "df_test_merged = pd.merge(df_temp_merge, df_items_info) "
      ],
      "execution_count": null,
      "outputs": []
    },
    {
      "cell_type": "code",
      "metadata": {
        "id": "ygBCv5fuA4vb"
      },
      "source": [
        "# define the relevant features for the model\n",
        "sparse_features = ['User_id', 'Item_id', 'timestamp', 'gender']\n",
        "target = ['rating']"
      ],
      "execution_count": null,
      "outputs": []
    },
    {
      "cell_type": "code",
      "metadata": {
        "id": "-IyPOpAzMG77"
      },
      "source": [
        " # 1.Label Encoding for sparse features,and do simple Transformation for dense features\n",
        "for feat in sparse_features:\n",
        "    lbe = LabelEncoder()\n",
        "    df_train_merged[feat] = lbe.fit_transform(df_train_merged[feat])\n",
        "    df_test_merged[feat] = lbe.fit_transform(df_test_merged[feat])"
      ],
      "execution_count": null,
      "outputs": []
    },
    {
      "cell_type": "code",
      "metadata": {
        "id": "7YXGva5KNqcO"
      },
      "source": [
        "# 2.count #unique features for each sparse field,and record dense feature field name\n",
        "\n",
        "fixlen_feature_columns = [SparseFeat(feat, vocabulary_size=df_train_merged[feat].max() + 1,embedding_dim=4)\n",
        "                        for i,feat in enumerate(sparse_features)]\n",
        "dnn_feature_columns = fixlen_feature_columns\n",
        "linear_feature_columns = fixlen_feature_columns\n",
        "\n",
        "feature_names = get_feature_names(linear_feature_columns + dnn_feature_columns)"
      ],
      "execution_count": null,
      "outputs": []
    },
    {
      "cell_type": "code",
      "metadata": {
        "id": "TmndhBw-N1Zx"
      },
      "source": [
        "# 3.generate input data for model\n",
        "\n",
        "# train, test = train_test_split(df_merged, test_size=0.2, random_state=2020)\n",
        "train = df_train_merged\n",
        "test = df_test_merged\n",
        "train_model_input = {name:train[name] for name in feature_names}\n",
        "test_model_input = {name:test[name] for name in feature_names}\n"
      ],
      "execution_count": null,
      "outputs": []
    },
    {
      "cell_type": "code",
      "metadata": {
        "colab": {
          "base_uri": "https://localhost:8080/"
        },
        "id": "uMGnCeACOdbD",
        "outputId": "5b1f7c76-601c-40ee-bef1-3da56b2a101c"
      },
      "source": [
        "# 4.Define Model 1 ,train,predict and evaluate \n",
        "model_1 = DeepFM(linear_feature_columns, dnn_feature_columns, task='regression')\n",
        "model_1.compile(\"adam\", \"mse\",\n",
        "              metrics=['mse'], )\n",
        "\n",
        "history = model_1.fit(train_model_input, train[target].values,\n",
        "                    batch_size=256, epochs=30, verbose=2, validation_split=0.2, )\n",
        "pred_ans = model_1.predict(test_model_input, batch_size=256)\n",
        "print(\"mae\", round(mean_absolute_error(test[target].values, pred_ans), 4))"
      ],
      "execution_count": null,
      "outputs": [
        {
          "output_type": "stream",
          "text": [
            "Epoch 1/30\n",
            "250/250 - 3s - loss: 2.4152 - mse: 2.4150 - val_loss: 1.1231 - val_mse: 1.1228\n",
            "Epoch 2/30\n",
            "250/250 - 1s - loss: 0.6742 - mse: 0.6736 - val_loss: 1.1557 - val_mse: 1.1549\n",
            "Epoch 3/30\n",
            "250/250 - 1s - loss: 0.4934 - mse: 0.4924 - val_loss: 1.1982 - val_mse: 1.1971\n",
            "Epoch 4/30\n",
            "250/250 - 1s - loss: 0.4316 - mse: 0.4304 - val_loss: 1.2371 - val_mse: 1.2358\n",
            "Epoch 5/30\n",
            "250/250 - 1s - loss: 0.3987 - mse: 0.3973 - val_loss: 1.2706 - val_mse: 1.2691\n",
            "Epoch 6/30\n",
            "250/250 - 1s - loss: 0.3784 - mse: 0.3767 - val_loss: 1.2880 - val_mse: 1.2862\n",
            "Epoch 7/30\n",
            "250/250 - 1s - loss: 0.3642 - mse: 0.3623 - val_loss: 1.2661 - val_mse: 1.2641\n",
            "Epoch 8/30\n",
            "250/250 - 1s - loss: 0.3527 - mse: 0.3506 - val_loss: 1.3096 - val_mse: 1.3074\n",
            "Epoch 9/30\n",
            "250/250 - 1s - loss: 0.3370 - mse: 0.3347 - val_loss: 1.3120 - val_mse: 1.3095\n",
            "Epoch 10/30\n",
            "250/250 - 1s - loss: 0.3167 - mse: 0.3141 - val_loss: 1.2942 - val_mse: 1.2915\n",
            "Epoch 11/30\n",
            "250/250 - 1s - loss: 0.2957 - mse: 0.2929 - val_loss: 1.2998 - val_mse: 1.2969\n",
            "Epoch 12/30\n",
            "250/250 - 1s - loss: 0.2774 - mse: 0.2744 - val_loss: 1.3509 - val_mse: 1.3477\n",
            "Epoch 13/30\n",
            "250/250 - 1s - loss: 0.2596 - mse: 0.2564 - val_loss: 1.3370 - val_mse: 1.3337\n",
            "Epoch 14/30\n",
            "250/250 - 1s - loss: 0.2445 - mse: 0.2412 - val_loss: 1.3630 - val_mse: 1.3595\n",
            "Epoch 15/30\n",
            "250/250 - 1s - loss: 0.2292 - mse: 0.2256 - val_loss: 1.3448 - val_mse: 1.3411\n",
            "Epoch 16/30\n",
            "250/250 - 1s - loss: 0.2160 - mse: 0.2123 - val_loss: 1.3591 - val_mse: 1.3553\n",
            "Epoch 17/30\n",
            "250/250 - 1s - loss: 0.2041 - mse: 0.2002 - val_loss: 1.3681 - val_mse: 1.3642\n",
            "Epoch 18/30\n",
            "250/250 - 1s - loss: 0.1926 - mse: 0.1886 - val_loss: 1.3767 - val_mse: 1.3726\n",
            "Epoch 19/30\n",
            "250/250 - 1s - loss: 0.1781 - mse: 0.1739 - val_loss: 1.3765 - val_mse: 1.3722\n",
            "Epoch 20/30\n",
            "250/250 - 1s - loss: 0.1645 - mse: 0.1601 - val_loss: 1.3492 - val_mse: 1.3447\n",
            "Epoch 21/30\n",
            "250/250 - 1s - loss: 0.1513 - mse: 0.1467 - val_loss: 1.3662 - val_mse: 1.3616\n",
            "Epoch 22/30\n",
            "250/250 - 1s - loss: 0.1392 - mse: 0.1344 - val_loss: 1.3749 - val_mse: 1.3700\n",
            "Epoch 23/30\n",
            "250/250 - 1s - loss: 0.1278 - mse: 0.1229 - val_loss: 1.3656 - val_mse: 1.3606\n",
            "Epoch 24/30\n",
            "250/250 - 1s - loss: 0.1183 - mse: 0.1132 - val_loss: 1.3955 - val_mse: 1.3903\n",
            "Epoch 25/30\n",
            "250/250 - 1s - loss: 0.1118 - mse: 0.1066 - val_loss: 1.3764 - val_mse: 1.3712\n",
            "Epoch 26/30\n",
            "250/250 - 1s - loss: 0.1057 - mse: 0.1003 - val_loss: 1.3530 - val_mse: 1.3476\n",
            "Epoch 27/30\n",
            "250/250 - 1s - loss: 0.0996 - mse: 0.0941 - val_loss: 1.3934 - val_mse: 1.3878\n",
            "Epoch 28/30\n",
            "250/250 - 1s - loss: 0.0934 - mse: 0.0878 - val_loss: 1.3860 - val_mse: 1.3803\n",
            "Epoch 29/30\n",
            "250/250 - 1s - loss: 0.0896 - mse: 0.0839 - val_loss: 1.3663 - val_mse: 1.3605\n",
            "Epoch 30/30\n",
            "250/250 - 1s - loss: 0.0875 - mse: 0.0816 - val_loss: 1.3675 - val_mse: 1.3616\n",
            "mae 1.0605\n"
          ],
          "name": "stdout"
        }
      ]
    },
    {
      "cell_type": "markdown",
      "metadata": {
        "id": "bLHCH_nsVhHc"
      },
      "source": [
        "model 2"
      ]
    },
    {
      "cell_type": "code",
      "metadata": {
        "colab": {
          "base_uri": "https://localhost:8080/"
        },
        "id": "oZYygAO0VilV",
        "outputId": "84216986-da6c-40a6-8daa-450378a1f756"
      },
      "source": [
        "# Define Model 2 ,train,predict and evaluate \n",
        "model_2 = DeepFM(linear_feature_columns, dnn_feature_columns, task='regression')\n",
        "model_2.compile(\"sgd\", \"mse\",\n",
        "              metrics=['mse'], )\n",
        "\n",
        "history = model_2.fit(train_model_input, train[target].values,\n",
        "                    batch_size=256, epochs=30, verbose=2, validation_split=0.2, )\n",
        "pred_ans = model_2.predict(test_model_input, batch_size=256)\n",
        "print(\"mae\", round(mean_absolute_error(test[target].values, pred_ans), 4))"
      ],
      "execution_count": null,
      "outputs": [
        {
          "output_type": "stream",
          "text": [
            "Epoch 1/30\n",
            "250/250 - 2s - loss: 1.5471 - mse: 1.5471 - val_loss: 1.5331 - val_mse: 1.5331\n",
            "Epoch 2/30\n",
            "250/250 - 1s - loss: 1.1697 - mse: 1.1697 - val_loss: 1.5361 - val_mse: 1.5361\n",
            "Epoch 3/30\n",
            "250/250 - 1s - loss: 1.1574 - mse: 1.1574 - val_loss: 1.5470 - val_mse: 1.5470\n",
            "Epoch 4/30\n",
            "250/250 - 1s - loss: 1.1431 - mse: 1.1431 - val_loss: 1.4660 - val_mse: 1.4660\n",
            "Epoch 5/30\n",
            "250/250 - 1s - loss: 1.1249 - mse: 1.1249 - val_loss: 1.4714 - val_mse: 1.4714\n",
            "Epoch 6/30\n",
            "250/250 - 1s - loss: 1.1001 - mse: 1.1001 - val_loss: 1.4109 - val_mse: 1.4109\n",
            "Epoch 7/30\n",
            "250/250 - 1s - loss: 1.0671 - mse: 1.0671 - val_loss: 1.4016 - val_mse: 1.4016\n",
            "Epoch 8/30\n",
            "250/250 - 1s - loss: 1.0239 - mse: 1.0239 - val_loss: 1.3551 - val_mse: 1.3551\n",
            "Epoch 9/30\n",
            "250/250 - 1s - loss: 0.9743 - mse: 0.9743 - val_loss: 1.3171 - val_mse: 1.3170\n",
            "Epoch 10/30\n",
            "250/250 - 1s - loss: 0.9295 - mse: 0.9295 - val_loss: 1.2680 - val_mse: 1.2679\n",
            "Epoch 11/30\n",
            "250/250 - 1s - loss: 0.8979 - mse: 0.8979 - val_loss: 1.2475 - val_mse: 1.2474\n",
            "Epoch 12/30\n",
            "250/250 - 1s - loss: 0.8776 - mse: 0.8775 - val_loss: 1.2284 - val_mse: 1.2283\n",
            "Epoch 13/30\n",
            "250/250 - 1s - loss: 0.8637 - mse: 0.8637 - val_loss: 1.2537 - val_mse: 1.2536\n",
            "Epoch 14/30\n",
            "250/250 - 1s - loss: 0.8543 - mse: 0.8542 - val_loss: 1.2229 - val_mse: 1.2229\n",
            "Epoch 15/30\n",
            "250/250 - 1s - loss: 0.8467 - mse: 0.8467 - val_loss: 1.2476 - val_mse: 1.2476\n",
            "Epoch 16/30\n",
            "250/250 - 1s - loss: 0.8408 - mse: 0.8407 - val_loss: 1.1969 - val_mse: 1.1969\n",
            "Epoch 17/30\n",
            "250/250 - 1s - loss: 0.8360 - mse: 0.8359 - val_loss: 1.2024 - val_mse: 1.2023\n",
            "Epoch 18/30\n",
            "250/250 - 1s - loss: 0.8326 - mse: 0.8325 - val_loss: 1.2275 - val_mse: 1.2274\n",
            "Epoch 19/30\n",
            "250/250 - 1s - loss: 0.8290 - mse: 0.8290 - val_loss: 1.2262 - val_mse: 1.2262\n",
            "Epoch 20/30\n",
            "250/250 - 1s - loss: 0.8255 - mse: 0.8254 - val_loss: 1.1930 - val_mse: 1.1930\n",
            "Epoch 21/30\n",
            "250/250 - 1s - loss: 0.8220 - mse: 0.8219 - val_loss: 1.2220 - val_mse: 1.2220\n",
            "Epoch 22/30\n",
            "250/250 - 1s - loss: 0.8176 - mse: 0.8175 - val_loss: 1.2739 - val_mse: 1.2738\n",
            "Epoch 23/30\n",
            "250/250 - 1s - loss: 0.8137 - mse: 0.8137 - val_loss: 1.1812 - val_mse: 1.1811\n",
            "Epoch 24/30\n",
            "250/250 - 1s - loss: 0.8080 - mse: 0.8080 - val_loss: 1.1991 - val_mse: 1.1991\n",
            "Epoch 25/30\n",
            "250/250 - 1s - loss: 0.8023 - mse: 0.8023 - val_loss: 1.2147 - val_mse: 1.2147\n",
            "Epoch 26/30\n",
            "250/250 - 1s - loss: 0.7945 - mse: 0.7945 - val_loss: 1.2194 - val_mse: 1.2193\n",
            "Epoch 27/30\n",
            "250/250 - 1s - loss: 0.7848 - mse: 0.7848 - val_loss: 1.1974 - val_mse: 1.1973\n",
            "Epoch 28/30\n",
            "250/250 - 1s - loss: 0.7741 - mse: 0.7740 - val_loss: 1.2253 - val_mse: 1.2252\n",
            "Epoch 29/30\n",
            "250/250 - 1s - loss: 0.7589 - mse: 0.7589 - val_loss: 1.2049 - val_mse: 1.2048\n",
            "Epoch 30/30\n",
            "250/250 - 1s - loss: 0.7399 - mse: 0.7398 - val_loss: 1.1532 - val_mse: 1.1531\n",
            "mae 0.8451\n"
          ],
          "name": "stdout"
        }
      ]
    },
    {
      "cell_type": "markdown",
      "metadata": {
        "id": "4GeWRFGv1dDx"
      },
      "source": [
        "change the features"
      ]
    },
    {
      "cell_type": "code",
      "metadata": {
        "id": "tHJWRQHyWwQv"
      },
      "source": [
        "# define the relevant features for the model\n",
        "sparse_features = ['User_id', 'Item_id', 'age', 'occupation']\n",
        "target = ['rating']\n",
        " # 1.Label Encoding for sparse features,and do simple Transformation for dense features\n",
        "for feat in sparse_features:\n",
        "    lbe = LabelEncoder()\n",
        "    df_train_merged[feat] = lbe.fit_transform(df_train_merged[feat])\n",
        "    df_test_merged[feat] = lbe.fit_transform(df_test_merged[feat])\n",
        "# 2.count #unique features for each sparse field,and record dense feature field name\n",
        "\n",
        "fixlen_feature_columns = [SparseFeat(feat, vocabulary_size=df_train_merged[feat].max() + 1,embedding_dim=4)\n",
        "                        for i,feat in enumerate(sparse_features)]\n",
        "dnn_feature_columns = fixlen_feature_columns\n",
        "linear_feature_columns = fixlen_feature_columns\n",
        "\n",
        "feature_names = get_feature_names(linear_feature_columns + dnn_feature_columns)\n",
        "# 3.generate input data for model\n",
        "\n",
        "# train, test = train_test_split(df_merged, test_size=0.2, random_state=2020)\n",
        "train = df_train_merged\n",
        "test = df_test_merged\n",
        "train_model_input = {name:train[name] for name in feature_names}\n",
        "test_model_input = {name:test[name] for name in feature_names}"
      ],
      "execution_count": null,
      "outputs": []
    },
    {
      "cell_type": "markdown",
      "metadata": {
        "id": "2UlKhqBGW8tL"
      },
      "source": [
        "model 1"
      ]
    },
    {
      "cell_type": "code",
      "metadata": {
        "colab": {
          "base_uri": "https://localhost:8080/"
        },
        "id": "kCZqzQCFW-QO",
        "outputId": "3dee316a-f238-4cc3-de58-d678dd77b892"
      },
      "source": [
        "# 4.Define Model 1,train,predict and evaluate\n",
        "model_1 = DeepFM(linear_feature_columns, dnn_feature_columns, task='regression')\n",
        "model_1.compile(\"adam\", \"mse\",\n",
        "              metrics=['mse'], )\n",
        "\n",
        "history = model_1.fit(train_model_input, train[target].values,\n",
        "                    batch_size=256, epochs=30, verbose=2, validation_split=0.2, )\n",
        "pred_ans = model_1.predict(test_model_input, batch_size=256)\n",
        "print(\"mae\", round(mean_absolute_error(test[target].values, pred_ans), 4))"
      ],
      "execution_count": null,
      "outputs": [
        {
          "output_type": "stream",
          "text": [
            "Epoch 1/30\n",
            "250/250 - 2s - loss: 2.3226 - mse: 2.3226 - val_loss: 1.1703 - val_mse: 1.1702\n",
            "Epoch 2/30\n",
            "250/250 - 1s - loss: 0.8644 - mse: 0.8643 - val_loss: 1.1721 - val_mse: 1.1720\n",
            "Epoch 3/30\n",
            "250/250 - 1s - loss: 0.8559 - mse: 0.8558 - val_loss: 1.1697 - val_mse: 1.1696\n",
            "Epoch 4/30\n",
            "250/250 - 1s - loss: 0.8492 - mse: 0.8491 - val_loss: 1.1699 - val_mse: 1.1698\n",
            "Epoch 5/30\n",
            "250/250 - 1s - loss: 0.8437 - mse: 0.8436 - val_loss: 1.1732 - val_mse: 1.1731\n",
            "Epoch 6/30\n",
            "250/250 - 1s - loss: 0.8315 - mse: 0.8313 - val_loss: 1.1823 - val_mse: 1.1821\n",
            "Epoch 7/30\n",
            "250/250 - 1s - loss: 0.8221 - mse: 0.8219 - val_loss: 1.1965 - val_mse: 1.1963\n",
            "Epoch 8/30\n",
            "250/250 - 1s - loss: 0.8150 - mse: 0.8148 - val_loss: 1.2056 - val_mse: 1.2053\n",
            "Epoch 9/30\n",
            "250/250 - 1s - loss: 0.8119 - mse: 0.8117 - val_loss: 1.2130 - val_mse: 1.2128\n",
            "Epoch 10/30\n",
            "250/250 - 1s - loss: 0.8025 - mse: 0.8023 - val_loss: 1.2196 - val_mse: 1.2193\n",
            "Epoch 11/30\n",
            "250/250 - 1s - loss: 0.7961 - mse: 0.7958 - val_loss: 1.2302 - val_mse: 1.2299\n",
            "Epoch 12/30\n",
            "250/250 - 1s - loss: 0.7883 - mse: 0.7880 - val_loss: 1.2197 - val_mse: 1.2194\n",
            "Epoch 13/30\n",
            "250/250 - 1s - loss: 0.7817 - mse: 0.7814 - val_loss: 1.2142 - val_mse: 1.2139\n",
            "Epoch 14/30\n",
            "250/250 - 1s - loss: 0.7740 - mse: 0.7737 - val_loss: 1.2323 - val_mse: 1.2320\n",
            "Epoch 15/30\n",
            "250/250 - 1s - loss: 0.7655 - mse: 0.7651 - val_loss: 1.2198 - val_mse: 1.2195\n",
            "Epoch 16/30\n",
            "250/250 - 1s - loss: 0.7564 - mse: 0.7560 - val_loss: 1.2387 - val_mse: 1.2383\n",
            "Epoch 17/30\n",
            "250/250 - 1s - loss: 0.7489 - mse: 0.7485 - val_loss: 1.2292 - val_mse: 1.2288\n",
            "Epoch 18/30\n",
            "250/250 - 1s - loss: 0.7395 - mse: 0.7391 - val_loss: 1.2182 - val_mse: 1.2178\n",
            "Epoch 19/30\n",
            "250/250 - 1s - loss: 0.7325 - mse: 0.7320 - val_loss: 1.2166 - val_mse: 1.2161\n",
            "Epoch 20/30\n",
            "250/250 - 1s - loss: 0.7279 - mse: 0.7274 - val_loss: 1.2355 - val_mse: 1.2350\n",
            "Epoch 21/30\n",
            "250/250 - 1s - loss: 0.7209 - mse: 0.7203 - val_loss: 1.2344 - val_mse: 1.2339\n",
            "Epoch 22/30\n",
            "250/250 - 1s - loss: 0.7191 - mse: 0.7185 - val_loss: 1.2541 - val_mse: 1.2536\n",
            "Epoch 23/30\n",
            "250/250 - 1s - loss: 0.7147 - mse: 0.7142 - val_loss: 1.2224 - val_mse: 1.2218\n",
            "Epoch 24/30\n",
            "250/250 - 1s - loss: 0.7103 - mse: 0.7097 - val_loss: 1.2457 - val_mse: 1.2451\n",
            "Epoch 25/30\n",
            "250/250 - 1s - loss: 0.7083 - mse: 0.7077 - val_loss: 1.2393 - val_mse: 1.2387\n",
            "Epoch 26/30\n",
            "250/250 - 1s - loss: 0.7043 - mse: 0.7037 - val_loss: 1.2479 - val_mse: 1.2473\n",
            "Epoch 27/30\n",
            "250/250 - 1s - loss: 0.7008 - mse: 0.7001 - val_loss: 1.2432 - val_mse: 1.2425\n",
            "Epoch 28/30\n",
            "250/250 - 1s - loss: 0.6992 - mse: 0.6985 - val_loss: 1.2363 - val_mse: 1.2356\n",
            "Epoch 29/30\n",
            "250/250 - 1s - loss: 0.6960 - mse: 0.6953 - val_loss: 1.2496 - val_mse: 1.2489\n",
            "Epoch 30/30\n",
            "250/250 - 1s - loss: 0.6931 - mse: 0.6923 - val_loss: 1.2583 - val_mse: 1.2575\n",
            "mae 0.8618\n"
          ],
          "name": "stdout"
        }
      ]
    },
    {
      "cell_type": "markdown",
      "metadata": {
        "id": "ZqqsM1lIXEB5"
      },
      "source": [
        "model 2"
      ]
    },
    {
      "cell_type": "code",
      "metadata": {
        "colab": {
          "base_uri": "https://localhost:8080/"
        },
        "id": "4741p1urXFfk",
        "outputId": "a73ec598-4a37-4576-819f-b3c401ef7e70"
      },
      "source": [
        "# Define Model 2,train,predict and evaluate\n",
        "model_2 = DeepFM(linear_feature_columns, dnn_feature_columns, task='regression')\n",
        "model_2.compile(\"sgd\", \"mse\",\n",
        "              metrics=['mse'], )\n",
        "\n",
        "history = model_2.fit(train_model_input, train[target].values,\n",
        "                    batch_size=256, epochs=30, verbose=2, validation_split=0.2, )\n",
        "pred_ans = model_2.predict(test_model_input, batch_size=256)\n",
        "print(\"mae\", round(mean_absolute_error(test[target].values, pred_ans), 4))"
      ],
      "execution_count": null,
      "outputs": [
        {
          "output_type": "stream",
          "text": [
            "Epoch 1/30\n",
            "250/250 - 2s - loss: 1.5743 - mse: 1.5743 - val_loss: 1.5313 - val_mse: 1.5313\n",
            "Epoch 2/30\n",
            "250/250 - 1s - loss: 1.1635 - mse: 1.1635 - val_loss: 1.5244 - val_mse: 1.5244\n",
            "Epoch 3/30\n",
            "250/250 - 1s - loss: 1.1489 - mse: 1.1489 - val_loss: 1.4836 - val_mse: 1.4836\n",
            "Epoch 4/30\n",
            "250/250 - 1s - loss: 1.1334 - mse: 1.1334 - val_loss: 1.4797 - val_mse: 1.4797\n",
            "Epoch 5/30\n",
            "250/250 - 1s - loss: 1.1160 - mse: 1.1160 - val_loss: 1.4702 - val_mse: 1.4702\n",
            "Epoch 6/30\n",
            "250/250 - 1s - loss: 1.0942 - mse: 1.0942 - val_loss: 1.4433 - val_mse: 1.4433\n",
            "Epoch 7/30\n",
            "250/250 - 1s - loss: 1.0642 - mse: 1.0642 - val_loss: 1.3958 - val_mse: 1.3958\n",
            "Epoch 8/30\n",
            "250/250 - 1s - loss: 1.0225 - mse: 1.0225 - val_loss: 1.3238 - val_mse: 1.3237\n",
            "Epoch 9/30\n",
            "250/250 - 1s - loss: 0.9726 - mse: 0.9725 - val_loss: 1.3222 - val_mse: 1.3222\n",
            "Epoch 10/30\n",
            "250/250 - 1s - loss: 0.9277 - mse: 0.9277 - val_loss: 1.2760 - val_mse: 1.2760\n",
            "Epoch 11/30\n",
            "250/250 - 1s - loss: 0.8970 - mse: 0.8970 - val_loss: 1.2373 - val_mse: 1.2373\n",
            "Epoch 12/30\n",
            "250/250 - 1s - loss: 0.8781 - mse: 0.8781 - val_loss: 1.2540 - val_mse: 1.2540\n",
            "Epoch 13/30\n",
            "250/250 - 1s - loss: 0.8663 - mse: 0.8662 - val_loss: 1.2444 - val_mse: 1.2443\n",
            "Epoch 14/30\n",
            "250/250 - 1s - loss: 0.8572 - mse: 0.8571 - val_loss: 1.2443 - val_mse: 1.2442\n",
            "Epoch 15/30\n",
            "250/250 - 1s - loss: 0.8505 - mse: 0.8505 - val_loss: 1.2515 - val_mse: 1.2514\n",
            "Epoch 16/30\n",
            "250/250 - 1s - loss: 0.8463 - mse: 0.8463 - val_loss: 1.2542 - val_mse: 1.2541\n",
            "Epoch 17/30\n",
            "250/250 - 1s - loss: 0.8425 - mse: 0.8425 - val_loss: 1.1922 - val_mse: 1.1921\n",
            "Epoch 18/30\n",
            "250/250 - 1s - loss: 0.8399 - mse: 0.8398 - val_loss: 1.2089 - val_mse: 1.2089\n",
            "Epoch 19/30\n",
            "250/250 - 1s - loss: 0.8380 - mse: 0.8379 - val_loss: 1.2048 - val_mse: 1.2047\n",
            "Epoch 20/30\n",
            "250/250 - 1s - loss: 0.8362 - mse: 0.8362 - val_loss: 1.2661 - val_mse: 1.2660\n",
            "Epoch 21/30\n",
            "250/250 - 1s - loss: 0.8343 - mse: 0.8343 - val_loss: 1.2541 - val_mse: 1.2541\n",
            "Epoch 22/30\n",
            "250/250 - 1s - loss: 0.8334 - mse: 0.8333 - val_loss: 1.2374 - val_mse: 1.2374\n",
            "Epoch 23/30\n",
            "250/250 - 1s - loss: 0.8327 - mse: 0.8327 - val_loss: 1.2112 - val_mse: 1.2112\n",
            "Epoch 24/30\n",
            "250/250 - 1s - loss: 0.8318 - mse: 0.8318 - val_loss: 1.2792 - val_mse: 1.2791\n",
            "Epoch 25/30\n",
            "250/250 - 1s - loss: 0.8317 - mse: 0.8316 - val_loss: 1.2727 - val_mse: 1.2726\n",
            "Epoch 26/30\n",
            "250/250 - 1s - loss: 0.8309 - mse: 0.8309 - val_loss: 1.2274 - val_mse: 1.2273\n",
            "Epoch 27/30\n",
            "250/250 - 1s - loss: 0.8305 - mse: 0.8305 - val_loss: 1.2279 - val_mse: 1.2278\n",
            "Epoch 28/30\n",
            "250/250 - 1s - loss: 0.8296 - mse: 0.8295 - val_loss: 1.2459 - val_mse: 1.2459\n",
            "Epoch 29/30\n",
            "250/250 - 1s - loss: 0.8295 - mse: 0.8295 - val_loss: 1.2261 - val_mse: 1.2260\n",
            "Epoch 30/30\n",
            "250/250 - 1s - loss: 0.8287 - mse: 0.8287 - val_loss: 1.2165 - val_mse: 1.2164\n",
            "mae 0.8387\n"
          ],
          "name": "stdout"
        }
      ]
    }
  ]
}