{
  "nbformat": 4,
  "nbformat_minor": 0,
  "metadata": {
    "colab": {
      "name": "E-commerce-Q3.ipynb",
      "provenance": [],
      "collapsed_sections": [],
      "toc_visible": true
    },
    "kernelspec": {
      "name": "python3",
      "display_name": "Python 3"
    },
    "language_info": {
      "name": "python"
    }
  },
  "cells": [
    {
      "cell_type": "markdown",
      "metadata": {
        "id": "mNDsBHMM0BCa"
      },
      "source": [
        "# Question 3"
      ]
    },
    {
      "cell_type": "code",
      "metadata": {
        "colab": {
          "base_uri": "https://localhost:8080/"
        },
        "id": "6tPpBYRUFHDh",
        "outputId": "c60c23b6-7d54-4adf-d4af-ec6f675ae463"
      },
      "source": [
        "from google.colab import drive\n",
        "drive.mount('/content/drive')"
      ],
      "execution_count": null,
      "outputs": [
        {
          "output_type": "stream",
          "text": [
            "Drive already mounted at /content/drive; to attempt to forcibly remount, call drive.mount(\"/content/drive\", force_remount=True).\n"
          ],
          "name": "stdout"
        }
      ]
    },
    {
      "cell_type": "code",
      "metadata": {
        "colab": {
          "base_uri": "https://localhost:8080/"
        },
        "id": "AYYA6hVQFo6T",
        "outputId": "c976cd37-3019-450b-d9f7-aa786bfaea06"
      },
      "source": [
        "import pandas as pd\n",
        "!pip install turicreate\n",
        "import turicreate as tc\n",
        "\n",
        "# load the train and the test\n",
        "df_train = pd.read_csv('/content/drive/Shareddrives/E-Commerce Project/ml-100k/ml-100k/u1.base', delimiter='\\t', names=['User_id', 'Item_id', 'Rating', 'Timestamp'])\n",
        "df_test = pd.read_csv('/content/drive/Shareddrives/E-Commerce Project/ml-100k/ml-100k/u1.test', delimiter='\\t', names=['User_id', 'Item_id', 'Rating', 'Timestamp'])\n",
        "df_movies_info = pd.read_csv('/content/drive/Shareddrives/E-Commerce Project/ml-100k/ml-100k/u.item', encoding = \"ISO-8859-1\",delimiter='|', names=['Item_id', 'movie_title', 'release_date', 'video_release_date','IMDb_URL', 'unknown', 'Action', 'Adventure', 'Animation','Children', 'Comedy', 'Crime', 'Documentary', 'Drama','Fantasy', 'Film-Noir', 'Horror', 'Musical', 'Mystery', 'Romance','Sci-Fi', 'Thriller', 'War', 'Western'])\n",
        "\n",
        "\n"
      ],
      "execution_count": null,
      "outputs": [
        {
          "output_type": "stream",
          "text": [
            "Requirement already satisfied: turicreate in /usr/local/lib/python3.7/dist-packages (6.4.1)\n",
            "Requirement already satisfied: decorator>=4.0.9 in /usr/local/lib/python3.7/dist-packages (from turicreate) (4.4.2)\n",
            "Requirement already satisfied: numpy in /root/.local/lib/python3.7/site-packages (from turicreate) (1.19.5)\n",
            "Requirement already satisfied: scipy>=1.1.0 in /usr/local/lib/python3.7/dist-packages (from turicreate) (1.4.1)\n",
            "Requirement already satisfied: resampy==0.2.1 in /usr/local/lib/python3.7/dist-packages (from turicreate) (0.2.1)\n",
            "Requirement already satisfied: pillow>=5.2.0 in /usr/local/lib/python3.7/dist-packages (from turicreate) (7.1.2)\n",
            "Requirement already satisfied: prettytable==0.7.2 in /usr/local/lib/python3.7/dist-packages (from turicreate) (0.7.2)\n",
            "Requirement already satisfied: numba<0.51.0 in /usr/local/lib/python3.7/dist-packages (from turicreate) (0.50.1)\n",
            "Requirement already satisfied: tensorflow<2.1.0,>=2.0.0 in /usr/local/lib/python3.7/dist-packages (from turicreate) (2.0.4)\n",
            "Requirement already satisfied: coremltools==3.3 in /usr/local/lib/python3.7/dist-packages (from turicreate) (3.3)\n",
            "Requirement already satisfied: six>=1.10.0 in /usr/local/lib/python3.7/dist-packages (from turicreate) (1.15.0)\n",
            "Requirement already satisfied: pandas>=0.23.2 in /usr/local/lib/python3.7/dist-packages (from turicreate) (1.1.5)\n",
            "Requirement already satisfied: requests>=2.9.1 in /usr/local/lib/python3.7/dist-packages (from turicreate) (2.23.0)\n",
            "Requirement already satisfied: setuptools in /usr/local/lib/python3.7/dist-packages (from numba<0.51.0->turicreate) (56.1.0)\n",
            "Requirement already satisfied: llvmlite<0.34,>=0.33.0.dev0 in /usr/local/lib/python3.7/dist-packages (from numba<0.51.0->turicreate) (0.33.0)\n",
            "Requirement already satisfied: keras-applications>=1.0.8 in /usr/local/lib/python3.7/dist-packages (from tensorflow<2.1.0,>=2.0.0->turicreate) (1.0.8)\n",
            "Requirement already satisfied: keras-preprocessing>=1.0.5 in /usr/local/lib/python3.7/dist-packages (from tensorflow<2.1.0,>=2.0.0->turicreate) (1.1.2)\n",
            "Collecting tensorflow-estimator<2.1.0,>=2.0.0\n",
            "  Using cached https://files.pythonhosted.org/packages/fc/08/8b927337b7019c374719145d1dceba21a8bb909b93b1ad6f8fb7d22c1ca1/tensorflow_estimator-2.0.1-py2.py3-none-any.whl\n",
            "Requirement already satisfied: wheel>=0.26; python_version >= \"3\" in /usr/local/lib/python3.7/dist-packages (from tensorflow<2.1.0,>=2.0.0->turicreate) (0.36.2)\n",
            "Requirement already satisfied: grpcio>=1.8.6 in /root/.local/lib/python3.7/site-packages (from tensorflow<2.1.0,>=2.0.0->turicreate) (1.34.1)\n",
            "Requirement already satisfied: wrapt>=1.11.1 in /usr/local/lib/python3.7/dist-packages (from tensorflow<2.1.0,>=2.0.0->turicreate) (1.12.1)\n",
            "Requirement already satisfied: google-pasta>=0.1.6 in /usr/local/lib/python3.7/dist-packages (from tensorflow<2.1.0,>=2.0.0->turicreate) (0.2.0)\n",
            "Requirement already satisfied: astor>=0.6.0 in /usr/local/lib/python3.7/dist-packages (from tensorflow<2.1.0,>=2.0.0->turicreate) (0.8.1)\n",
            "Collecting tensorboard<2.1.0,>=2.0.0\n",
            "  Using cached https://files.pythonhosted.org/packages/76/54/99b9d5d52d5cb732f099baaaf7740403e83fe6b0cedde940fabd2b13d75a/tensorboard-2.0.2-py3-none-any.whl\n",
            "Requirement already satisfied: absl-py>=0.7.0 in /usr/local/lib/python3.7/dist-packages (from tensorflow<2.1.0,>=2.0.0->turicreate) (0.12.0)\n",
            "Requirement already satisfied: opt-einsum>=2.3.2 in /usr/local/lib/python3.7/dist-packages (from tensorflow<2.1.0,>=2.0.0->turicreate) (3.3.0)\n",
            "Processing /root/.cache/pip/wheels/5c/2e/7e/a1d4d4fcebe6c381f378ce7743a3ced3699feb89bcfbdadadd/gast-0.2.2-cp37-none-any.whl\n",
            "Requirement already satisfied: termcolor>=1.1.0 in /usr/local/lib/python3.7/dist-packages (from tensorflow<2.1.0,>=2.0.0->turicreate) (1.1.0)\n",
            "Requirement already satisfied: protobuf>=3.6.1 in /usr/local/lib/python3.7/dist-packages (from tensorflow<2.1.0,>=2.0.0->turicreate) (3.12.4)\n",
            "Requirement already satisfied: h5py<=2.10.0 in /usr/local/lib/python3.7/dist-packages (from tensorflow<2.1.0,>=2.0.0->turicreate) (2.10.0)\n",
            "Requirement already satisfied: python-dateutil>=2.7.3 in /usr/local/lib/python3.7/dist-packages (from pandas>=0.23.2->turicreate) (2.8.1)\n",
            "Requirement already satisfied: pytz>=2017.2 in /usr/local/lib/python3.7/dist-packages (from pandas>=0.23.2->turicreate) (2018.9)\n",
            "Requirement already satisfied: urllib3!=1.25.0,!=1.25.1,<1.26,>=1.21.1 in /usr/local/lib/python3.7/dist-packages (from requests>=2.9.1->turicreate) (1.24.3)\n",
            "Requirement already satisfied: certifi>=2017.4.17 in /usr/local/lib/python3.7/dist-packages (from requests>=2.9.1->turicreate) (2020.12.5)\n",
            "Requirement already satisfied: idna<3,>=2.5 in /usr/local/lib/python3.7/dist-packages (from requests>=2.9.1->turicreate) (2.10)\n",
            "Requirement already satisfied: chardet<4,>=3.0.2 in /usr/local/lib/python3.7/dist-packages (from requests>=2.9.1->turicreate) (3.0.4)\n",
            "Requirement already satisfied: markdown>=2.6.8 in /usr/local/lib/python3.7/dist-packages (from tensorboard<2.1.0,>=2.0.0->tensorflow<2.1.0,>=2.0.0->turicreate) (3.3.4)\n",
            "Requirement already satisfied: google-auth<2,>=1.6.3 in /usr/local/lib/python3.7/dist-packages (from tensorboard<2.1.0,>=2.0.0->tensorflow<2.1.0,>=2.0.0->turicreate) (1.30.0)\n",
            "Requirement already satisfied: google-auth-oauthlib<0.5,>=0.4.1 in /usr/local/lib/python3.7/dist-packages (from tensorboard<2.1.0,>=2.0.0->tensorflow<2.1.0,>=2.0.0->turicreate) (0.4.4)\n",
            "Requirement already satisfied: werkzeug>=0.11.15 in /usr/local/lib/python3.7/dist-packages (from tensorboard<2.1.0,>=2.0.0->tensorflow<2.1.0,>=2.0.0->turicreate) (2.0.0)\n",
            "Requirement already satisfied: importlib-metadata; python_version < \"3.8\" in /usr/local/lib/python3.7/dist-packages (from markdown>=2.6.8->tensorboard<2.1.0,>=2.0.0->tensorflow<2.1.0,>=2.0.0->turicreate) (4.0.1)\n",
            "Requirement already satisfied: pyasn1-modules>=0.2.1 in /usr/local/lib/python3.7/dist-packages (from google-auth<2,>=1.6.3->tensorboard<2.1.0,>=2.0.0->tensorflow<2.1.0,>=2.0.0->turicreate) (0.2.8)\n",
            "Requirement already satisfied: cachetools<5.0,>=2.0.0 in /usr/local/lib/python3.7/dist-packages (from google-auth<2,>=1.6.3->tensorboard<2.1.0,>=2.0.0->tensorflow<2.1.0,>=2.0.0->turicreate) (4.2.2)\n",
            "Requirement already satisfied: rsa<5,>=3.1.4; python_version >= \"3.6\" in /usr/local/lib/python3.7/dist-packages (from google-auth<2,>=1.6.3->tensorboard<2.1.0,>=2.0.0->tensorflow<2.1.0,>=2.0.0->turicreate) (4.7.2)\n",
            "Requirement already satisfied: requests-oauthlib>=0.7.0 in /usr/local/lib/python3.7/dist-packages (from google-auth-oauthlib<0.5,>=0.4.1->tensorboard<2.1.0,>=2.0.0->tensorflow<2.1.0,>=2.0.0->turicreate) (1.3.0)\n",
            "Requirement already satisfied: typing-extensions>=3.6.4; python_version < \"3.8\" in /usr/local/lib/python3.7/dist-packages (from importlib-metadata; python_version < \"3.8\"->markdown>=2.6.8->tensorboard<2.1.0,>=2.0.0->tensorflow<2.1.0,>=2.0.0->turicreate) (3.7.4.3)\n",
            "Requirement already satisfied: zipp>=0.5 in /usr/local/lib/python3.7/dist-packages (from importlib-metadata; python_version < \"3.8\"->markdown>=2.6.8->tensorboard<2.1.0,>=2.0.0->tensorflow<2.1.0,>=2.0.0->turicreate) (3.4.1)\n",
            "Requirement already satisfied: pyasn1<0.5.0,>=0.4.6 in /usr/local/lib/python3.7/dist-packages (from pyasn1-modules>=0.2.1->google-auth<2,>=1.6.3->tensorboard<2.1.0,>=2.0.0->tensorflow<2.1.0,>=2.0.0->turicreate) (0.4.8)\n",
            "Requirement already satisfied: oauthlib>=3.0.0 in /usr/local/lib/python3.7/dist-packages (from requests-oauthlib>=0.7.0->google-auth-oauthlib<0.5,>=0.4.1->tensorboard<2.1.0,>=2.0.0->tensorflow<2.1.0,>=2.0.0->turicreate) (3.1.0)\n",
            "\u001b[31mERROR: tensorflow-gpu 2.5.0 has requirement gast==0.4.0, but you'll have gast 0.2.2 which is incompatible.\u001b[0m\n",
            "\u001b[31mERROR: tensorflow-gpu 2.5.0 has requirement h5py~=3.1.0, but you'll have h5py 2.10.0 which is incompatible.\u001b[0m\n",
            "\u001b[31mERROR: tensorflow-gpu 2.5.0 has requirement tensorboard~=2.5, but you'll have tensorboard 2.0.2 which is incompatible.\u001b[0m\n",
            "\u001b[31mERROR: tensorflow-gpu 2.5.0 has requirement tensorflow-estimator<2.6.0,>=2.5.0rc0, but you'll have tensorflow-estimator 2.0.1 which is incompatible.\u001b[0m\n",
            "\u001b[31mERROR: tensorflow 2.0.4 has requirement numpy<1.19.0,>=1.16.0, but you'll have numpy 1.19.5 which is incompatible.\u001b[0m\n",
            "\u001b[31mERROR: tensorflow-probability 0.12.1 has requirement gast>=0.3.2, but you'll have gast 0.2.2 which is incompatible.\u001b[0m\n",
            "Installing collected packages: tensorflow-estimator, tensorboard, gast\n",
            "  Found existing installation: tensorflow-estimator 2.2.0\n",
            "    Uninstalling tensorflow-estimator-2.2.0:\n",
            "      Successfully uninstalled tensorflow-estimator-2.2.0\n",
            "  Found existing installation: tensorboard 2.2.2\n",
            "    Uninstalling tensorboard-2.2.2:\n",
            "      Successfully uninstalled tensorboard-2.2.2\n",
            "  Found existing installation: gast 0.3.3\n",
            "    Uninstalling gast-0.3.3:\n",
            "      Successfully uninstalled gast-0.3.3\n",
            "Successfully installed gast-0.2.2 tensorboard-2.0.2 tensorflow-estimator-2.0.1\n"
          ],
          "name": "stdout"
        }
      ]
    },
    {
      "cell_type": "code",
      "metadata": {
        "id": "ChLe7ghlGl9B"
      },
      "source": [
        "# merging the data frame with movie information\n",
        "df_train = df_train.merge(df_movies_info)\n",
        "df_test = df_test.merge(df_movies_info)\n"
      ],
      "execution_count": null,
      "outputs": []
    },
    {
      "cell_type": "code",
      "metadata": {
        "id": "v759BcNkKyZH"
      },
      "source": [
        "geners = df_train[['unknown','Action', 'Adventure', 'Animation', 'Children', 'Comedy', 'Crime', 'Documentary', 'Drama', 'Fantasy',\n",
        "                 'Film-Noir', 'Horror', 'Musical', 'Mystery', 'Romance', 'Sci-Fi', 'Thriller', 'War', 'Western']]\n",
        "users = df_train['User_id'].values\n",
        "movies = df_train['Item_id'].values\n",
        "ratings = df_train['Rating'].values\n"
      ],
      "execution_count": null,
      "outputs": []
    },
    {
      "cell_type": "code",
      "metadata": {
        "colab": {
          "base_uri": "https://localhost:8080/",
          "height": 279
        },
        "id": "PfTuK95NP_Se",
        "outputId": "9c499eae-4585-4940-8ab7-4c3f21d9728a"
      },
      "source": [
        "sframe = tc.SFrame({\"user_id\":users,\"item_id\":movies,\"rating\":ratings})\n",
        "sframe"
      ],
      "execution_count": null,
      "outputs": [
        {
          "output_type": "execute_result",
          "data": {
            "text/html": [
              "<div style=\"max-height:1000px;max-width:1500px;overflow:auto;\"><table frame=\"box\" rules=\"cols\">\n",
              "    <tr>\n",
              "        <th style=\"padding-left: 1em; padding-right: 1em; text-align: center\">item_id</th>\n",
              "        <th style=\"padding-left: 1em; padding-right: 1em; text-align: center\">rating</th>\n",
              "        <th style=\"padding-left: 1em; padding-right: 1em; text-align: center\">user_id</th>\n",
              "    </tr>\n",
              "    <tr>\n",
              "        <td style=\"padding-left: 1em; padding-right: 1em; text-align: center; vertical-align: top\">1</td>\n",
              "        <td style=\"padding-left: 1em; padding-right: 1em; text-align: center; vertical-align: top\">5</td>\n",
              "        <td style=\"padding-left: 1em; padding-right: 1em; text-align: center; vertical-align: top\">1</td>\n",
              "    </tr>\n",
              "    <tr>\n",
              "        <td style=\"padding-left: 1em; padding-right: 1em; text-align: center; vertical-align: top\">1</td>\n",
              "        <td style=\"padding-left: 1em; padding-right: 1em; text-align: center; vertical-align: top\">4</td>\n",
              "        <td style=\"padding-left: 1em; padding-right: 1em; text-align: center; vertical-align: top\">2</td>\n",
              "    </tr>\n",
              "    <tr>\n",
              "        <td style=\"padding-left: 1em; padding-right: 1em; text-align: center; vertical-align: top\">1</td>\n",
              "        <td style=\"padding-left: 1em; padding-right: 1em; text-align: center; vertical-align: top\">4</td>\n",
              "        <td style=\"padding-left: 1em; padding-right: 1em; text-align: center; vertical-align: top\">6</td>\n",
              "    </tr>\n",
              "    <tr>\n",
              "        <td style=\"padding-left: 1em; padding-right: 1em; text-align: center; vertical-align: top\">1</td>\n",
              "        <td style=\"padding-left: 1em; padding-right: 1em; text-align: center; vertical-align: top\">3</td>\n",
              "        <td style=\"padding-left: 1em; padding-right: 1em; text-align: center; vertical-align: top\">13</td>\n",
              "    </tr>\n",
              "    <tr>\n",
              "        <td style=\"padding-left: 1em; padding-right: 1em; text-align: center; vertical-align: top\">1</td>\n",
              "        <td style=\"padding-left: 1em; padding-right: 1em; text-align: center; vertical-align: top\">5</td>\n",
              "        <td style=\"padding-left: 1em; padding-right: 1em; text-align: center; vertical-align: top\">16</td>\n",
              "    </tr>\n",
              "    <tr>\n",
              "        <td style=\"padding-left: 1em; padding-right: 1em; text-align: center; vertical-align: top\">1</td>\n",
              "        <td style=\"padding-left: 1em; padding-right: 1em; text-align: center; vertical-align: top\">5</td>\n",
              "        <td style=\"padding-left: 1em; padding-right: 1em; text-align: center; vertical-align: top\">21</td>\n",
              "    </tr>\n",
              "    <tr>\n",
              "        <td style=\"padding-left: 1em; padding-right: 1em; text-align: center; vertical-align: top\">1</td>\n",
              "        <td style=\"padding-left: 1em; padding-right: 1em; text-align: center; vertical-align: top\">5</td>\n",
              "        <td style=\"padding-left: 1em; padding-right: 1em; text-align: center; vertical-align: top\">25</td>\n",
              "    </tr>\n",
              "    <tr>\n",
              "        <td style=\"padding-left: 1em; padding-right: 1em; text-align: center; vertical-align: top\">1</td>\n",
              "        <td style=\"padding-left: 1em; padding-right: 1em; text-align: center; vertical-align: top\">3</td>\n",
              "        <td style=\"padding-left: 1em; padding-right: 1em; text-align: center; vertical-align: top\">26</td>\n",
              "    </tr>\n",
              "    <tr>\n",
              "        <td style=\"padding-left: 1em; padding-right: 1em; text-align: center; vertical-align: top\">1</td>\n",
              "        <td style=\"padding-left: 1em; padding-right: 1em; text-align: center; vertical-align: top\">5</td>\n",
              "        <td style=\"padding-left: 1em; padding-right: 1em; text-align: center; vertical-align: top\">42</td>\n",
              "    </tr>\n",
              "    <tr>\n",
              "        <td style=\"padding-left: 1em; padding-right: 1em; text-align: center; vertical-align: top\">1</td>\n",
              "        <td style=\"padding-left: 1em; padding-right: 1em; text-align: center; vertical-align: top\">4</td>\n",
              "        <td style=\"padding-left: 1em; padding-right: 1em; text-align: center; vertical-align: top\">44</td>\n",
              "    </tr>\n",
              "</table>\n",
              "[80000 rows x 3 columns]<br/>Note: Only the head of the SFrame is printed.<br/>You can use print_rows(num_rows=m, num_columns=n) to print more rows and columns.\n",
              "</div>"
            ],
            "text/plain": [
              "Columns:\n",
              "\titem_id\tint\n",
              "\trating\tint\n",
              "\tuser_id\tint\n",
              "\n",
              "Rows: 80000\n",
              "\n",
              "Data:\n",
              "+---------+--------+---------+\n",
              "| item_id | rating | user_id |\n",
              "+---------+--------+---------+\n",
              "|    1    |   5    |    1    |\n",
              "|    1    |   4    |    2    |\n",
              "|    1    |   4    |    6    |\n",
              "|    1    |   3    |    13   |\n",
              "|    1    |   5    |    16   |\n",
              "|    1    |   5    |    21   |\n",
              "|    1    |   5    |    25   |\n",
              "|    1    |   3    |    26   |\n",
              "|    1    |   5    |    42   |\n",
              "|    1    |   4    |    44   |\n",
              "+---------+--------+---------+\n",
              "[80000 rows x 3 columns]\n",
              "Note: Only the head of the SFrame is printed.\n",
              "You can use print_rows(num_rows=m, num_columns=n) to print more rows and columns."
            ]
          },
          "metadata": {
            "tags": []
          },
          "execution_count": 5
        }
      ]
    },
    {
      "cell_type": "markdown",
      "metadata": {
        "id": "LMKb1s2JSvH0"
      },
      "source": [
        "## Matrix Factorization"
      ]
    },
    {
      "cell_type": "code",
      "metadata": {
        "colab": {
          "base_uri": "https://localhost:8080/",
          "height": 833
        },
        "id": "fMReITNQRUuz",
        "outputId": "1991827c-7624-4eb9-a4c4-e6380d424404"
      },
      "source": [
        "# create the model\n",
        "model_matrix_factorization = tc.ranking_factorization_recommender.create(sframe, target=\"rating\")"
      ],
      "execution_count": null,
      "outputs": [
        {
          "output_type": "display_data",
          "data": {
            "text/html": [
              "<pre>Preparing data set.</pre>"
            ],
            "text/plain": [
              "Preparing data set."
            ]
          },
          "metadata": {
            "tags": []
          }
        },
        {
          "output_type": "display_data",
          "data": {
            "text/html": [
              "<pre>    Data has 80000 observations with 943 users and 1650 items.</pre>"
            ],
            "text/plain": [
              "    Data has 80000 observations with 943 users and 1650 items."
            ]
          },
          "metadata": {
            "tags": []
          }
        },
        {
          "output_type": "display_data",
          "data": {
            "text/html": [
              "<pre>    Data prepared in: 0.091541s</pre>"
            ],
            "text/plain": [
              "    Data prepared in: 0.091541s"
            ]
          },
          "metadata": {
            "tags": []
          }
        },
        {
          "output_type": "display_data",
          "data": {
            "text/html": [
              "<pre>Training ranking_factorization_recommender for recommendations.</pre>"
            ],
            "text/plain": [
              "Training ranking_factorization_recommender for recommendations."
            ]
          },
          "metadata": {
            "tags": []
          }
        },
        {
          "output_type": "display_data",
          "data": {
            "text/html": [
              "<pre>+--------------------------------+--------------------------------------------------+----------+</pre>"
            ],
            "text/plain": [
              "+--------------------------------+--------------------------------------------------+----------+"
            ]
          },
          "metadata": {
            "tags": []
          }
        },
        {
          "output_type": "display_data",
          "data": {
            "text/html": [
              "<pre>| Parameter                      | Description                                      | Value    |</pre>"
            ],
            "text/plain": [
              "| Parameter                      | Description                                      | Value    |"
            ]
          },
          "metadata": {
            "tags": []
          }
        },
        {
          "output_type": "display_data",
          "data": {
            "text/html": [
              "<pre>+--------------------------------+--------------------------------------------------+----------+</pre>"
            ],
            "text/plain": [
              "+--------------------------------+--------------------------------------------------+----------+"
            ]
          },
          "metadata": {
            "tags": []
          }
        },
        {
          "output_type": "display_data",
          "data": {
            "text/html": [
              "<pre>| num_factors                    | Factor Dimension                                 | 32       |</pre>"
            ],
            "text/plain": [
              "| num_factors                    | Factor Dimension                                 | 32       |"
            ]
          },
          "metadata": {
            "tags": []
          }
        },
        {
          "output_type": "display_data",
          "data": {
            "text/html": [
              "<pre>| regularization                 | L2 Regularization on Factors                     | 1e-09    |</pre>"
            ],
            "text/plain": [
              "| regularization                 | L2 Regularization on Factors                     | 1e-09    |"
            ]
          },
          "metadata": {
            "tags": []
          }
        },
        {
          "output_type": "display_data",
          "data": {
            "text/html": [
              "<pre>| solver                         | Solver used for training                         | sgd      |</pre>"
            ],
            "text/plain": [
              "| solver                         | Solver used for training                         | sgd      |"
            ]
          },
          "metadata": {
            "tags": []
          }
        },
        {
          "output_type": "display_data",
          "data": {
            "text/html": [
              "<pre>| linear_regularization          | L2 Regularization on Linear Coefficients         | 1e-09    |</pre>"
            ],
            "text/plain": [
              "| linear_regularization          | L2 Regularization on Linear Coefficients         | 1e-09    |"
            ]
          },
          "metadata": {
            "tags": []
          }
        },
        {
          "output_type": "display_data",
          "data": {
            "text/html": [
              "<pre>| ranking_regularization         | Rank-based Regularization Weight                 | 0.25     |</pre>"
            ],
            "text/plain": [
              "| ranking_regularization         | Rank-based Regularization Weight                 | 0.25     |"
            ]
          },
          "metadata": {
            "tags": []
          }
        },
        {
          "output_type": "display_data",
          "data": {
            "text/html": [
              "<pre>| max_iterations                 | Maximum Number of Iterations                     | 25       |</pre>"
            ],
            "text/plain": [
              "| max_iterations                 | Maximum Number of Iterations                     | 25       |"
            ]
          },
          "metadata": {
            "tags": []
          }
        },
        {
          "output_type": "display_data",
          "data": {
            "text/html": [
              "<pre>+--------------------------------+--------------------------------------------------+----------+</pre>"
            ],
            "text/plain": [
              "+--------------------------------+--------------------------------------------------+----------+"
            ]
          },
          "metadata": {
            "tags": []
          }
        },
        {
          "output_type": "display_data",
          "data": {
            "text/html": [
              "<pre>  Optimizing model using SGD; tuning step size.</pre>"
            ],
            "text/plain": [
              "  Optimizing model using SGD; tuning step size."
            ]
          },
          "metadata": {
            "tags": []
          }
        },
        {
          "output_type": "display_data",
          "data": {
            "text/html": [
              "<pre>  Using 10000 / 80000 points for tuning the step size.</pre>"
            ],
            "text/plain": [
              "  Using 10000 / 80000 points for tuning the step size."
            ]
          },
          "metadata": {
            "tags": []
          }
        },
        {
          "output_type": "display_data",
          "data": {
            "text/html": [
              "<pre>+---------+-------------------+------------------------------------------+</pre>"
            ],
            "text/plain": [
              "+---------+-------------------+------------------------------------------+"
            ]
          },
          "metadata": {
            "tags": []
          }
        },
        {
          "output_type": "display_data",
          "data": {
            "text/html": [
              "<pre>| Attempt | Initial Step Size | Estimated Objective Value                |</pre>"
            ],
            "text/plain": [
              "| Attempt | Initial Step Size | Estimated Objective Value                |"
            ]
          },
          "metadata": {
            "tags": []
          }
        },
        {
          "output_type": "display_data",
          "data": {
            "text/html": [
              "<pre>+---------+-------------------+------------------------------------------+</pre>"
            ],
            "text/plain": [
              "+---------+-------------------+------------------------------------------+"
            ]
          },
          "metadata": {
            "tags": []
          }
        },
        {
          "output_type": "display_data",
          "data": {
            "text/html": [
              "<pre>| 0       | 25                | Not Viable                               |</pre>"
            ],
            "text/plain": [
              "| 0       | 25                | Not Viable                               |"
            ]
          },
          "metadata": {
            "tags": []
          }
        },
        {
          "output_type": "display_data",
          "data": {
            "text/html": [
              "<pre>| 1       | 6.25              | Not Viable                               |</pre>"
            ],
            "text/plain": [
              "| 1       | 6.25              | Not Viable                               |"
            ]
          },
          "metadata": {
            "tags": []
          }
        },
        {
          "output_type": "display_data",
          "data": {
            "text/html": [
              "<pre>| 2       | 1.5625            | Not Viable                               |</pre>"
            ],
            "text/plain": [
              "| 2       | 1.5625            | Not Viable                               |"
            ]
          },
          "metadata": {
            "tags": []
          }
        },
        {
          "output_type": "display_data",
          "data": {
            "text/html": [
              "<pre>| 3       | 0.390625          | Not Viable                               |</pre>"
            ],
            "text/plain": [
              "| 3       | 0.390625          | Not Viable                               |"
            ]
          },
          "metadata": {
            "tags": []
          }
        },
        {
          "output_type": "display_data",
          "data": {
            "text/html": [
              "<pre>| 4       | 0.0976562         | 1.8138                                   |</pre>"
            ],
            "text/plain": [
              "| 4       | 0.0976562         | 1.8138                                   |"
            ]
          },
          "metadata": {
            "tags": []
          }
        },
        {
          "output_type": "display_data",
          "data": {
            "text/html": [
              "<pre>| 5       | 0.0488281         | 1.82407                                  |</pre>"
            ],
            "text/plain": [
              "| 5       | 0.0488281         | 1.82407                                  |"
            ]
          },
          "metadata": {
            "tags": []
          }
        },
        {
          "output_type": "display_data",
          "data": {
            "text/html": [
              "<pre>| 6       | 0.0244141         | 1.8658                                   |</pre>"
            ],
            "text/plain": [
              "| 6       | 0.0244141         | 1.8658                                   |"
            ]
          },
          "metadata": {
            "tags": []
          }
        },
        {
          "output_type": "display_data",
          "data": {
            "text/html": [
              "<pre>| 7       | 0.012207          | 1.93523                                  |</pre>"
            ],
            "text/plain": [
              "| 7       | 0.012207          | 1.93523                                  |"
            ]
          },
          "metadata": {
            "tags": []
          }
        },
        {
          "output_type": "display_data",
          "data": {
            "text/html": [
              "<pre>+---------+-------------------+------------------------------------------+</pre>"
            ],
            "text/plain": [
              "+---------+-------------------+------------------------------------------+"
            ]
          },
          "metadata": {
            "tags": []
          }
        },
        {
          "output_type": "display_data",
          "data": {
            "text/html": [
              "<pre>| Final   | 0.0976562         | 1.8138                                   |</pre>"
            ],
            "text/plain": [
              "| Final   | 0.0976562         | 1.8138                                   |"
            ]
          },
          "metadata": {
            "tags": []
          }
        },
        {
          "output_type": "display_data",
          "data": {
            "text/html": [
              "<pre>+---------+-------------------+------------------------------------------+</pre>"
            ],
            "text/plain": [
              "+---------+-------------------+------------------------------------------+"
            ]
          },
          "metadata": {
            "tags": []
          }
        },
        {
          "output_type": "display_data",
          "data": {
            "text/html": [
              "<pre>Starting Optimization.</pre>"
            ],
            "text/plain": [
              "Starting Optimization."
            ]
          },
          "metadata": {
            "tags": []
          }
        },
        {
          "output_type": "display_data",
          "data": {
            "text/html": [
              "<pre>+---------+--------------+-------------------+-----------------------+-------------+</pre>"
            ],
            "text/plain": [
              "+---------+--------------+-------------------+-----------------------+-------------+"
            ]
          },
          "metadata": {
            "tags": []
          }
        },
        {
          "output_type": "display_data",
          "data": {
            "text/html": [
              "<pre>| Iter.   | Elapsed Time | Approx. Objective | Approx. Training RMSE | Step Size   |</pre>"
            ],
            "text/plain": [
              "| Iter.   | Elapsed Time | Approx. Objective | Approx. Training RMSE | Step Size   |"
            ]
          },
          "metadata": {
            "tags": []
          }
        },
        {
          "output_type": "display_data",
          "data": {
            "text/html": [
              "<pre>+---------+--------------+-------------------+-----------------------+-------------+</pre>"
            ],
            "text/plain": [
              "+---------+--------------+-------------------+-----------------------+-------------+"
            ]
          },
          "metadata": {
            "tags": []
          }
        },
        {
          "output_type": "display_data",
          "data": {
            "text/html": [
              "<pre>| Initial | 120us        | 2.45312           | 1.11855               |             |</pre>"
            ],
            "text/plain": [
              "| Initial | 120us        | 2.45312           | 1.11855               |             |"
            ]
          },
          "metadata": {
            "tags": []
          }
        },
        {
          "output_type": "display_data",
          "data": {
            "text/html": [
              "<pre>+---------+--------------+-------------------+-----------------------+-------------+</pre>"
            ],
            "text/plain": [
              "+---------+--------------+-------------------+-----------------------+-------------+"
            ]
          },
          "metadata": {
            "tags": []
          }
        },
        {
          "output_type": "display_data",
          "data": {
            "text/html": [
              "<pre>| 1       | 102.297ms    | 2.06728           | 1.1342                | 0.0976562   |</pre>"
            ],
            "text/plain": [
              "| 1       | 102.297ms    | 2.06728           | 1.1342                | 0.0976562   |"
            ]
          },
          "metadata": {
            "tags": []
          }
        },
        {
          "output_type": "display_data",
          "data": {
            "text/html": [
              "<pre>| 2       | 207.353ms    | 1.81334           | 1.07243               | 0.0580668   |</pre>"
            ],
            "text/plain": [
              "| 2       | 207.353ms    | 1.81334           | 1.07243               | 0.0580668   |"
            ]
          },
          "metadata": {
            "tags": []
          }
        },
        {
          "output_type": "display_data",
          "data": {
            "text/html": [
              "<pre>| 3       | 287.843ms    | 1.62267           | 1.00218               | 0.042841    |</pre>"
            ],
            "text/plain": [
              "| 3       | 287.843ms    | 1.62267           | 1.00218               | 0.042841    |"
            ]
          },
          "metadata": {
            "tags": []
          }
        },
        {
          "output_type": "display_data",
          "data": {
            "text/html": [
              "<pre>| 4       | 375.369ms    | 1.465             | 0.940787              | 0.0345267   |</pre>"
            ],
            "text/plain": [
              "| 4       | 375.369ms    | 1.465             | 0.940787              | 0.0345267   |"
            ]
          },
          "metadata": {
            "tags": []
          }
        },
        {
          "output_type": "display_data",
          "data": {
            "text/html": [
              "<pre>| 5       | 457.809ms    | 1.32823           | 0.88153               | 0.029206    |</pre>"
            ],
            "text/plain": [
              "| 5       | 457.809ms    | 1.32823           | 0.88153               | 0.029206    |"
            ]
          },
          "metadata": {
            "tags": []
          }
        },
        {
          "output_type": "display_data",
          "data": {
            "text/html": [
              "<pre>| 10      | 845.331ms    | 0.964494          | 0.713794              | 0.017366    |</pre>"
            ],
            "text/plain": [
              "| 10      | 845.331ms    | 0.964494          | 0.713794              | 0.017366    |"
            ]
          },
          "metadata": {
            "tags": []
          }
        },
        {
          "output_type": "display_data",
          "data": {
            "text/html": [
              "<pre>| 25      | 2.04s        | 0.774951          | 0.615776              | 0.00873464  |</pre>"
            ],
            "text/plain": [
              "| 25      | 2.04s        | 0.774951          | 0.615776              | 0.00873464  |"
            ]
          },
          "metadata": {
            "tags": []
          }
        },
        {
          "output_type": "display_data",
          "data": {
            "text/html": [
              "<pre>+---------+--------------+-------------------+-----------------------+-------------+</pre>"
            ],
            "text/plain": [
              "+---------+--------------+-------------------+-----------------------+-------------+"
            ]
          },
          "metadata": {
            "tags": []
          }
        },
        {
          "output_type": "display_data",
          "data": {
            "text/html": [
              "<pre>Optimization Complete: Maximum number of passes through the data reached.</pre>"
            ],
            "text/plain": [
              "Optimization Complete: Maximum number of passes through the data reached."
            ]
          },
          "metadata": {
            "tags": []
          }
        },
        {
          "output_type": "display_data",
          "data": {
            "text/html": [
              "<pre>Computing final objective value and training RMSE.</pre>"
            ],
            "text/plain": [
              "Computing final objective value and training RMSE."
            ]
          },
          "metadata": {
            "tags": []
          }
        },
        {
          "output_type": "display_data",
          "data": {
            "text/html": [
              "<pre>       Final objective value: 0.752023</pre>"
            ],
            "text/plain": [
              "       Final objective value: 0.752023"
            ]
          },
          "metadata": {
            "tags": []
          }
        },
        {
          "output_type": "display_data",
          "data": {
            "text/html": [
              "<pre>       Final training RMSE: 0.559672</pre>"
            ],
            "text/plain": [
              "       Final training RMSE: 0.559672"
            ]
          },
          "metadata": {
            "tags": []
          }
        }
      ]
    },
    {
      "cell_type": "code",
      "metadata": {
        "colab": {
          "base_uri": "https://localhost:8080/"
        },
        "id": "9j8yUnS8SFJy",
        "outputId": "adead078-6eb9-4c71-8c1c-2a9f141b1d94"
      },
      "source": [
        "# make the prediction\n",
        "predict = model_matrix_factorization.predict(sframe)\n",
        "error = abs((ratings-predict))\n",
        "MF_MAE = sum(error) / len(error)\n",
        "print(MF_MAE)"
      ],
      "execution_count": null,
      "outputs": [
        {
          "output_type": "stream",
          "text": [
            "0.4413899055736707\n"
          ],
          "name": "stdout"
        }
      ]
    },
    {
      "cell_type": "markdown",
      "metadata": {
        "id": "m_WwIzItSzeh"
      },
      "source": [
        "## Item to Item Similarity"
      ]
    },
    {
      "cell_type": "code",
      "metadata": {
        "colab": {
          "base_uri": "https://localhost:8080/",
          "height": 374
        },
        "id": "VC2G1q8nSzAH",
        "outputId": "75a2bf59-4274-49fb-e4c0-cdbcb183e41a"
      },
      "source": [
        "# create the model\n",
        "model_item_to_item = tc.item_similarity_recommender.create(sframe, target=\"rating\")"
      ],
      "execution_count": null,
      "outputs": [
        {
          "output_type": "display_data",
          "data": {
            "text/html": [
              "<pre>Preparing data set.</pre>"
            ],
            "text/plain": [
              "Preparing data set."
            ]
          },
          "metadata": {
            "tags": []
          }
        },
        {
          "output_type": "display_data",
          "data": {
            "text/html": [
              "<pre>    Data has 80000 observations with 943 users and 1650 items.</pre>"
            ],
            "text/plain": [
              "    Data has 80000 observations with 943 users and 1650 items."
            ]
          },
          "metadata": {
            "tags": []
          }
        },
        {
          "output_type": "display_data",
          "data": {
            "text/html": [
              "<pre>    Data prepared in: 0.087638s</pre>"
            ],
            "text/plain": [
              "    Data prepared in: 0.087638s"
            ]
          },
          "metadata": {
            "tags": []
          }
        },
        {
          "output_type": "display_data",
          "data": {
            "text/html": [
              "<pre>Training model from provided data.</pre>"
            ],
            "text/plain": [
              "Training model from provided data."
            ]
          },
          "metadata": {
            "tags": []
          }
        },
        {
          "output_type": "display_data",
          "data": {
            "text/html": [
              "<pre>Gathering per-item and per-user statistics.</pre>"
            ],
            "text/plain": [
              "Gathering per-item and per-user statistics."
            ]
          },
          "metadata": {
            "tags": []
          }
        },
        {
          "output_type": "display_data",
          "data": {
            "text/html": [
              "<pre>+--------------------------------+------------+</pre>"
            ],
            "text/plain": [
              "+--------------------------------+------------+"
            ]
          },
          "metadata": {
            "tags": []
          }
        },
        {
          "output_type": "display_data",
          "data": {
            "text/html": [
              "<pre>| Elapsed Time (Item Statistics) | % Complete |</pre>"
            ],
            "text/plain": [
              "| Elapsed Time (Item Statistics) | % Complete |"
            ]
          },
          "metadata": {
            "tags": []
          }
        },
        {
          "output_type": "display_data",
          "data": {
            "text/html": [
              "<pre>+--------------------------------+------------+</pre>"
            ],
            "text/plain": [
              "+--------------------------------+------------+"
            ]
          },
          "metadata": {
            "tags": []
          }
        },
        {
          "output_type": "display_data",
          "data": {
            "text/html": [
              "<pre>| 4.745ms                        | 100        |</pre>"
            ],
            "text/plain": [
              "| 4.745ms                        | 100        |"
            ]
          },
          "metadata": {
            "tags": []
          }
        },
        {
          "output_type": "display_data",
          "data": {
            "text/html": [
              "<pre>+--------------------------------+------------+</pre>"
            ],
            "text/plain": [
              "+--------------------------------+------------+"
            ]
          },
          "metadata": {
            "tags": []
          }
        },
        {
          "output_type": "display_data",
          "data": {
            "text/html": [
              "<pre>Setting up lookup tables.</pre>"
            ],
            "text/plain": [
              "Setting up lookup tables."
            ]
          },
          "metadata": {
            "tags": []
          }
        },
        {
          "output_type": "display_data",
          "data": {
            "text/html": [
              "<pre>Processing data in one pass using dense lookup tables.</pre>"
            ],
            "text/plain": [
              "Processing data in one pass using dense lookup tables."
            ]
          },
          "metadata": {
            "tags": []
          }
        },
        {
          "output_type": "display_data",
          "data": {
            "text/html": [
              "<pre>+-------------------------------------+------------------+-----------------+</pre>"
            ],
            "text/plain": [
              "+-------------------------------------+------------------+-----------------+"
            ]
          },
          "metadata": {
            "tags": []
          }
        },
        {
          "output_type": "display_data",
          "data": {
            "text/html": [
              "<pre>| Elapsed Time (Constructing Lookups) | Total % Complete | Items Processed |</pre>"
            ],
            "text/plain": [
              "| Elapsed Time (Constructing Lookups) | Total % Complete | Items Processed |"
            ]
          },
          "metadata": {
            "tags": []
          }
        },
        {
          "output_type": "display_data",
          "data": {
            "text/html": [
              "<pre>+-------------------------------------+------------------+-----------------+</pre>"
            ],
            "text/plain": [
              "+-------------------------------------+------------------+-----------------+"
            ]
          },
          "metadata": {
            "tags": []
          }
        },
        {
          "output_type": "display_data",
          "data": {
            "text/html": [
              "<pre>| 15.241ms                            | 0                | 2               |</pre>"
            ],
            "text/plain": [
              "| 15.241ms                            | 0                | 2               |"
            ]
          },
          "metadata": {
            "tags": []
          }
        },
        {
          "output_type": "display_data",
          "data": {
            "text/html": [
              "<pre>| 229.12ms                            | 100              | 1650            |</pre>"
            ],
            "text/plain": [
              "| 229.12ms                            | 100              | 1650            |"
            ]
          },
          "metadata": {
            "tags": []
          }
        },
        {
          "output_type": "display_data",
          "data": {
            "text/html": [
              "<pre>+-------------------------------------+------------------+-----------------+</pre>"
            ],
            "text/plain": [
              "+-------------------------------------+------------------+-----------------+"
            ]
          },
          "metadata": {
            "tags": []
          }
        },
        {
          "output_type": "display_data",
          "data": {
            "text/html": [
              "<pre>Finalizing lookup tables.</pre>"
            ],
            "text/plain": [
              "Finalizing lookup tables."
            ]
          },
          "metadata": {
            "tags": []
          }
        },
        {
          "output_type": "display_data",
          "data": {
            "text/html": [
              "<pre>Generating candidate set for working with new users.</pre>"
            ],
            "text/plain": [
              "Generating candidate set for working with new users."
            ]
          },
          "metadata": {
            "tags": []
          }
        },
        {
          "output_type": "display_data",
          "data": {
            "text/html": [
              "<pre>Finished training in 0.253716s</pre>"
            ],
            "text/plain": [
              "Finished training in 0.253716s"
            ]
          },
          "metadata": {
            "tags": []
          }
        }
      ]
    },
    {
      "cell_type": "code",
      "metadata": {
        "colab": {
          "base_uri": "https://localhost:8080/"
        },
        "id": "uUjxpUYXTYi2",
        "outputId": "6b9544db-b5cd-4228-b609-f06f2c0d3779"
      },
      "source": [
        "# make the prediction\n",
        "predict = model_item_to_item.predict(sframe)\n",
        "error = abs((ratings-predict))\n",
        "Item_2_Item_MAE = sum(error) / len(error)\n",
        "print(Item_2_Item_MAE)"
      ],
      "execution_count": null,
      "outputs": [
        {
          "output_type": "stream",
          "text": [
            "3.4766969639049465\n"
          ],
          "name": "stdout"
        }
      ]
    },
    {
      "cell_type": "markdown",
      "metadata": {
        "id": "fBl6eybXThHi"
      },
      "source": [
        "## Item Content "
      ]
    },
    {
      "cell_type": "code",
      "metadata": {
        "colab": {
          "base_uri": "https://localhost:8080/",
          "height": 1000
        },
        "id": "3UdfRQ8mTn_J",
        "outputId": "c2a53c8d-833a-4b23-da3b-632c0c209d07"
      },
      "source": [
        "# create the model\n",
        "model_item_content = tc.item_content_recommender.create(sframe, user_id=\"user_id\", item_id=\"item_id\")"
      ],
      "execution_count": null,
      "outputs": [
        {
          "output_type": "stream",
          "text": [
            "Applying transform:\n",
            "Class             : AutoVectorizer\n",
            "\n",
            "Model Fields\n",
            "------------\n",
            "Features          : ['rating', 'user_id']\n",
            "Excluded Features : ['item_id']\n",
            "\n",
            "Column   Type  Interpretation  Transforms  Output Type\n",
            "-------  ----  --------------  ----------  -----------\n",
            "rating   int   numerical       None        int        \n",
            "user_id  int   numerical       None        int        \n",
            "\n",
            "\n",
            "Defaulting to brute force instead of ball tree because there are multiple distance components.\n"
          ],
          "name": "stdout"
        },
        {
          "output_type": "display_data",
          "data": {
            "text/html": [
              "<pre>Starting brute force nearest neighbors model training.</pre>"
            ],
            "text/plain": [
              "Starting brute force nearest neighbors model training."
            ]
          },
          "metadata": {
            "tags": []
          }
        },
        {
          "output_type": "display_data",
          "data": {
            "text/html": [
              "<pre>Validating distance components.</pre>"
            ],
            "text/plain": [
              "Validating distance components."
            ]
          },
          "metadata": {
            "tags": []
          }
        },
        {
          "output_type": "display_data",
          "data": {
            "text/html": [
              "<pre>Initializing model data.</pre>"
            ],
            "text/plain": [
              "Initializing model data."
            ]
          },
          "metadata": {
            "tags": []
          }
        },
        {
          "output_type": "display_data",
          "data": {
            "text/html": [
              "<pre>Initializing distances.</pre>"
            ],
            "text/plain": [
              "Initializing distances."
            ]
          },
          "metadata": {
            "tags": []
          }
        },
        {
          "output_type": "display_data",
          "data": {
            "text/html": [
              "<pre>Done.</pre>"
            ],
            "text/plain": [
              "Done."
            ]
          },
          "metadata": {
            "tags": []
          }
        },
        {
          "output_type": "display_data",
          "data": {
            "text/html": [
              "<pre>Starting pairwise querying.</pre>"
            ],
            "text/plain": [
              "Starting pairwise querying."
            ]
          },
          "metadata": {
            "tags": []
          }
        },
        {
          "output_type": "display_data",
          "data": {
            "text/html": [
              "<pre>+--------------+---------+-------------+--------------+</pre>"
            ],
            "text/plain": [
              "+--------------+---------+-------------+--------------+"
            ]
          },
          "metadata": {
            "tags": []
          }
        },
        {
          "output_type": "display_data",
          "data": {
            "text/html": [
              "<pre>| Query points | # Pairs | % Complete. | Elapsed Time |</pre>"
            ],
            "text/plain": [
              "| Query points | # Pairs | % Complete. | Elapsed Time |"
            ]
          },
          "metadata": {
            "tags": []
          }
        },
        {
          "output_type": "display_data",
          "data": {
            "text/html": [
              "<pre>+--------------+---------+-------------+--------------+</pre>"
            ],
            "text/plain": [
              "+--------------+---------+-------------+--------------+"
            ]
          },
          "metadata": {
            "tags": []
          }
        },
        {
          "output_type": "display_data",
          "data": {
            "text/html": [
              "<pre>| 1            | 80000   | 0.00125     | 38.32ms      |</pre>"
            ],
            "text/plain": [
              "| 1            | 80000   | 0.00125     | 38.32ms      |"
            ]
          },
          "metadata": {
            "tags": []
          }
        },
        {
          "output_type": "display_data",
          "data": {
            "text/html": [
              "<pre>| 155          | 1.2e+07 | 0.19375     | 3.05s        |</pre>"
            ],
            "text/plain": [
              "| 155          | 1.2e+07 | 0.19375     | 3.05s        |"
            ]
          },
          "metadata": {
            "tags": []
          }
        },
        {
          "output_type": "display_data",
          "data": {
            "text/html": [
              "<pre>| 358          | 2.9e+07 | 0.4475      | 6.04s        |</pre>"
            ],
            "text/plain": [
              "| 358          | 2.9e+07 | 0.4475      | 6.04s        |"
            ]
          },
          "metadata": {
            "tags": []
          }
        },
        {
          "output_type": "display_data",
          "data": {
            "text/html": [
              "<pre>| 558          | 4.5e+07 | 0.6975      | 9.05s        |</pre>"
            ],
            "text/plain": [
              "| 558          | 4.5e+07 | 0.6975      | 9.05s        |"
            ]
          },
          "metadata": {
            "tags": []
          }
        },
        {
          "output_type": "display_data",
          "data": {
            "text/html": [
              "<pre>| 787          | 6.3e+07 | 0.98375     | 12.05s       |</pre>"
            ],
            "text/plain": [
              "| 787          | 6.3e+07 | 0.98375     | 12.05s       |"
            ]
          },
          "metadata": {
            "tags": []
          }
        },
        {
          "output_type": "display_data",
          "data": {
            "text/html": [
              "<pre>| 1037         | 8.3e+07 | 1.29625     | 15.05s       |</pre>"
            ],
            "text/plain": [
              "| 1037         | 8.3e+07 | 1.29625     | 15.05s       |"
            ]
          },
          "metadata": {
            "tags": []
          }
        },
        {
          "output_type": "display_data",
          "data": {
            "text/html": [
              "<pre>| 1262         | 1e+08   | 1.5775      | 18.06s       |</pre>"
            ],
            "text/plain": [
              "| 1262         | 1e+08   | 1.5775      | 18.06s       |"
            ]
          },
          "metadata": {
            "tags": []
          }
        },
        {
          "output_type": "display_data",
          "data": {
            "text/html": [
              "<pre>| 1470         | 1.2e+08 | 1.8375      | 21.04s       |</pre>"
            ],
            "text/plain": [
              "| 1470         | 1.2e+08 | 1.8375      | 21.04s       |"
            ]
          },
          "metadata": {
            "tags": []
          }
        },
        {
          "output_type": "display_data",
          "data": {
            "text/html": [
              "<pre>| 1699         | 1.4e+08 | 2.12375     | 24.05s       |</pre>"
            ],
            "text/plain": [
              "| 1699         | 1.4e+08 | 2.12375     | 24.05s       |"
            ]
          },
          "metadata": {
            "tags": []
          }
        },
        {
          "output_type": "display_data",
          "data": {
            "text/html": [
              "<pre>| 1952         | 1.6e+08 | 2.44        | 27.04s       |</pre>"
            ],
            "text/plain": [
              "| 1952         | 1.6e+08 | 2.44        | 27.04s       |"
            ]
          },
          "metadata": {
            "tags": []
          }
        },
        {
          "output_type": "display_data",
          "data": {
            "text/html": [
              "<pre>| 2198         | 1.8e+08 | 2.7475      | 30.05s       |</pre>"
            ],
            "text/plain": [
              "| 2198         | 1.8e+08 | 2.7475      | 30.05s       |"
            ]
          },
          "metadata": {
            "tags": []
          }
        },
        {
          "output_type": "display_data",
          "data": {
            "text/html": [
              "<pre>| 2416         | 1.9e+08 | 3.02        | 33.06s       |</pre>"
            ],
            "text/plain": [
              "| 2416         | 1.9e+08 | 3.02        | 33.06s       |"
            ]
          },
          "metadata": {
            "tags": []
          }
        },
        {
          "output_type": "display_data",
          "data": {
            "text/html": [
              "<pre>| 2630         | 2.1e+08 | 3.2875      | 36.04s       |</pre>"
            ],
            "text/plain": [
              "| 2630         | 2.1e+08 | 3.2875      | 36.04s       |"
            ]
          },
          "metadata": {
            "tags": []
          }
        },
        {
          "output_type": "display_data",
          "data": {
            "text/html": [
              "<pre>| 2862         | 2.3e+08 | 3.5775      | 39.04s       |</pre>"
            ],
            "text/plain": [
              "| 2862         | 2.3e+08 | 3.5775      | 39.04s       |"
            ]
          },
          "metadata": {
            "tags": []
          }
        },
        {
          "output_type": "display_data",
          "data": {
            "text/html": [
              "<pre>| 3098         | 2.5e+08 | 3.8725      | 42.06s       |</pre>"
            ],
            "text/plain": [
              "| 3098         | 2.5e+08 | 3.8725      | 42.06s       |"
            ]
          },
          "metadata": {
            "tags": []
          }
        },
        {
          "output_type": "display_data",
          "data": {
            "text/html": [
              "<pre>| 3330         | 2.7e+08 | 4.1625      | 45.05s       |</pre>"
            ],
            "text/plain": [
              "| 3330         | 2.7e+08 | 4.1625      | 45.05s       |"
            ]
          },
          "metadata": {
            "tags": []
          }
        },
        {
          "output_type": "display_data",
          "data": {
            "text/html": [
              "<pre>| 3600         | 2.9e+08 | 4.5         | 48.05s       |</pre>"
            ],
            "text/plain": [
              "| 3600         | 2.9e+08 | 4.5         | 48.05s       |"
            ]
          },
          "metadata": {
            "tags": []
          }
        },
        {
          "output_type": "display_data",
          "data": {
            "text/html": [
              "<pre>| 3861         | 3.1e+08 | 4.82625     | 51.04s       |</pre>"
            ],
            "text/plain": [
              "| 3861         | 3.1e+08 | 4.82625     | 51.04s       |"
            ]
          },
          "metadata": {
            "tags": []
          }
        },
        {
          "output_type": "display_data",
          "data": {
            "text/html": [
              "<pre>| 4116         | 3.3e+08 | 5.145       | 54.06s       |</pre>"
            ],
            "text/plain": [
              "| 4116         | 3.3e+08 | 5.145       | 54.06s       |"
            ]
          },
          "metadata": {
            "tags": []
          }
        },
        {
          "output_type": "display_data",
          "data": {
            "text/html": [
              "<pre>| 4387         | 3.5e+08 | 5.48375     | 57.06s       |</pre>"
            ],
            "text/plain": [
              "| 4387         | 3.5e+08 | 5.48375     | 57.06s       |"
            ]
          },
          "metadata": {
            "tags": []
          }
        },
        {
          "output_type": "display_data",
          "data": {
            "text/html": [
              "<pre>| 4620         | 3.7e+08 | 5.775       | 1m 0s        |</pre>"
            ],
            "text/plain": [
              "| 4620         | 3.7e+08 | 5.775       | 1m 0s        |"
            ]
          },
          "metadata": {
            "tags": []
          }
        },
        {
          "output_type": "display_data",
          "data": {
            "text/html": [
              "<pre>| 4866         | 3.9e+08 | 6.0825      | 1m 3s        |</pre>"
            ],
            "text/plain": [
              "| 4866         | 3.9e+08 | 6.0825      | 1m 3s        |"
            ]
          },
          "metadata": {
            "tags": []
          }
        },
        {
          "output_type": "display_data",
          "data": {
            "text/html": [
              "<pre>| 5083         | 4.1e+08 | 6.35375     | 1m 6s        |</pre>"
            ],
            "text/plain": [
              "| 5083         | 4.1e+08 | 6.35375     | 1m 6s        |"
            ]
          },
          "metadata": {
            "tags": []
          }
        },
        {
          "output_type": "display_data",
          "data": {
            "text/html": [
              "<pre>| 5325         | 4.3e+08 | 6.65625     | 1m 9s        |</pre>"
            ],
            "text/plain": [
              "| 5325         | 4.3e+08 | 6.65625     | 1m 9s        |"
            ]
          },
          "metadata": {
            "tags": []
          }
        },
        {
          "output_type": "display_data",
          "data": {
            "text/html": [
              "<pre>| 5561         | 4.4e+08 | 6.95125     | 1m 12s       |</pre>"
            ],
            "text/plain": [
              "| 5561         | 4.4e+08 | 6.95125     | 1m 12s       |"
            ]
          },
          "metadata": {
            "tags": []
          }
        },
        {
          "output_type": "display_data",
          "data": {
            "text/html": [
              "<pre>| 5793         | 4.6e+08 | 7.24125     | 1m 15s       |</pre>"
            ],
            "text/plain": [
              "| 5793         | 4.6e+08 | 7.24125     | 1m 15s       |"
            ]
          },
          "metadata": {
            "tags": []
          }
        },
        {
          "output_type": "display_data",
          "data": {
            "text/html": [
              "<pre>| 6041         | 4.8e+08 | 7.55125     | 1m 18s       |</pre>"
            ],
            "text/plain": [
              "| 6041         | 4.8e+08 | 7.55125     | 1m 18s       |"
            ]
          },
          "metadata": {
            "tags": []
          }
        },
        {
          "output_type": "display_data",
          "data": {
            "text/html": [
              "<pre>| 6262         | 5e+08   | 7.8275      | 1m 21s       |</pre>"
            ],
            "text/plain": [
              "| 6262         | 5e+08   | 7.8275      | 1m 21s       |"
            ]
          },
          "metadata": {
            "tags": []
          }
        },
        {
          "output_type": "display_data",
          "data": {
            "text/html": [
              "<pre>| 6497         | 5.2e+08 | 8.12125     | 1m 24s       |</pre>"
            ],
            "text/plain": [
              "| 6497         | 5.2e+08 | 8.12125     | 1m 24s       |"
            ]
          },
          "metadata": {
            "tags": []
          }
        },
        {
          "output_type": "display_data",
          "data": {
            "text/html": [
              "<pre>| 6738         | 5.4e+08 | 8.4225      | 1m 27s       |</pre>"
            ],
            "text/plain": [
              "| 6738         | 5.4e+08 | 8.4225      | 1m 27s       |"
            ]
          },
          "metadata": {
            "tags": []
          }
        },
        {
          "output_type": "display_data",
          "data": {
            "text/html": [
              "<pre>| 6958         | 5.6e+08 | 8.6975      | 1m 30s       |</pre>"
            ],
            "text/plain": [
              "| 6958         | 5.6e+08 | 8.6975      | 1m 30s       |"
            ]
          },
          "metadata": {
            "tags": []
          }
        },
        {
          "output_type": "display_data",
          "data": {
            "text/html": [
              "<pre>| 7175         | 5.7e+08 | 8.96875     | 1m 33s       |</pre>"
            ],
            "text/plain": [
              "| 7175         | 5.7e+08 | 8.96875     | 1m 33s       |"
            ]
          },
          "metadata": {
            "tags": []
          }
        },
        {
          "output_type": "display_data",
          "data": {
            "text/html": [
              "<pre>| 7399         | 5.9e+08 | 9.24875     | 1m 36s       |</pre>"
            ],
            "text/plain": [
              "| 7399         | 5.9e+08 | 9.24875     | 1m 36s       |"
            ]
          },
          "metadata": {
            "tags": []
          }
        },
        {
          "output_type": "display_data",
          "data": {
            "text/html": [
              "<pre>| 7627         | 6.1e+08 | 9.53375     | 1m 39s       |</pre>"
            ],
            "text/plain": [
              "| 7627         | 6.1e+08 | 9.53375     | 1m 39s       |"
            ]
          },
          "metadata": {
            "tags": []
          }
        },
        {
          "output_type": "display_data",
          "data": {
            "text/html": [
              "<pre>| 7885         | 6.3e+08 | 9.85625     | 1m 42s       |</pre>"
            ],
            "text/plain": [
              "| 7885         | 6.3e+08 | 9.85625     | 1m 42s       |"
            ]
          },
          "metadata": {
            "tags": []
          }
        },
        {
          "output_type": "display_data",
          "data": {
            "text/html": [
              "<pre>| 8171         | 6.5e+08 | 10.2137     | 1m 45s       |</pre>"
            ],
            "text/plain": [
              "| 8171         | 6.5e+08 | 10.2137     | 1m 45s       |"
            ]
          },
          "metadata": {
            "tags": []
          }
        },
        {
          "output_type": "display_data",
          "data": {
            "text/html": [
              "<pre>| 8422         | 6.7e+08 | 10.5275     | 1m 48s       |</pre>"
            ],
            "text/plain": [
              "| 8422         | 6.7e+08 | 10.5275     | 1m 48s       |"
            ]
          },
          "metadata": {
            "tags": []
          }
        },
        {
          "output_type": "display_data",
          "data": {
            "text/html": [
              "<pre>| 8683         | 6.9e+08 | 10.8537     | 1m 51s       |</pre>"
            ],
            "text/plain": [
              "| 8683         | 6.9e+08 | 10.8537     | 1m 51s       |"
            ]
          },
          "metadata": {
            "tags": []
          }
        },
        {
          "output_type": "display_data",
          "data": {
            "text/html": [
              "<pre>| 8963         | 7.2e+08 | 11.2037     | 1m 54s       |</pre>"
            ],
            "text/plain": [
              "| 8963         | 7.2e+08 | 11.2037     | 1m 54s       |"
            ]
          },
          "metadata": {
            "tags": []
          }
        },
        {
          "output_type": "display_data",
          "data": {
            "text/html": [
              "<pre>| 9250         | 7.4e+08 | 11.5625     | 1m 57s       |</pre>"
            ],
            "text/plain": [
              "| 9250         | 7.4e+08 | 11.5625     | 1m 57s       |"
            ]
          },
          "metadata": {
            "tags": []
          }
        },
        {
          "output_type": "display_data",
          "data": {
            "text/html": [
              "<pre>| 9515         | 7.6e+08 | 11.8938     | 2m 0s        |</pre>"
            ],
            "text/plain": [
              "| 9515         | 7.6e+08 | 11.8938     | 2m 0s        |"
            ]
          },
          "metadata": {
            "tags": []
          }
        },
        {
          "output_type": "display_data",
          "data": {
            "text/html": [
              "<pre>| 9801         | 7.8e+08 | 12.2513     | 2m 3s        |</pre>"
            ],
            "text/plain": [
              "| 9801         | 7.8e+08 | 12.2513     | 2m 3s        |"
            ]
          },
          "metadata": {
            "tags": []
          }
        },
        {
          "output_type": "display_data",
          "data": {
            "text/html": [
              "<pre>| 10092        | 8.1e+08 | 12.615      | 2m 6s        |</pre>"
            ],
            "text/plain": [
              "| 10092        | 8.1e+08 | 12.615      | 2m 6s        |"
            ]
          },
          "metadata": {
            "tags": []
          }
        },
        {
          "output_type": "display_data",
          "data": {
            "text/html": [
              "<pre>| 10382        | 8.3e+08 | 12.9775     | 2m 9s        |</pre>"
            ],
            "text/plain": [
              "| 10382        | 8.3e+08 | 12.9775     | 2m 9s        |"
            ]
          },
          "metadata": {
            "tags": []
          }
        },
        {
          "output_type": "display_data",
          "data": {
            "text/html": [
              "<pre>| 10608        | 8.5e+08 | 13.26       | 2m 12s       |</pre>"
            ],
            "text/plain": [
              "| 10608        | 8.5e+08 | 13.26       | 2m 12s       |"
            ]
          },
          "metadata": {
            "tags": []
          }
        },
        {
          "output_type": "display_data",
          "data": {
            "text/html": [
              "<pre>| 10831        | 8.7e+08 | 13.5388     | 2m 15s       |</pre>"
            ],
            "text/plain": [
              "| 10831        | 8.7e+08 | 13.5388     | 2m 15s       |"
            ]
          },
          "metadata": {
            "tags": []
          }
        },
        {
          "output_type": "display_data",
          "data": {
            "text/html": [
              "<pre>| 11100        | 8.9e+08 | 13.875      | 2m 18s       |</pre>"
            ],
            "text/plain": [
              "| 11100        | 8.9e+08 | 13.875      | 2m 18s       |"
            ]
          },
          "metadata": {
            "tags": []
          }
        },
        {
          "output_type": "display_data",
          "data": {
            "text/html": [
              "<pre>| 11346        | 9.1e+08 | 14.1825     | 2m 21s       |</pre>"
            ],
            "text/plain": [
              "| 11346        | 9.1e+08 | 14.1825     | 2m 21s       |"
            ]
          },
          "metadata": {
            "tags": []
          }
        },
        {
          "output_type": "display_data",
          "data": {
            "text/html": [
              "<pre>| 11604        | 9.3e+08 | 14.505      | 2m 24s       |</pre>"
            ],
            "text/plain": [
              "| 11604        | 9.3e+08 | 14.505      | 2m 24s       |"
            ]
          },
          "metadata": {
            "tags": []
          }
        },
        {
          "output_type": "display_data",
          "data": {
            "text/html": [
              "<pre>| 11894        | 9.5e+08 | 14.8675     | 2m 27s       |</pre>"
            ],
            "text/plain": [
              "| 11894        | 9.5e+08 | 14.8675     | 2m 27s       |"
            ]
          },
          "metadata": {
            "tags": []
          }
        },
        {
          "output_type": "display_data",
          "data": {
            "text/html": [
              "<pre>| 12184        | 9.7e+08 | 15.23       | 2m 30s       |</pre>"
            ],
            "text/plain": [
              "| 12184        | 9.7e+08 | 15.23       | 2m 30s       |"
            ]
          },
          "metadata": {
            "tags": []
          }
        },
        {
          "output_type": "display_data",
          "data": {
            "text/html": [
              "<pre>| 12446        | 1e+09   | 15.5575     | 2m 33s       |</pre>"
            ],
            "text/plain": [
              "| 12446        | 1e+09   | 15.5575     | 2m 33s       |"
            ]
          },
          "metadata": {
            "tags": []
          }
        },
        {
          "output_type": "display_data",
          "data": {
            "text/html": [
              "<pre>| 12697        | 1e+09   | 15.8712     | 2m 36s       |</pre>"
            ],
            "text/plain": [
              "| 12697        | 1e+09   | 15.8712     | 2m 36s       |"
            ]
          },
          "metadata": {
            "tags": []
          }
        },
        {
          "output_type": "display_data",
          "data": {
            "text/html": [
              "<pre>| 12961        | 1e+09   | 16.2013     | 2m 39s       |</pre>"
            ],
            "text/plain": [
              "| 12961        | 1e+09   | 16.2013     | 2m 39s       |"
            ]
          },
          "metadata": {
            "tags": []
          }
        },
        {
          "output_type": "display_data",
          "data": {
            "text/html": [
              "<pre>| 13233        | 1.1e+09 | 16.5413     | 2m 42s       |</pre>"
            ],
            "text/plain": [
              "| 13233        | 1.1e+09 | 16.5413     | 2m 42s       |"
            ]
          },
          "metadata": {
            "tags": []
          }
        },
        {
          "output_type": "display_data",
          "data": {
            "text/html": [
              "<pre>| 13506        | 1.1e+09 | 16.8825     | 2m 45s       |</pre>"
            ],
            "text/plain": [
              "| 13506        | 1.1e+09 | 16.8825     | 2m 45s       |"
            ]
          },
          "metadata": {
            "tags": []
          }
        },
        {
          "output_type": "display_data",
          "data": {
            "text/html": [
              "<pre>| 13798        | 1.1e+09 | 17.2475     | 2m 48s       |</pre>"
            ],
            "text/plain": [
              "| 13798        | 1.1e+09 | 17.2475     | 2m 48s       |"
            ]
          },
          "metadata": {
            "tags": []
          }
        },
        {
          "output_type": "display_data",
          "data": {
            "text/html": [
              "<pre>| 14065        | 1.1e+09 | 17.5813     | 2m 51s       |</pre>"
            ],
            "text/plain": [
              "| 14065        | 1.1e+09 | 17.5813     | 2m 51s       |"
            ]
          },
          "metadata": {
            "tags": []
          }
        },
        {
          "output_type": "display_data",
          "data": {
            "text/html": [
              "<pre>| 14286        | 1.1e+09 | 17.8575     | 2m 54s       |</pre>"
            ],
            "text/plain": [
              "| 14286        | 1.1e+09 | 17.8575     | 2m 54s       |"
            ]
          },
          "metadata": {
            "tags": []
          }
        },
        {
          "output_type": "display_data",
          "data": {
            "text/html": [
              "<pre>| 14506        | 1.2e+09 | 18.1325     | 2m 57s       |</pre>"
            ],
            "text/plain": [
              "| 14506        | 1.2e+09 | 18.1325     | 2m 57s       |"
            ]
          },
          "metadata": {
            "tags": []
          }
        },
        {
          "output_type": "display_data",
          "data": {
            "text/html": [
              "<pre>| 14764        | 1.2e+09 | 18.455      | 3m 0s        |</pre>"
            ],
            "text/plain": [
              "| 14764        | 1.2e+09 | 18.455      | 3m 0s        |"
            ]
          },
          "metadata": {
            "tags": []
          }
        },
        {
          "output_type": "display_data",
          "data": {
            "text/html": [
              "<pre>| 14993        | 1.2e+09 | 18.7413     | 3m 3s        |</pre>"
            ],
            "text/plain": [
              "| 14993        | 1.2e+09 | 18.7413     | 3m 3s        |"
            ]
          },
          "metadata": {
            "tags": []
          }
        },
        {
          "output_type": "display_data",
          "data": {
            "text/html": [
              "<pre>| 15246        | 1.2e+09 | 19.0575     | 3m 6s        |</pre>"
            ],
            "text/plain": [
              "| 15246        | 1.2e+09 | 19.0575     | 3m 6s        |"
            ]
          },
          "metadata": {
            "tags": []
          }
        },
        {
          "output_type": "display_data",
          "data": {
            "text/html": [
              "<pre>| 15473        | 1.2e+09 | 19.3412     | 3m 9s        |</pre>"
            ],
            "text/plain": [
              "| 15473        | 1.2e+09 | 19.3412     | 3m 9s        |"
            ]
          },
          "metadata": {
            "tags": []
          }
        },
        {
          "output_type": "display_data",
          "data": {
            "text/html": [
              "<pre>| 15697        | 1.3e+09 | 19.6212     | 3m 12s       |</pre>"
            ],
            "text/plain": [
              "| 15697        | 1.3e+09 | 19.6212     | 3m 12s       |"
            ]
          },
          "metadata": {
            "tags": []
          }
        },
        {
          "output_type": "display_data",
          "data": {
            "text/html": [
              "<pre>| 15920        | 1.3e+09 | 19.9        | 3m 15s       |</pre>"
            ],
            "text/plain": [
              "| 15920        | 1.3e+09 | 19.9        | 3m 15s       |"
            ]
          },
          "metadata": {
            "tags": []
          }
        },
        {
          "output_type": "display_data",
          "data": {
            "text/html": [
              "<pre>| 16141        | 1.3e+09 | 20.1762     | 3m 18s       |</pre>"
            ],
            "text/plain": [
              "| 16141        | 1.3e+09 | 20.1762     | 3m 18s       |"
            ]
          },
          "metadata": {
            "tags": []
          }
        },
        {
          "output_type": "display_data",
          "data": {
            "text/html": [
              "<pre>| 16372        | 1.3e+09 | 20.465      | 3m 21s       |</pre>"
            ],
            "text/plain": [
              "| 16372        | 1.3e+09 | 20.465      | 3m 21s       |"
            ]
          },
          "metadata": {
            "tags": []
          }
        },
        {
          "output_type": "display_data",
          "data": {
            "text/html": [
              "<pre>| 16596        | 1.3e+09 | 20.745      | 3m 24s       |</pre>"
            ],
            "text/plain": [
              "| 16596        | 1.3e+09 | 20.745      | 3m 24s       |"
            ]
          },
          "metadata": {
            "tags": []
          }
        },
        {
          "output_type": "display_data",
          "data": {
            "text/html": [
              "<pre>| 16860        | 1.3e+09 | 21.075      | 3m 27s       |</pre>"
            ],
            "text/plain": [
              "| 16860        | 1.3e+09 | 21.075      | 3m 27s       |"
            ]
          },
          "metadata": {
            "tags": []
          }
        },
        {
          "output_type": "display_data",
          "data": {
            "text/html": [
              "<pre>| 17102        | 1.4e+09 | 21.3775     | 3m 30s       |</pre>"
            ],
            "text/plain": [
              "| 17102        | 1.4e+09 | 21.3775     | 3m 30s       |"
            ]
          },
          "metadata": {
            "tags": []
          }
        },
        {
          "output_type": "display_data",
          "data": {
            "text/html": [
              "<pre>| 17393        | 1.4e+09 | 21.7413     | 3m 33s       |</pre>"
            ],
            "text/plain": [
              "| 17393        | 1.4e+09 | 21.7413     | 3m 33s       |"
            ]
          },
          "metadata": {
            "tags": []
          }
        },
        {
          "output_type": "display_data",
          "data": {
            "text/html": [
              "<pre>| 17688        | 1.4e+09 | 22.11       | 3m 36s       |</pre>"
            ],
            "text/plain": [
              "| 17688        | 1.4e+09 | 22.11       | 3m 36s       |"
            ]
          },
          "metadata": {
            "tags": []
          }
        },
        {
          "output_type": "display_data",
          "data": {
            "text/html": [
              "<pre>| 17978        | 1.4e+09 | 22.4725     | 3m 39s       |</pre>"
            ],
            "text/plain": [
              "| 17978        | 1.4e+09 | 22.4725     | 3m 39s       |"
            ]
          },
          "metadata": {
            "tags": []
          }
        },
        {
          "output_type": "display_data",
          "data": {
            "text/html": [
              "<pre>| 18262        | 1.5e+09 | 22.8275     | 3m 42s       |</pre>"
            ],
            "text/plain": [
              "| 18262        | 1.5e+09 | 22.8275     | 3m 42s       |"
            ]
          },
          "metadata": {
            "tags": []
          }
        },
        {
          "output_type": "display_data",
          "data": {
            "text/html": [
              "<pre>| 18545        | 1.5e+09 | 23.1812     | 3m 45s       |</pre>"
            ],
            "text/plain": [
              "| 18545        | 1.5e+09 | 23.1812     | 3m 45s       |"
            ]
          },
          "metadata": {
            "tags": []
          }
        },
        {
          "output_type": "display_data",
          "data": {
            "text/html": [
              "<pre>| 18807        | 1.5e+09 | 23.5087     | 3m 48s       |</pre>"
            ],
            "text/plain": [
              "| 18807        | 1.5e+09 | 23.5087     | 3m 48s       |"
            ]
          },
          "metadata": {
            "tags": []
          }
        },
        {
          "output_type": "display_data",
          "data": {
            "text/html": [
              "<pre>| 19098        | 1.5e+09 | 23.8725     | 3m 51s       |</pre>"
            ],
            "text/plain": [
              "| 19098        | 1.5e+09 | 23.8725     | 3m 51s       |"
            ]
          },
          "metadata": {
            "tags": []
          }
        },
        {
          "output_type": "display_data",
          "data": {
            "text/html": [
              "<pre>| 19385        | 1.6e+09 | 24.2312     | 3m 54s       |</pre>"
            ],
            "text/plain": [
              "| 19385        | 1.6e+09 | 24.2312     | 3m 54s       |"
            ]
          },
          "metadata": {
            "tags": []
          }
        },
        {
          "output_type": "display_data",
          "data": {
            "text/html": [
              "<pre>| 19622        | 1.6e+09 | 24.5275     | 3m 57s       |</pre>"
            ],
            "text/plain": [
              "| 19622        | 1.6e+09 | 24.5275     | 3m 57s       |"
            ]
          },
          "metadata": {
            "tags": []
          }
        },
        {
          "output_type": "display_data",
          "data": {
            "text/html": [
              "<pre>| 19891        | 1.6e+09 | 24.8637     | 4m 0s        |</pre>"
            ],
            "text/plain": [
              "| 19891        | 1.6e+09 | 24.8637     | 4m 0s        |"
            ]
          },
          "metadata": {
            "tags": []
          }
        },
        {
          "output_type": "display_data",
          "data": {
            "text/html": [
              "<pre>| 20170        | 1.6e+09 | 25.2125     | 4m 3s        |</pre>"
            ],
            "text/plain": [
              "| 20170        | 1.6e+09 | 25.2125     | 4m 3s        |"
            ]
          },
          "metadata": {
            "tags": []
          }
        },
        {
          "output_type": "display_data",
          "data": {
            "text/html": [
              "<pre>| 20447        | 1.6e+09 | 25.5587     | 4m 6s        |</pre>"
            ],
            "text/plain": [
              "| 20447        | 1.6e+09 | 25.5587     | 4m 6s        |"
            ]
          },
          "metadata": {
            "tags": []
          }
        },
        {
          "output_type": "display_data",
          "data": {
            "text/html": [
              "<pre>| 20723        | 1.7e+09 | 25.9037     | 4m 9s        |</pre>"
            ],
            "text/plain": [
              "| 20723        | 1.7e+09 | 25.9037     | 4m 9s        |"
            ]
          },
          "metadata": {
            "tags": []
          }
        },
        {
          "output_type": "display_data",
          "data": {
            "text/html": [
              "<pre>| 21014        | 1.7e+09 | 26.2675     | 4m 12s       |</pre>"
            ],
            "text/plain": [
              "| 21014        | 1.7e+09 | 26.2675     | 4m 12s       |"
            ]
          },
          "metadata": {
            "tags": []
          }
        },
        {
          "output_type": "display_data",
          "data": {
            "text/html": [
              "<pre>| 21280        | 1.7e+09 | 26.6        | 4m 15s       |</pre>"
            ],
            "text/plain": [
              "| 21280        | 1.7e+09 | 26.6        | 4m 15s       |"
            ]
          },
          "metadata": {
            "tags": []
          }
        },
        {
          "output_type": "display_data",
          "data": {
            "text/html": [
              "<pre>| 21564        | 1.7e+09 | 26.955      | 4m 18s       |</pre>"
            ],
            "text/plain": [
              "| 21564        | 1.7e+09 | 26.955      | 4m 18s       |"
            ]
          },
          "metadata": {
            "tags": []
          }
        },
        {
          "output_type": "display_data",
          "data": {
            "text/html": [
              "<pre>| 21808        | 1.7e+09 | 27.26       | 4m 21s       |</pre>"
            ],
            "text/plain": [
              "| 21808        | 1.7e+09 | 27.26       | 4m 21s       |"
            ]
          },
          "metadata": {
            "tags": []
          }
        },
        {
          "output_type": "display_data",
          "data": {
            "text/html": [
              "<pre>| 22059        | 1.8e+09 | 27.5738     | 4m 24s       |</pre>"
            ],
            "text/plain": [
              "| 22059        | 1.8e+09 | 27.5738     | 4m 24s       |"
            ]
          },
          "metadata": {
            "tags": []
          }
        },
        {
          "output_type": "display_data",
          "data": {
            "text/html": [
              "<pre>| 22294        | 1.8e+09 | 27.8675     | 4m 27s       |</pre>"
            ],
            "text/plain": [
              "| 22294        | 1.8e+09 | 27.8675     | 4m 27s       |"
            ]
          },
          "metadata": {
            "tags": []
          }
        },
        {
          "output_type": "display_data",
          "data": {
            "text/html": [
              "<pre>| 22575        | 1.8e+09 | 28.2188     | 4m 30s       |</pre>"
            ],
            "text/plain": [
              "| 22575        | 1.8e+09 | 28.2188     | 4m 30s       |"
            ]
          },
          "metadata": {
            "tags": []
          }
        },
        {
          "output_type": "display_data",
          "data": {
            "text/html": [
              "<pre>| 22812        | 1.8e+09 | 28.515      | 4m 33s       |</pre>"
            ],
            "text/plain": [
              "| 22812        | 1.8e+09 | 28.515      | 4m 33s       |"
            ]
          },
          "metadata": {
            "tags": []
          }
        },
        {
          "output_type": "display_data",
          "data": {
            "text/html": [
              "<pre>| 23065        | 1.8e+09 | 28.8313     | 4m 36s       |</pre>"
            ],
            "text/plain": [
              "| 23065        | 1.8e+09 | 28.8313     | 4m 36s       |"
            ]
          },
          "metadata": {
            "tags": []
          }
        },
        {
          "output_type": "display_data",
          "data": {
            "text/html": [
              "<pre>| 23291        | 1.9e+09 | 29.1137     | 4m 39s       |</pre>"
            ],
            "text/plain": [
              "| 23291        | 1.9e+09 | 29.1137     | 4m 39s       |"
            ]
          },
          "metadata": {
            "tags": []
          }
        },
        {
          "output_type": "display_data",
          "data": {
            "text/html": [
              "<pre>| 23567        | 1.9e+09 | 29.4587     | 4m 42s       |</pre>"
            ],
            "text/plain": [
              "| 23567        | 1.9e+09 | 29.4587     | 4m 42s       |"
            ]
          },
          "metadata": {
            "tags": []
          }
        },
        {
          "output_type": "display_data",
          "data": {
            "text/html": [
              "<pre>| 23795        | 1.9e+09 | 29.7437     | 4m 45s       |</pre>"
            ],
            "text/plain": [
              "| 23795        | 1.9e+09 | 29.7437     | 4m 45s       |"
            ]
          },
          "metadata": {
            "tags": []
          }
        },
        {
          "output_type": "display_data",
          "data": {
            "text/html": [
              "<pre>| 24024        | 1.9e+09 | 30.03       | 4m 48s       |</pre>"
            ],
            "text/plain": [
              "| 24024        | 1.9e+09 | 30.03       | 4m 48s       |"
            ]
          },
          "metadata": {
            "tags": []
          }
        },
        {
          "output_type": "display_data",
          "data": {
            "text/html": [
              "<pre>| 24274        | 1.9e+09 | 30.3425     | 4m 51s       |</pre>"
            ],
            "text/plain": [
              "| 24274        | 1.9e+09 | 30.3425     | 4m 51s       |"
            ]
          },
          "metadata": {
            "tags": []
          }
        },
        {
          "output_type": "display_data",
          "data": {
            "text/html": [
              "<pre>| 24528        | 2e+09   | 30.66       | 4m 54s       |</pre>"
            ],
            "text/plain": [
              "| 24528        | 2e+09   | 30.66       | 4m 54s       |"
            ]
          },
          "metadata": {
            "tags": []
          }
        },
        {
          "output_type": "display_data",
          "data": {
            "text/html": [
              "<pre>| 24816        | 2e+09   | 31.02       | 4m 57s       |</pre>"
            ],
            "text/plain": [
              "| 24816        | 2e+09   | 31.02       | 4m 57s       |"
            ]
          },
          "metadata": {
            "tags": []
          }
        },
        {
          "output_type": "display_data",
          "data": {
            "text/html": [
              "<pre>| 25067        | 2e+09   | 31.3337     | 5m 0s        |</pre>"
            ],
            "text/plain": [
              "| 25067        | 2e+09   | 31.3337     | 5m 0s        |"
            ]
          },
          "metadata": {
            "tags": []
          }
        },
        {
          "output_type": "display_data",
          "data": {
            "text/html": [
              "<pre>| 25335        | 2e+09   | 31.6687     | 5m 3s        |</pre>"
            ],
            "text/plain": [
              "| 25335        | 2e+09   | 31.6687     | 5m 3s        |"
            ]
          },
          "metadata": {
            "tags": []
          }
        },
        {
          "output_type": "display_data",
          "data": {
            "text/html": [
              "<pre>| 25581        | 2e+09   | 31.9763     | 5m 6s        |</pre>"
            ],
            "text/plain": [
              "| 25581        | 2e+09   | 31.9763     | 5m 6s        |"
            ]
          },
          "metadata": {
            "tags": []
          }
        },
        {
          "output_type": "display_data",
          "data": {
            "text/html": [
              "<pre>| 25852        | 2.1e+09 | 32.315      | 5m 9s        |</pre>"
            ],
            "text/plain": [
              "| 25852        | 2.1e+09 | 32.315      | 5m 9s        |"
            ]
          },
          "metadata": {
            "tags": []
          }
        },
        {
          "output_type": "display_data",
          "data": {
            "text/html": [
              "<pre>| 26093        | 2.1e+09 | 32.6163     | 5m 12s       |</pre>"
            ],
            "text/plain": [
              "| 26093        | 2.1e+09 | 32.6163     | 5m 12s       |"
            ]
          },
          "metadata": {
            "tags": []
          }
        },
        {
          "output_type": "display_data",
          "data": {
            "text/html": [
              "<pre>| 26375        | 2.1e+09 | 32.9688     | 5m 15s       |</pre>"
            ],
            "text/plain": [
              "| 26375        | 2.1e+09 | 32.9688     | 5m 15s       |"
            ]
          },
          "metadata": {
            "tags": []
          }
        },
        {
          "output_type": "display_data",
          "data": {
            "text/html": [
              "<pre>| 26633        | 2.1e+09 | 33.2912     | 5m 18s       |</pre>"
            ],
            "text/plain": [
              "| 26633        | 2.1e+09 | 33.2912     | 5m 18s       |"
            ]
          },
          "metadata": {
            "tags": []
          }
        },
        {
          "output_type": "display_data",
          "data": {
            "text/html": [
              "<pre>| 26895        | 2.2e+09 | 33.6187     | 5m 21s       |</pre>"
            ],
            "text/plain": [
              "| 26895        | 2.2e+09 | 33.6187     | 5m 21s       |"
            ]
          },
          "metadata": {
            "tags": []
          }
        },
        {
          "output_type": "display_data",
          "data": {
            "text/html": [
              "<pre>| 27186        | 2.2e+09 | 33.9825     | 5m 24s       |</pre>"
            ],
            "text/plain": [
              "| 27186        | 2.2e+09 | 33.9825     | 5m 24s       |"
            ]
          },
          "metadata": {
            "tags": []
          }
        },
        {
          "output_type": "display_data",
          "data": {
            "text/html": [
              "<pre>| 27479        | 2.2e+09 | 34.3488     | 5m 27s       |</pre>"
            ],
            "text/plain": [
              "| 27479        | 2.2e+09 | 34.3488     | 5m 27s       |"
            ]
          },
          "metadata": {
            "tags": []
          }
        },
        {
          "output_type": "display_data",
          "data": {
            "text/html": [
              "<pre>| 27746        | 2.2e+09 | 34.6825     | 5m 30s       |</pre>"
            ],
            "text/plain": [
              "| 27746        | 2.2e+09 | 34.6825     | 5m 30s       |"
            ]
          },
          "metadata": {
            "tags": []
          }
        },
        {
          "output_type": "display_data",
          "data": {
            "text/html": [
              "<pre>| 27972        | 2.2e+09 | 34.965      | 5m 33s       |</pre>"
            ],
            "text/plain": [
              "| 27972        | 2.2e+09 | 34.965      | 5m 33s       |"
            ]
          },
          "metadata": {
            "tags": []
          }
        },
        {
          "output_type": "display_data",
          "data": {
            "text/html": [
              "<pre>| 28199        | 2.3e+09 | 35.2488     | 5m 36s       |</pre>"
            ],
            "text/plain": [
              "| 28199        | 2.3e+09 | 35.2488     | 5m 36s       |"
            ]
          },
          "metadata": {
            "tags": []
          }
        },
        {
          "output_type": "display_data",
          "data": {
            "text/html": [
              "<pre>| 28458        | 2.3e+09 | 35.5725     | 5m 39s       |</pre>"
            ],
            "text/plain": [
              "| 28458        | 2.3e+09 | 35.5725     | 5m 39s       |"
            ]
          },
          "metadata": {
            "tags": []
          }
        },
        {
          "output_type": "display_data",
          "data": {
            "text/html": [
              "<pre>| 28697        | 2.3e+09 | 35.8713     | 5m 42s       |</pre>"
            ],
            "text/plain": [
              "| 28697        | 2.3e+09 | 35.8713     | 5m 42s       |"
            ]
          },
          "metadata": {
            "tags": []
          }
        },
        {
          "output_type": "display_data",
          "data": {
            "text/html": [
              "<pre>| 28943        | 2.3e+09 | 36.1788     | 5m 45s       |</pre>"
            ],
            "text/plain": [
              "| 28943        | 2.3e+09 | 36.1788     | 5m 45s       |"
            ]
          },
          "metadata": {
            "tags": []
          }
        },
        {
          "output_type": "display_data",
          "data": {
            "text/html": [
              "<pre>| 29166        | 2.3e+09 | 36.4575     | 5m 48s       |</pre>"
            ],
            "text/plain": [
              "| 29166        | 2.3e+09 | 36.4575     | 5m 48s       |"
            ]
          },
          "metadata": {
            "tags": []
          }
        },
        {
          "output_type": "display_data",
          "data": {
            "text/html": [
              "<pre>| 29430        | 2.4e+09 | 36.7875     | 5m 51s       |</pre>"
            ],
            "text/plain": [
              "| 29430        | 2.4e+09 | 36.7875     | 5m 51s       |"
            ]
          },
          "metadata": {
            "tags": []
          }
        },
        {
          "output_type": "display_data",
          "data": {
            "text/html": [
              "<pre>| 29700        | 2.4e+09 | 37.125      | 5m 54s       |</pre>"
            ],
            "text/plain": [
              "| 29700        | 2.4e+09 | 37.125      | 5m 54s       |"
            ]
          },
          "metadata": {
            "tags": []
          }
        },
        {
          "output_type": "display_data",
          "data": {
            "text/html": [
              "<pre>| 29934        | 2.4e+09 | 37.4175     | 5m 57s       |</pre>"
            ],
            "text/plain": [
              "| 29934        | 2.4e+09 | 37.4175     | 5m 57s       |"
            ]
          },
          "metadata": {
            "tags": []
          }
        },
        {
          "output_type": "display_data",
          "data": {
            "text/html": [
              "<pre>| 30162        | 2.4e+09 | 37.7025     | 6m 0s        |</pre>"
            ],
            "text/plain": [
              "| 30162        | 2.4e+09 | 37.7025     | 6m 0s        |"
            ]
          },
          "metadata": {
            "tags": []
          }
        },
        {
          "output_type": "display_data",
          "data": {
            "text/html": [
              "<pre>| 30437        | 2.4e+09 | 38.0463     | 6m 3s        |</pre>"
            ],
            "text/plain": [
              "| 30437        | 2.4e+09 | 38.0463     | 6m 3s        |"
            ]
          },
          "metadata": {
            "tags": []
          }
        },
        {
          "output_type": "display_data",
          "data": {
            "text/html": [
              "<pre>| 30719        | 2.5e+09 | 38.3987     | 6m 6s        |</pre>"
            ],
            "text/plain": [
              "| 30719        | 2.5e+09 | 38.3987     | 6m 6s        |"
            ]
          },
          "metadata": {
            "tags": []
          }
        },
        {
          "output_type": "display_data",
          "data": {
            "text/html": [
              "<pre>| 30947        | 2.5e+09 | 38.6838     | 6m 9s        |</pre>"
            ],
            "text/plain": [
              "| 30947        | 2.5e+09 | 38.6838     | 6m 9s        |"
            ]
          },
          "metadata": {
            "tags": []
          }
        },
        {
          "output_type": "display_data",
          "data": {
            "text/html": [
              "<pre>| 31232        | 2.5e+09 | 39.04       | 6m 12s       |</pre>"
            ],
            "text/plain": [
              "| 31232        | 2.5e+09 | 39.04       | 6m 12s       |"
            ]
          },
          "metadata": {
            "tags": []
          }
        },
        {
          "output_type": "display_data",
          "data": {
            "text/html": [
              "<pre>| 31493        | 2.5e+09 | 39.3663     | 6m 15s       |</pre>"
            ],
            "text/plain": [
              "| 31493        | 2.5e+09 | 39.3663     | 6m 15s       |"
            ]
          },
          "metadata": {
            "tags": []
          }
        },
        {
          "output_type": "display_data",
          "data": {
            "text/html": [
              "<pre>| 31737        | 2.5e+09 | 39.6713     | 6m 18s       |</pre>"
            ],
            "text/plain": [
              "| 31737        | 2.5e+09 | 39.6713     | 6m 18s       |"
            ]
          },
          "metadata": {
            "tags": []
          }
        },
        {
          "output_type": "display_data",
          "data": {
            "text/html": [
              "<pre>| 32030        | 2.6e+09 | 40.0375     | 6m 21s       |</pre>"
            ],
            "text/plain": [
              "| 32030        | 2.6e+09 | 40.0375     | 6m 21s       |"
            ]
          },
          "metadata": {
            "tags": []
          }
        },
        {
          "output_type": "display_data",
          "data": {
            "text/html": [
              "<pre>| 32300        | 2.6e+09 | 40.375      | 6m 24s       |</pre>"
            ],
            "text/plain": [
              "| 32300        | 2.6e+09 | 40.375      | 6m 24s       |"
            ]
          },
          "metadata": {
            "tags": []
          }
        },
        {
          "output_type": "display_data",
          "data": {
            "text/html": [
              "<pre>| 32594        | 2.6e+09 | 40.7425     | 6m 27s       |</pre>"
            ],
            "text/plain": [
              "| 32594        | 2.6e+09 | 40.7425     | 6m 27s       |"
            ]
          },
          "metadata": {
            "tags": []
          }
        },
        {
          "output_type": "display_data",
          "data": {
            "text/html": [
              "<pre>| 32890        | 2.6e+09 | 41.1125     | 6m 30s       |</pre>"
            ],
            "text/plain": [
              "| 32890        | 2.6e+09 | 41.1125     | 6m 30s       |"
            ]
          },
          "metadata": {
            "tags": []
          }
        },
        {
          "output_type": "display_data",
          "data": {
            "text/html": [
              "<pre>| 33120        | 2.6e+09 | 41.4        | 6m 33s       |</pre>"
            ],
            "text/plain": [
              "| 33120        | 2.6e+09 | 41.4        | 6m 33s       |"
            ]
          },
          "metadata": {
            "tags": []
          }
        },
        {
          "output_type": "display_data",
          "data": {
            "text/html": [
              "<pre>| 33403        | 2.7e+09 | 41.7537     | 6m 36s       |</pre>"
            ],
            "text/plain": [
              "| 33403        | 2.7e+09 | 41.7537     | 6m 36s       |"
            ]
          },
          "metadata": {
            "tags": []
          }
        },
        {
          "output_type": "display_data",
          "data": {
            "text/html": [
              "<pre>| 33633        | 2.7e+09 | 42.0412     | 6m 39s       |</pre>"
            ],
            "text/plain": [
              "| 33633        | 2.7e+09 | 42.0412     | 6m 39s       |"
            ]
          },
          "metadata": {
            "tags": []
          }
        },
        {
          "output_type": "display_data",
          "data": {
            "text/html": [
              "<pre>| 33920        | 2.7e+09 | 42.4        | 6m 42s       |</pre>"
            ],
            "text/plain": [
              "| 33920        | 2.7e+09 | 42.4        | 6m 42s       |"
            ]
          },
          "metadata": {
            "tags": []
          }
        },
        {
          "output_type": "display_data",
          "data": {
            "text/html": [
              "<pre>| 34214        | 2.7e+09 | 42.7675     | 6m 45s       |</pre>"
            ],
            "text/plain": [
              "| 34214        | 2.7e+09 | 42.7675     | 6m 45s       |"
            ]
          },
          "metadata": {
            "tags": []
          }
        },
        {
          "output_type": "display_data",
          "data": {
            "text/html": [
              "<pre>| 34509        | 2.8e+09 | 43.1362     | 6m 48s       |</pre>"
            ],
            "text/plain": [
              "| 34509        | 2.8e+09 | 43.1362     | 6m 48s       |"
            ]
          },
          "metadata": {
            "tags": []
          }
        },
        {
          "output_type": "display_data",
          "data": {
            "text/html": [
              "<pre>| 34756        | 2.8e+09 | 43.445      | 6m 51s       |</pre>"
            ],
            "text/plain": [
              "| 34756        | 2.8e+09 | 43.445      | 6m 51s       |"
            ]
          },
          "metadata": {
            "tags": []
          }
        },
        {
          "output_type": "display_data",
          "data": {
            "text/html": [
              "<pre>| 35039        | 2.8e+09 | 43.7987     | 6m 54s       |</pre>"
            ],
            "text/plain": [
              "| 35039        | 2.8e+09 | 43.7987     | 6m 54s       |"
            ]
          },
          "metadata": {
            "tags": []
          }
        },
        {
          "output_type": "display_data",
          "data": {
            "text/html": [
              "<pre>| 35332        | 2.8e+09 | 44.165      | 6m 57s       |</pre>"
            ],
            "text/plain": [
              "| 35332        | 2.8e+09 | 44.165      | 6m 57s       |"
            ]
          },
          "metadata": {
            "tags": []
          }
        },
        {
          "output_type": "display_data",
          "data": {
            "text/html": [
              "<pre>| 35582        | 2.8e+09 | 44.4775     | 7m 0s        |</pre>"
            ],
            "text/plain": [
              "| 35582        | 2.8e+09 | 44.4775     | 7m 0s        |"
            ]
          },
          "metadata": {
            "tags": []
          }
        },
        {
          "output_type": "display_data",
          "data": {
            "text/html": [
              "<pre>| 35880        | 2.9e+09 | 44.85       | 7m 3s        |</pre>"
            ],
            "text/plain": [
              "| 35880        | 2.9e+09 | 44.85       | 7m 3s        |"
            ]
          },
          "metadata": {
            "tags": []
          }
        },
        {
          "output_type": "display_data",
          "data": {
            "text/html": [
              "<pre>| 36175        | 2.9e+09 | 45.2188     | 7m 6s        |</pre>"
            ],
            "text/plain": [
              "| 36175        | 2.9e+09 | 45.2188     | 7m 6s        |"
            ]
          },
          "metadata": {
            "tags": []
          }
        },
        {
          "output_type": "display_data",
          "data": {
            "text/html": [
              "<pre>| 36470        | 2.9e+09 | 45.5875     | 7m 9s        |</pre>"
            ],
            "text/plain": [
              "| 36470        | 2.9e+09 | 45.5875     | 7m 9s        |"
            ]
          },
          "metadata": {
            "tags": []
          }
        },
        {
          "output_type": "display_data",
          "data": {
            "text/html": [
              "<pre>| 36771        | 2.9e+09 | 45.9637     | 7m 12s       |</pre>"
            ],
            "text/plain": [
              "| 36771        | 2.9e+09 | 45.9637     | 7m 12s       |"
            ]
          },
          "metadata": {
            "tags": []
          }
        },
        {
          "output_type": "display_data",
          "data": {
            "text/html": [
              "<pre>| 37041        | 3e+09   | 46.3013     | 7m 15s       |</pre>"
            ],
            "text/plain": [
              "| 37041        | 3e+09   | 46.3013     | 7m 15s       |"
            ]
          },
          "metadata": {
            "tags": []
          }
        },
        {
          "output_type": "display_data",
          "data": {
            "text/html": [
              "<pre>| 37333        | 3e+09   | 46.6662     | 7m 18s       |</pre>"
            ],
            "text/plain": [
              "| 37333        | 3e+09   | 46.6662     | 7m 18s       |"
            ]
          },
          "metadata": {
            "tags": []
          }
        },
        {
          "output_type": "display_data",
          "data": {
            "text/html": [
              "<pre>| 37635        | 3e+09   | 47.0438     | 7m 21s       |</pre>"
            ],
            "text/plain": [
              "| 37635        | 3e+09   | 47.0438     | 7m 21s       |"
            ]
          },
          "metadata": {
            "tags": []
          }
        },
        {
          "output_type": "display_data",
          "data": {
            "text/html": [
              "<pre>| 37888        | 3e+09   | 47.36       | 7m 24s       |</pre>"
            ],
            "text/plain": [
              "| 37888        | 3e+09   | 47.36       | 7m 24s       |"
            ]
          },
          "metadata": {
            "tags": []
          }
        },
        {
          "output_type": "display_data",
          "data": {
            "text/html": [
              "<pre>| 38171        | 3.1e+09 | 47.7137     | 7m 27s       |</pre>"
            ],
            "text/plain": [
              "| 38171        | 3.1e+09 | 47.7137     | 7m 27s       |"
            ]
          },
          "metadata": {
            "tags": []
          }
        },
        {
          "output_type": "display_data",
          "data": {
            "text/html": [
              "<pre>| 38470        | 3.1e+09 | 48.0875     | 7m 30s       |</pre>"
            ],
            "text/plain": [
              "| 38470        | 3.1e+09 | 48.0875     | 7m 30s       |"
            ]
          },
          "metadata": {
            "tags": []
          }
        },
        {
          "output_type": "display_data",
          "data": {
            "text/html": [
              "<pre>| 38715        | 3.1e+09 | 48.3937     | 7m 33s       |</pre>"
            ],
            "text/plain": [
              "| 38715        | 3.1e+09 | 48.3937     | 7m 33s       |"
            ]
          },
          "metadata": {
            "tags": []
          }
        },
        {
          "output_type": "display_data",
          "data": {
            "text/html": [
              "<pre>| 38976        | 3.1e+09 | 48.72       | 7m 36s       |</pre>"
            ],
            "text/plain": [
              "| 38976        | 3.1e+09 | 48.72       | 7m 36s       |"
            ]
          },
          "metadata": {
            "tags": []
          }
        },
        {
          "output_type": "display_data",
          "data": {
            "text/html": [
              "<pre>| 39221        | 3.1e+09 | 49.0262     | 7m 39s       |</pre>"
            ],
            "text/plain": [
              "| 39221        | 3.1e+09 | 49.0262     | 7m 39s       |"
            ]
          },
          "metadata": {
            "tags": []
          }
        },
        {
          "output_type": "display_data",
          "data": {
            "text/html": [
              "<pre>| 39494        | 3.2e+09 | 49.3675     | 7m 42s       |</pre>"
            ],
            "text/plain": [
              "| 39494        | 3.2e+09 | 49.3675     | 7m 42s       |"
            ]
          },
          "metadata": {
            "tags": []
          }
        },
        {
          "output_type": "display_data",
          "data": {
            "text/html": [
              "<pre>| 39786        | 3.2e+09 | 49.7325     | 7m 45s       |</pre>"
            ],
            "text/plain": [
              "| 39786        | 3.2e+09 | 49.7325     | 7m 45s       |"
            ]
          },
          "metadata": {
            "tags": []
          }
        },
        {
          "output_type": "display_data",
          "data": {
            "text/html": [
              "<pre>| 40082        | 3.2e+09 | 50.1025     | 7m 48s       |</pre>"
            ],
            "text/plain": [
              "| 40082        | 3.2e+09 | 50.1025     | 7m 48s       |"
            ]
          },
          "metadata": {
            "tags": []
          }
        },
        {
          "output_type": "display_data",
          "data": {
            "text/html": [
              "<pre>| 40338        | 3.2e+09 | 50.4225     | 7m 51s       |</pre>"
            ],
            "text/plain": [
              "| 40338        | 3.2e+09 | 50.4225     | 7m 51s       |"
            ]
          },
          "metadata": {
            "tags": []
          }
        },
        {
          "output_type": "display_data",
          "data": {
            "text/html": [
              "<pre>| 40628        | 3.3e+09 | 50.785      | 7m 54s       |</pre>"
            ],
            "text/plain": [
              "| 40628        | 3.3e+09 | 50.785      | 7m 54s       |"
            ]
          },
          "metadata": {
            "tags": []
          }
        },
        {
          "output_type": "display_data",
          "data": {
            "text/html": [
              "<pre>| 40922        | 3.3e+09 | 51.1525     | 7m 57s       |</pre>"
            ],
            "text/plain": [
              "| 40922        | 3.3e+09 | 51.1525     | 7m 57s       |"
            ]
          },
          "metadata": {
            "tags": []
          }
        },
        {
          "output_type": "display_data",
          "data": {
            "text/html": [
              "<pre>| 41219        | 3.3e+09 | 51.5237     | 8m 0s        |</pre>"
            ],
            "text/plain": [
              "| 41219        | 3.3e+09 | 51.5237     | 8m 0s        |"
            ]
          },
          "metadata": {
            "tags": []
          }
        },
        {
          "output_type": "display_data",
          "data": {
            "text/html": [
              "<pre>| 41489        | 3.3e+09 | 51.8612     | 8m 3s        |</pre>"
            ],
            "text/plain": [
              "| 41489        | 3.3e+09 | 51.8612     | 8m 3s        |"
            ]
          },
          "metadata": {
            "tags": []
          }
        },
        {
          "output_type": "display_data",
          "data": {
            "text/html": [
              "<pre>| 41766        | 3.3e+09 | 52.2075     | 8m 6s        |</pre>"
            ],
            "text/plain": [
              "| 41766        | 3.3e+09 | 52.2075     | 8m 6s        |"
            ]
          },
          "metadata": {
            "tags": []
          }
        },
        {
          "output_type": "display_data",
          "data": {
            "text/html": [
              "<pre>| 42006        | 3.4e+09 | 52.5075     | 8m 9s        |</pre>"
            ],
            "text/plain": [
              "| 42006        | 3.4e+09 | 52.5075     | 8m 9s        |"
            ]
          },
          "metadata": {
            "tags": []
          }
        },
        {
          "output_type": "display_data",
          "data": {
            "text/html": [
              "<pre>| 42257        | 3.4e+09 | 52.8212     | 8m 12s       |</pre>"
            ],
            "text/plain": [
              "| 42257        | 3.4e+09 | 52.8212     | 8m 12s       |"
            ]
          },
          "metadata": {
            "tags": []
          }
        },
        {
          "output_type": "display_data",
          "data": {
            "text/html": [
              "<pre>| 42491        | 3.4e+09 | 53.1138     | 8m 15s       |</pre>"
            ],
            "text/plain": [
              "| 42491        | 3.4e+09 | 53.1138     | 8m 15s       |"
            ]
          },
          "metadata": {
            "tags": []
          }
        },
        {
          "output_type": "display_data",
          "data": {
            "text/html": [
              "<pre>| 42758        | 3.4e+09 | 53.4475     | 8m 18s       |</pre>"
            ],
            "text/plain": [
              "| 42758        | 3.4e+09 | 53.4475     | 8m 18s       |"
            ]
          },
          "metadata": {
            "tags": []
          }
        },
        {
          "output_type": "display_data",
          "data": {
            "text/html": [
              "<pre>| 43021        | 3.4e+09 | 53.7762     | 8m 21s       |</pre>"
            ],
            "text/plain": [
              "| 43021        | 3.4e+09 | 53.7762     | 8m 21s       |"
            ]
          },
          "metadata": {
            "tags": []
          }
        },
        {
          "output_type": "display_data",
          "data": {
            "text/html": [
              "<pre>| 43306        | 3.5e+09 | 54.1325     | 8m 24s       |</pre>"
            ],
            "text/plain": [
              "| 43306        | 3.5e+09 | 54.1325     | 8m 24s       |"
            ]
          },
          "metadata": {
            "tags": []
          }
        },
        {
          "output_type": "display_data",
          "data": {
            "text/html": [
              "<pre>| 43594        | 3.5e+09 | 54.4925     | 8m 27s       |</pre>"
            ],
            "text/plain": [
              "| 43594        | 3.5e+09 | 54.4925     | 8m 27s       |"
            ]
          },
          "metadata": {
            "tags": []
          }
        },
        {
          "output_type": "display_data",
          "data": {
            "text/html": [
              "<pre>| 43817        | 3.5e+09 | 54.7713     | 8m 30s       |</pre>"
            ],
            "text/plain": [
              "| 43817        | 3.5e+09 | 54.7713     | 8m 30s       |"
            ]
          },
          "metadata": {
            "tags": []
          }
        },
        {
          "output_type": "display_data",
          "data": {
            "text/html": [
              "<pre>| 44041        | 3.5e+09 | 55.0513     | 8m 33s       |</pre>"
            ],
            "text/plain": [
              "| 44041        | 3.5e+09 | 55.0513     | 8m 33s       |"
            ]
          },
          "metadata": {
            "tags": []
          }
        },
        {
          "output_type": "display_data",
          "data": {
            "text/html": [
              "<pre>| 44336        | 3.5e+09 | 55.42       | 8m 36s       |</pre>"
            ],
            "text/plain": [
              "| 44336        | 3.5e+09 | 55.42       | 8m 36s       |"
            ]
          },
          "metadata": {
            "tags": []
          }
        },
        {
          "output_type": "display_data",
          "data": {
            "text/html": [
              "<pre>| 44633        | 3.6e+09 | 55.7912     | 8m 39s       |</pre>"
            ],
            "text/plain": [
              "| 44633        | 3.6e+09 | 55.7912     | 8m 39s       |"
            ]
          },
          "metadata": {
            "tags": []
          }
        },
        {
          "output_type": "display_data",
          "data": {
            "text/html": [
              "<pre>| 44889        | 3.6e+09 | 56.1112     | 8m 42s       |</pre>"
            ],
            "text/plain": [
              "| 44889        | 3.6e+09 | 56.1112     | 8m 42s       |"
            ]
          },
          "metadata": {
            "tags": []
          }
        },
        {
          "output_type": "display_data",
          "data": {
            "text/html": [
              "<pre>| 45130        | 3.6e+09 | 56.4125     | 8m 45s       |</pre>"
            ],
            "text/plain": [
              "| 45130        | 3.6e+09 | 56.4125     | 8m 45s       |"
            ]
          },
          "metadata": {
            "tags": []
          }
        },
        {
          "output_type": "display_data",
          "data": {
            "text/html": [
              "<pre>| 45396        | 3.6e+09 | 56.745      | 8m 48s       |</pre>"
            ],
            "text/plain": [
              "| 45396        | 3.6e+09 | 56.745      | 8m 48s       |"
            ]
          },
          "metadata": {
            "tags": []
          }
        },
        {
          "output_type": "display_data",
          "data": {
            "text/html": [
              "<pre>| 45685        | 3.7e+09 | 57.1063     | 8m 51s       |</pre>"
            ],
            "text/plain": [
              "| 45685        | 3.7e+09 | 57.1063     | 8m 51s       |"
            ]
          },
          "metadata": {
            "tags": []
          }
        },
        {
          "output_type": "display_data",
          "data": {
            "text/html": [
              "<pre>| 45969        | 3.7e+09 | 57.4612     | 8m 54s       |</pre>"
            ],
            "text/plain": [
              "| 45969        | 3.7e+09 | 57.4612     | 8m 54s       |"
            ]
          },
          "metadata": {
            "tags": []
          }
        },
        {
          "output_type": "display_data",
          "data": {
            "text/html": [
              "<pre>| 46195        | 3.7e+09 | 57.7437     | 8m 57s       |</pre>"
            ],
            "text/plain": [
              "| 46195        | 3.7e+09 | 57.7437     | 8m 57s       |"
            ]
          },
          "metadata": {
            "tags": []
          }
        },
        {
          "output_type": "display_data",
          "data": {
            "text/html": [
              "<pre>| 46451        | 3.7e+09 | 58.0637     | 9m 0s        |</pre>"
            ],
            "text/plain": [
              "| 46451        | 3.7e+09 | 58.0637     | 9m 0s        |"
            ]
          },
          "metadata": {
            "tags": []
          }
        },
        {
          "output_type": "display_data",
          "data": {
            "text/html": [
              "<pre>| 46719        | 3.7e+09 | 58.3987     | 9m 3s        |</pre>"
            ],
            "text/plain": [
              "| 46719        | 3.7e+09 | 58.3987     | 9m 3s        |"
            ]
          },
          "metadata": {
            "tags": []
          }
        },
        {
          "output_type": "display_data",
          "data": {
            "text/html": [
              "<pre>| 46947        | 3.8e+09 | 58.6838     | 9m 6s        |</pre>"
            ],
            "text/plain": [
              "| 46947        | 3.8e+09 | 58.6838     | 9m 6s        |"
            ]
          },
          "metadata": {
            "tags": []
          }
        },
        {
          "output_type": "display_data",
          "data": {
            "text/html": [
              "<pre>| 47174        | 3.8e+09 | 58.9675     | 9m 9s        |</pre>"
            ],
            "text/plain": [
              "| 47174        | 3.8e+09 | 58.9675     | 9m 9s        |"
            ]
          },
          "metadata": {
            "tags": []
          }
        },
        {
          "output_type": "display_data",
          "data": {
            "text/html": [
              "<pre>| 47428        | 3.8e+09 | 59.285      | 9m 12s       |</pre>"
            ],
            "text/plain": [
              "| 47428        | 3.8e+09 | 59.285      | 9m 12s       |"
            ]
          },
          "metadata": {
            "tags": []
          }
        },
        {
          "output_type": "display_data",
          "data": {
            "text/html": [
              "<pre>| 47711        | 3.8e+09 | 59.6388     | 9m 15s       |</pre>"
            ],
            "text/plain": [
              "| 47711        | 3.8e+09 | 59.6388     | 9m 15s       |"
            ]
          },
          "metadata": {
            "tags": []
          }
        },
        {
          "output_type": "display_data",
          "data": {
            "text/html": [
              "<pre>| 47990        | 3.8e+09 | 59.9875     | 9m 18s       |</pre>"
            ],
            "text/plain": [
              "| 47990        | 3.8e+09 | 59.9875     | 9m 18s       |"
            ]
          },
          "metadata": {
            "tags": []
          }
        },
        {
          "output_type": "display_data",
          "data": {
            "text/html": [
              "<pre>| 48289        | 3.9e+09 | 60.3612     | 9m 21s       |</pre>"
            ],
            "text/plain": [
              "| 48289        | 3.9e+09 | 60.3612     | 9m 21s       |"
            ]
          },
          "metadata": {
            "tags": []
          }
        },
        {
          "output_type": "display_data",
          "data": {
            "text/html": [
              "<pre>| 48566        | 3.9e+09 | 60.7075     | 9m 24s       |</pre>"
            ],
            "text/plain": [
              "| 48566        | 3.9e+09 | 60.7075     | 9m 24s       |"
            ]
          },
          "metadata": {
            "tags": []
          }
        },
        {
          "output_type": "display_data",
          "data": {
            "text/html": [
              "<pre>| 48844        | 3.9e+09 | 61.055      | 9m 27s       |</pre>"
            ],
            "text/plain": [
              "| 48844        | 3.9e+09 | 61.055      | 9m 27s       |"
            ]
          },
          "metadata": {
            "tags": []
          }
        },
        {
          "output_type": "display_data",
          "data": {
            "text/html": [
              "<pre>| 49121        | 3.9e+09 | 61.4012     | 9m 30s       |</pre>"
            ],
            "text/plain": [
              "| 49121        | 3.9e+09 | 61.4012     | 9m 30s       |"
            ]
          },
          "metadata": {
            "tags": []
          }
        },
        {
          "output_type": "display_data",
          "data": {
            "text/html": [
              "<pre>| 49366        | 3.9e+09 | 61.7075     | 9m 33s       |</pre>"
            ],
            "text/plain": [
              "| 49366        | 3.9e+09 | 61.7075     | 9m 33s       |"
            ]
          },
          "metadata": {
            "tags": []
          }
        },
        {
          "output_type": "display_data",
          "data": {
            "text/html": [
              "<pre>| 49639        | 4e+09   | 62.0487     | 9m 36s       |</pre>"
            ],
            "text/plain": [
              "| 49639        | 4e+09   | 62.0487     | 9m 36s       |"
            ]
          },
          "metadata": {
            "tags": []
          }
        },
        {
          "output_type": "display_data",
          "data": {
            "text/html": [
              "<pre>| 49929        | 4e+09   | 62.4113     | 9m 39s       |</pre>"
            ],
            "text/plain": [
              "| 49929        | 4e+09   | 62.4113     | 9m 39s       |"
            ]
          },
          "metadata": {
            "tags": []
          }
        },
        {
          "output_type": "display_data",
          "data": {
            "text/html": [
              "<pre>| 50186        | 4e+09   | 62.7325     | 9m 42s       |</pre>"
            ],
            "text/plain": [
              "| 50186        | 4e+09   | 62.7325     | 9m 42s       |"
            ]
          },
          "metadata": {
            "tags": []
          }
        },
        {
          "output_type": "display_data",
          "data": {
            "text/html": [
              "<pre>| 50437        | 4e+09   | 63.0463     | 9m 45s       |</pre>"
            ],
            "text/plain": [
              "| 50437        | 4e+09   | 63.0463     | 9m 45s       |"
            ]
          },
          "metadata": {
            "tags": []
          }
        },
        {
          "output_type": "display_data",
          "data": {
            "text/html": [
              "<pre>| 50693        | 4.1e+09 | 63.3663     | 9m 48s       |</pre>"
            ],
            "text/plain": [
              "| 50693        | 4.1e+09 | 63.3663     | 9m 48s       |"
            ]
          },
          "metadata": {
            "tags": []
          }
        },
        {
          "output_type": "display_data",
          "data": {
            "text/html": [
              "<pre>| 50918        | 4.1e+09 | 63.6475     | 9m 51s       |</pre>"
            ],
            "text/plain": [
              "| 50918        | 4.1e+09 | 63.6475     | 9m 51s       |"
            ]
          },
          "metadata": {
            "tags": []
          }
        },
        {
          "output_type": "display_data",
          "data": {
            "text/html": [
              "<pre>| 51203        | 4.1e+09 | 64.0037     | 9m 54s       |</pre>"
            ],
            "text/plain": [
              "| 51203        | 4.1e+09 | 64.0037     | 9m 54s       |"
            ]
          },
          "metadata": {
            "tags": []
          }
        },
        {
          "output_type": "display_data",
          "data": {
            "text/html": [
              "<pre>| 51450        | 4.1e+09 | 64.3125     | 9m 57s       |</pre>"
            ],
            "text/plain": [
              "| 51450        | 4.1e+09 | 64.3125     | 9m 57s       |"
            ]
          },
          "metadata": {
            "tags": []
          }
        },
        {
          "output_type": "display_data",
          "data": {
            "text/html": [
              "<pre>| 51725        | 4.1e+09 | 64.6562     | 10m 0s       |</pre>"
            ],
            "text/plain": [
              "| 51725        | 4.1e+09 | 64.6562     | 10m 0s       |"
            ]
          },
          "metadata": {
            "tags": []
          }
        },
        {
          "output_type": "display_data",
          "data": {
            "text/html": [
              "<pre>| 51995        | 4.2e+09 | 64.9938     | 10m 3s       |</pre>"
            ],
            "text/plain": [
              "| 51995        | 4.2e+09 | 64.9938     | 10m 3s       |"
            ]
          },
          "metadata": {
            "tags": []
          }
        },
        {
          "output_type": "display_data",
          "data": {
            "text/html": [
              "<pre>| 52220        | 4.2e+09 | 65.275      | 10m 6s       |</pre>"
            ],
            "text/plain": [
              "| 52220        | 4.2e+09 | 65.275      | 10m 6s       |"
            ]
          },
          "metadata": {
            "tags": []
          }
        },
        {
          "output_type": "display_data",
          "data": {
            "text/html": [
              "<pre>| 52462        | 4.2e+09 | 65.5775     | 10m 9s       |</pre>"
            ],
            "text/plain": [
              "| 52462        | 4.2e+09 | 65.5775     | 10m 9s       |"
            ]
          },
          "metadata": {
            "tags": []
          }
        },
        {
          "output_type": "display_data",
          "data": {
            "text/html": [
              "<pre>| 52741        | 4.2e+09 | 65.9262     | 10m 12s      |</pre>"
            ],
            "text/plain": [
              "| 52741        | 4.2e+09 | 65.9262     | 10m 12s      |"
            ]
          },
          "metadata": {
            "tags": []
          }
        },
        {
          "output_type": "display_data",
          "data": {
            "text/html": [
              "<pre>| 53021        | 4.2e+09 | 66.2763     | 10m 15s      |</pre>"
            ],
            "text/plain": [
              "| 53021        | 4.2e+09 | 66.2763     | 10m 15s      |"
            ]
          },
          "metadata": {
            "tags": []
          }
        },
        {
          "output_type": "display_data",
          "data": {
            "text/html": [
              "<pre>| 53307        | 4.3e+09 | 66.6338     | 10m 18s      |</pre>"
            ],
            "text/plain": [
              "| 53307        | 4.3e+09 | 66.6338     | 10m 18s      |"
            ]
          },
          "metadata": {
            "tags": []
          }
        },
        {
          "output_type": "display_data",
          "data": {
            "text/html": [
              "<pre>| 53535        | 4.3e+09 | 66.9188     | 10m 21s      |</pre>"
            ],
            "text/plain": [
              "| 53535        | 4.3e+09 | 66.9188     | 10m 21s      |"
            ]
          },
          "metadata": {
            "tags": []
          }
        },
        {
          "output_type": "display_data",
          "data": {
            "text/html": [
              "<pre>| 53828        | 4.3e+09 | 67.285      | 10m 24s      |</pre>"
            ],
            "text/plain": [
              "| 53828        | 4.3e+09 | 67.285      | 10m 24s      |"
            ]
          },
          "metadata": {
            "tags": []
          }
        },
        {
          "output_type": "display_data",
          "data": {
            "text/html": [
              "<pre>| 54098        | 4.3e+09 | 67.6225     | 10m 27s      |</pre>"
            ],
            "text/plain": [
              "| 54098        | 4.3e+09 | 67.6225     | 10m 27s      |"
            ]
          },
          "metadata": {
            "tags": []
          }
        },
        {
          "output_type": "display_data",
          "data": {
            "text/html": [
              "<pre>| 54392        | 4.4e+09 | 67.99       | 10m 30s      |</pre>"
            ],
            "text/plain": [
              "| 54392        | 4.4e+09 | 67.99       | 10m 30s      |"
            ]
          },
          "metadata": {
            "tags": []
          }
        },
        {
          "output_type": "display_data",
          "data": {
            "text/html": [
              "<pre>| 54684        | 4.4e+09 | 68.355      | 10m 33s      |</pre>"
            ],
            "text/plain": [
              "| 54684        | 4.4e+09 | 68.355      | 10m 33s      |"
            ]
          },
          "metadata": {
            "tags": []
          }
        },
        {
          "output_type": "display_data",
          "data": {
            "text/html": [
              "<pre>| 54954        | 4.4e+09 | 68.6925     | 10m 36s      |</pre>"
            ],
            "text/plain": [
              "| 54954        | 4.4e+09 | 68.6925     | 10m 36s      |"
            ]
          },
          "metadata": {
            "tags": []
          }
        },
        {
          "output_type": "display_data",
          "data": {
            "text/html": [
              "<pre>| 55202        | 4.4e+09 | 69.0025     | 10m 39s      |</pre>"
            ],
            "text/plain": [
              "| 55202        | 4.4e+09 | 69.0025     | 10m 39s      |"
            ]
          },
          "metadata": {
            "tags": []
          }
        },
        {
          "output_type": "display_data",
          "data": {
            "text/html": [
              "<pre>| 55475        | 4.4e+09 | 69.3438     | 10m 42s      |</pre>"
            ],
            "text/plain": [
              "| 55475        | 4.4e+09 | 69.3438     | 10m 42s      |"
            ]
          },
          "metadata": {
            "tags": []
          }
        },
        {
          "output_type": "display_data",
          "data": {
            "text/html": [
              "<pre>| 55702        | 4.5e+09 | 69.6275     | 10m 45s      |</pre>"
            ],
            "text/plain": [
              "| 55702        | 4.5e+09 | 69.6275     | 10m 45s      |"
            ]
          },
          "metadata": {
            "tags": []
          }
        },
        {
          "output_type": "display_data",
          "data": {
            "text/html": [
              "<pre>| 55945        | 4.5e+09 | 69.9313     | 10m 48s      |</pre>"
            ],
            "text/plain": [
              "| 55945        | 4.5e+09 | 69.9313     | 10m 48s      |"
            ]
          },
          "metadata": {
            "tags": []
          }
        },
        {
          "output_type": "display_data",
          "data": {
            "text/html": [
              "<pre>| 56207        | 4.5e+09 | 70.2588     | 10m 51s      |</pre>"
            ],
            "text/plain": [
              "| 56207        | 4.5e+09 | 70.2588     | 10m 51s      |"
            ]
          },
          "metadata": {
            "tags": []
          }
        },
        {
          "output_type": "display_data",
          "data": {
            "text/html": [
              "<pre>| 56451        | 4.5e+09 | 70.5637     | 10m 54s      |</pre>"
            ],
            "text/plain": [
              "| 56451        | 4.5e+09 | 70.5637     | 10m 54s      |"
            ]
          },
          "metadata": {
            "tags": []
          }
        },
        {
          "output_type": "display_data",
          "data": {
            "text/html": [
              "<pre>| 56715        | 4.5e+09 | 70.8937     | 10m 57s      |</pre>"
            ],
            "text/plain": [
              "| 56715        | 4.5e+09 | 70.8937     | 10m 57s      |"
            ]
          },
          "metadata": {
            "tags": []
          }
        },
        {
          "output_type": "display_data",
          "data": {
            "text/html": [
              "<pre>| 56990        | 4.6e+09 | 71.2375     | 11m 0s       |</pre>"
            ],
            "text/plain": [
              "| 56990        | 4.6e+09 | 71.2375     | 11m 0s       |"
            ]
          },
          "metadata": {
            "tags": []
          }
        },
        {
          "output_type": "display_data",
          "data": {
            "text/html": [
              "<pre>| 57244        | 4.6e+09 | 71.555      | 11m 3s       |</pre>"
            ],
            "text/plain": [
              "| 57244        | 4.6e+09 | 71.555      | 11m 3s       |"
            ]
          },
          "metadata": {
            "tags": []
          }
        },
        {
          "output_type": "display_data",
          "data": {
            "text/html": [
              "<pre>| 57481        | 4.6e+09 | 71.8512     | 11m 6s       |</pre>"
            ],
            "text/plain": [
              "| 57481        | 4.6e+09 | 71.8512     | 11m 6s       |"
            ]
          },
          "metadata": {
            "tags": []
          }
        },
        {
          "output_type": "display_data",
          "data": {
            "text/html": [
              "<pre>| 57733        | 4.6e+09 | 72.1663     | 11m 9s       |</pre>"
            ],
            "text/plain": [
              "| 57733        | 4.6e+09 | 72.1663     | 11m 9s       |"
            ]
          },
          "metadata": {
            "tags": []
          }
        },
        {
          "output_type": "display_data",
          "data": {
            "text/html": [
              "<pre>| 58016        | 4.6e+09 | 72.52       | 11m 12s      |</pre>"
            ],
            "text/plain": [
              "| 58016        | 4.6e+09 | 72.52       | 11m 12s      |"
            ]
          },
          "metadata": {
            "tags": []
          }
        },
        {
          "output_type": "display_data",
          "data": {
            "text/html": [
              "<pre>| 58294        | 4.7e+09 | 72.8675     | 11m 15s      |</pre>"
            ],
            "text/plain": [
              "| 58294        | 4.7e+09 | 72.8675     | 11m 15s      |"
            ]
          },
          "metadata": {
            "tags": []
          }
        },
        {
          "output_type": "display_data",
          "data": {
            "text/html": [
              "<pre>| 58568        | 4.7e+09 | 73.21       | 11m 18s      |</pre>"
            ],
            "text/plain": [
              "| 58568        | 4.7e+09 | 73.21       | 11m 18s      |"
            ]
          },
          "metadata": {
            "tags": []
          }
        },
        {
          "output_type": "display_data",
          "data": {
            "text/html": [
              "<pre>| 58834        | 4.7e+09 | 73.5425     | 11m 21s      |</pre>"
            ],
            "text/plain": [
              "| 58834        | 4.7e+09 | 73.5425     | 11m 21s      |"
            ]
          },
          "metadata": {
            "tags": []
          }
        },
        {
          "output_type": "display_data",
          "data": {
            "text/html": [
              "<pre>| 59130        | 4.7e+09 | 73.9125     | 11m 24s      |</pre>"
            ],
            "text/plain": [
              "| 59130        | 4.7e+09 | 73.9125     | 11m 24s      |"
            ]
          },
          "metadata": {
            "tags": []
          }
        },
        {
          "output_type": "display_data",
          "data": {
            "text/html": [
              "<pre>| 59407        | 4.8e+09 | 74.2588     | 11m 27s      |</pre>"
            ],
            "text/plain": [
              "| 59407        | 4.8e+09 | 74.2588     | 11m 27s      |"
            ]
          },
          "metadata": {
            "tags": []
          }
        },
        {
          "output_type": "display_data",
          "data": {
            "text/html": [
              "<pre>| 59631        | 4.8e+09 | 74.5387     | 11m 30s      |</pre>"
            ],
            "text/plain": [
              "| 59631        | 4.8e+09 | 74.5387     | 11m 30s      |"
            ]
          },
          "metadata": {
            "tags": []
          }
        },
        {
          "output_type": "display_data",
          "data": {
            "text/html": [
              "<pre>| 59863        | 4.8e+09 | 74.8287     | 11m 33s      |</pre>"
            ],
            "text/plain": [
              "| 59863        | 4.8e+09 | 74.8287     | 11m 33s      |"
            ]
          },
          "metadata": {
            "tags": []
          }
        },
        {
          "output_type": "display_data",
          "data": {
            "text/html": [
              "<pre>| 60133        | 4.8e+09 | 75.1663     | 11m 36s      |</pre>"
            ],
            "text/plain": [
              "| 60133        | 4.8e+09 | 75.1663     | 11m 36s      |"
            ]
          },
          "metadata": {
            "tags": []
          }
        },
        {
          "output_type": "display_data",
          "data": {
            "text/html": [
              "<pre>| 60428        | 4.8e+09 | 75.535      | 11m 39s      |</pre>"
            ],
            "text/plain": [
              "| 60428        | 4.8e+09 | 75.535      | 11m 39s      |"
            ]
          },
          "metadata": {
            "tags": []
          }
        },
        {
          "output_type": "display_data",
          "data": {
            "text/html": [
              "<pre>| 60719        | 4.9e+09 | 75.8988     | 11m 42s      |</pre>"
            ],
            "text/plain": [
              "| 60719        | 4.9e+09 | 75.8988     | 11m 42s      |"
            ]
          },
          "metadata": {
            "tags": []
          }
        },
        {
          "output_type": "display_data",
          "data": {
            "text/html": [
              "<pre>| 61004        | 4.9e+09 | 76.255      | 11m 45s      |</pre>"
            ],
            "text/plain": [
              "| 61004        | 4.9e+09 | 76.255      | 11m 45s      |"
            ]
          },
          "metadata": {
            "tags": []
          }
        },
        {
          "output_type": "display_data",
          "data": {
            "text/html": [
              "<pre>| 61257        | 4.9e+09 | 76.5713     | 11m 48s      |</pre>"
            ],
            "text/plain": [
              "| 61257        | 4.9e+09 | 76.5713     | 11m 48s      |"
            ]
          },
          "metadata": {
            "tags": []
          }
        },
        {
          "output_type": "display_data",
          "data": {
            "text/html": [
              "<pre>| 61528        | 4.9e+09 | 76.91       | 11m 51s      |</pre>"
            ],
            "text/plain": [
              "| 61528        | 4.9e+09 | 76.91       | 11m 51s      |"
            ]
          },
          "metadata": {
            "tags": []
          }
        },
        {
          "output_type": "display_data",
          "data": {
            "text/html": [
              "<pre>| 61751        | 4.9e+09 | 77.1887     | 11m 54s      |</pre>"
            ],
            "text/plain": [
              "| 61751        | 4.9e+09 | 77.1887     | 11m 54s      |"
            ]
          },
          "metadata": {
            "tags": []
          }
        },
        {
          "output_type": "display_data",
          "data": {
            "text/html": [
              "<pre>| 61998        | 5e+09   | 77.4975     | 11m 57s      |</pre>"
            ],
            "text/plain": [
              "| 61998        | 5e+09   | 77.4975     | 11m 57s      |"
            ]
          },
          "metadata": {
            "tags": []
          }
        },
        {
          "output_type": "display_data",
          "data": {
            "text/html": [
              "<pre>| 62274        | 5e+09   | 77.8425     | 12m 0s       |</pre>"
            ],
            "text/plain": [
              "| 62274        | 5e+09   | 77.8425     | 12m 0s       |"
            ]
          },
          "metadata": {
            "tags": []
          }
        },
        {
          "output_type": "display_data",
          "data": {
            "text/html": [
              "<pre>| 62503        |         | 78.1287     | 12m 3s       |</pre>"
            ],
            "text/plain": [
              "| 62503        |         | 78.1287     | 12m 3s       |"
            ]
          },
          "metadata": {
            "tags": []
          }
        },
        {
          "output_type": "display_data",
          "data": {
            "text/html": [
              "<pre>| 62757        | 5e+09   | 78.4463     | 12m 6s       |</pre>"
            ],
            "text/plain": [
              "| 62757        | 5e+09   | 78.4463     | 12m 6s       |"
            ]
          },
          "metadata": {
            "tags": []
          }
        },
        {
          "output_type": "display_data",
          "data": {
            "text/html": [
              "<pre>| 63010        | 5e+09   | 78.7625     | 12m 9s       |</pre>"
            ],
            "text/plain": [
              "| 63010        | 5e+09   | 78.7625     | 12m 9s       |"
            ]
          },
          "metadata": {
            "tags": []
          }
        },
        {
          "output_type": "display_data",
          "data": {
            "text/html": [
              "<pre>| 63304        | 5.1e+09 | 79.13       | 12m 12s      |</pre>"
            ],
            "text/plain": [
              "| 63304        | 5.1e+09 | 79.13       | 12m 12s      |"
            ]
          },
          "metadata": {
            "tags": []
          }
        },
        {
          "output_type": "display_data",
          "data": {
            "text/html": [
              "<pre>| 63572        | 5.1e+09 | 79.465      | 12m 15s      |</pre>"
            ],
            "text/plain": [
              "| 63572        | 5.1e+09 | 79.465      | 12m 15s      |"
            ]
          },
          "metadata": {
            "tags": []
          }
        },
        {
          "output_type": "display_data",
          "data": {
            "text/html": [
              "<pre>| 63841        | 5.1e+09 | 79.8012     | 12m 18s      |</pre>"
            ],
            "text/plain": [
              "| 63841        | 5.1e+09 | 79.8012     | 12m 18s      |"
            ]
          },
          "metadata": {
            "tags": []
          }
        },
        {
          "output_type": "display_data",
          "data": {
            "text/html": [
              "<pre>| 64110        | 5.1e+09 | 80.1375     | 12m 21s      |</pre>"
            ],
            "text/plain": [
              "| 64110        | 5.1e+09 | 80.1375     | 12m 21s      |"
            ]
          },
          "metadata": {
            "tags": []
          }
        },
        {
          "output_type": "display_data",
          "data": {
            "text/html": [
              "<pre>| 64408        | 5.2e+09 | 80.51       | 12m 24s      |</pre>"
            ],
            "text/plain": [
              "| 64408        | 5.2e+09 | 80.51       | 12m 24s      |"
            ]
          },
          "metadata": {
            "tags": []
          }
        },
        {
          "output_type": "display_data",
          "data": {
            "text/html": [
              "<pre>| 64683        | 5.2e+09 | 80.8538     | 12m 27s      |</pre>"
            ],
            "text/plain": [
              "| 64683        | 5.2e+09 | 80.8538     | 12m 27s      |"
            ]
          },
          "metadata": {
            "tags": []
          }
        },
        {
          "output_type": "display_data",
          "data": {
            "text/html": [
              "<pre>| 64947        | 5.2e+09 | 81.1838     | 12m 30s      |</pre>"
            ],
            "text/plain": [
              "| 64947        | 5.2e+09 | 81.1838     | 12m 30s      |"
            ]
          },
          "metadata": {
            "tags": []
          }
        },
        {
          "output_type": "display_data",
          "data": {
            "text/html": [
              "<pre>| 65183        | 5.2e+09 | 81.4788     | 12m 33s      |</pre>"
            ],
            "text/plain": [
              "| 65183        | 5.2e+09 | 81.4788     | 12m 33s      |"
            ]
          },
          "metadata": {
            "tags": []
          }
        },
        {
          "output_type": "display_data",
          "data": {
            "text/html": [
              "<pre>| 65440        | 5.2e+09 | 81.8        | 12m 36s      |</pre>"
            ],
            "text/plain": [
              "| 65440        | 5.2e+09 | 81.8        | 12m 36s      |"
            ]
          },
          "metadata": {
            "tags": []
          }
        },
        {
          "output_type": "display_data",
          "data": {
            "text/html": [
              "<pre>| 65738        | 5.3e+09 | 82.1725     | 12m 39s      |</pre>"
            ],
            "text/plain": [
              "| 65738        | 5.3e+09 | 82.1725     | 12m 39s      |"
            ]
          },
          "metadata": {
            "tags": []
          }
        },
        {
          "output_type": "display_data",
          "data": {
            "text/html": [
              "<pre>| 65969        | 5.3e+09 | 82.4613     | 12m 42s      |</pre>"
            ],
            "text/plain": [
              "| 65969        | 5.3e+09 | 82.4613     | 12m 42s      |"
            ]
          },
          "metadata": {
            "tags": []
          }
        },
        {
          "output_type": "display_data",
          "data": {
            "text/html": [
              "<pre>| 66268        | 5.3e+09 | 82.835      | 12m 45s      |</pre>"
            ],
            "text/plain": [
              "| 66268        | 5.3e+09 | 82.835      | 12m 45s      |"
            ]
          },
          "metadata": {
            "tags": []
          }
        },
        {
          "output_type": "display_data",
          "data": {
            "text/html": [
              "<pre>| 66514        | 5.3e+09 | 83.1425     | 12m 48s      |</pre>"
            ],
            "text/plain": [
              "| 66514        | 5.3e+09 | 83.1425     | 12m 48s      |"
            ]
          },
          "metadata": {
            "tags": []
          }
        },
        {
          "output_type": "display_data",
          "data": {
            "text/html": [
              "<pre>| 66762        | 5.3e+09 | 83.4525     | 12m 51s      |</pre>"
            ],
            "text/plain": [
              "| 66762        | 5.3e+09 | 83.4525     | 12m 51s      |"
            ]
          },
          "metadata": {
            "tags": []
          }
        },
        {
          "output_type": "display_data",
          "data": {
            "text/html": [
              "<pre>| 67048        | 5.4e+09 | 83.81       | 12m 54s      |</pre>"
            ],
            "text/plain": [
              "| 67048        | 5.4e+09 | 83.81       | 12m 54s      |"
            ]
          },
          "metadata": {
            "tags": []
          }
        },
        {
          "output_type": "display_data",
          "data": {
            "text/html": [
              "<pre>| 67300        | 5.4e+09 | 84.125      | 12m 57s      |</pre>"
            ],
            "text/plain": [
              "| 67300        | 5.4e+09 | 84.125      | 12m 57s      |"
            ]
          },
          "metadata": {
            "tags": []
          }
        },
        {
          "output_type": "display_data",
          "data": {
            "text/html": [
              "<pre>| 67526        | 5.4e+09 | 84.4075     | 13m 0s       |</pre>"
            ],
            "text/plain": [
              "| 67526        | 5.4e+09 | 84.4075     | 13m 0s       |"
            ]
          },
          "metadata": {
            "tags": []
          }
        },
        {
          "output_type": "display_data",
          "data": {
            "text/html": [
              "<pre>| 67765        | 5.4e+09 | 84.7062     | 13m 3s       |</pre>"
            ],
            "text/plain": [
              "| 67765        | 5.4e+09 | 84.7062     | 13m 3s       |"
            ]
          },
          "metadata": {
            "tags": []
          }
        },
        {
          "output_type": "display_data",
          "data": {
            "text/html": [
              "<pre>| 68041        | 5.4e+09 | 85.0512     | 13m 6s       |</pre>"
            ],
            "text/plain": [
              "| 68041        | 5.4e+09 | 85.0512     | 13m 6s       |"
            ]
          },
          "metadata": {
            "tags": []
          }
        },
        {
          "output_type": "display_data",
          "data": {
            "text/html": [
              "<pre>| 68303        | 5.5e+09 | 85.3787     | 13m 9s       |</pre>"
            ],
            "text/plain": [
              "| 68303        | 5.5e+09 | 85.3787     | 13m 9s       |"
            ]
          },
          "metadata": {
            "tags": []
          }
        },
        {
          "output_type": "display_data",
          "data": {
            "text/html": [
              "<pre>| 68565        | 5.5e+09 | 85.7062     | 13m 12s      |</pre>"
            ],
            "text/plain": [
              "| 68565        | 5.5e+09 | 85.7062     | 13m 12s      |"
            ]
          },
          "metadata": {
            "tags": []
          }
        },
        {
          "output_type": "display_data",
          "data": {
            "text/html": [
              "<pre>| 68843        | 5.5e+09 | 86.0537     | 13m 15s      |</pre>"
            ],
            "text/plain": [
              "| 68843        | 5.5e+09 | 86.0537     | 13m 15s      |"
            ]
          },
          "metadata": {
            "tags": []
          }
        },
        {
          "output_type": "display_data",
          "data": {
            "text/html": [
              "<pre>| 69087        | 5.5e+09 | 86.3588     | 13m 18s      |</pre>"
            ],
            "text/plain": [
              "| 69087        | 5.5e+09 | 86.3588     | 13m 18s      |"
            ]
          },
          "metadata": {
            "tags": []
          }
        },
        {
          "output_type": "display_data",
          "data": {
            "text/html": [
              "<pre>| 69333        | 5.5e+09 | 86.6663     | 13m 21s      |</pre>"
            ],
            "text/plain": [
              "| 69333        | 5.5e+09 | 86.6663     | 13m 21s      |"
            ]
          },
          "metadata": {
            "tags": []
          }
        },
        {
          "output_type": "display_data",
          "data": {
            "text/html": [
              "<pre>| 69561        | 5.6e+09 | 86.9513     | 13m 24s      |</pre>"
            ],
            "text/plain": [
              "| 69561        | 5.6e+09 | 86.9513     | 13m 24s      |"
            ]
          },
          "metadata": {
            "tags": []
          }
        },
        {
          "output_type": "display_data",
          "data": {
            "text/html": [
              "<pre>| 69824        | 5.6e+09 | 87.28       | 13m 27s      |</pre>"
            ],
            "text/plain": [
              "| 69824        | 5.6e+09 | 87.28       | 13m 27s      |"
            ]
          },
          "metadata": {
            "tags": []
          }
        },
        {
          "output_type": "display_data",
          "data": {
            "text/html": [
              "<pre>| 70087        | 5.6e+09 | 87.6088     | 13m 30s      |</pre>"
            ],
            "text/plain": [
              "| 70087        | 5.6e+09 | 87.6088     | 13m 30s      |"
            ]
          },
          "metadata": {
            "tags": []
          }
        },
        {
          "output_type": "display_data",
          "data": {
            "text/html": [
              "<pre>| 70371        | 5.6e+09 | 87.9638     | 13m 33s      |</pre>"
            ],
            "text/plain": [
              "| 70371        | 5.6e+09 | 87.9638     | 13m 33s      |"
            ]
          },
          "metadata": {
            "tags": []
          }
        },
        {
          "output_type": "display_data",
          "data": {
            "text/html": [
              "<pre>| 70625        | 5.6e+09 | 88.2812     | 13m 36s      |</pre>"
            ],
            "text/plain": [
              "| 70625        | 5.6e+09 | 88.2812     | 13m 36s      |"
            ]
          },
          "metadata": {
            "tags": []
          }
        },
        {
          "output_type": "display_data",
          "data": {
            "text/html": [
              "<pre>| 70916        | 5.7e+09 | 88.645      | 13m 39s      |</pre>"
            ],
            "text/plain": [
              "| 70916        | 5.7e+09 | 88.645      | 13m 39s      |"
            ]
          },
          "metadata": {
            "tags": []
          }
        },
        {
          "output_type": "display_data",
          "data": {
            "text/html": [
              "<pre>| 71206        | 5.7e+09 | 89.0075     | 13m 42s      |</pre>"
            ],
            "text/plain": [
              "| 71206        | 5.7e+09 | 89.0075     | 13m 42s      |"
            ]
          },
          "metadata": {
            "tags": []
          }
        },
        {
          "output_type": "display_data",
          "data": {
            "text/html": [
              "<pre>| 71489        | 5.7e+09 | 89.3612     | 13m 45s      |</pre>"
            ],
            "text/plain": [
              "| 71489        | 5.7e+09 | 89.3612     | 13m 45s      |"
            ]
          },
          "metadata": {
            "tags": []
          }
        },
        {
          "output_type": "display_data",
          "data": {
            "text/html": [
              "<pre>| 71751        | 5.7e+09 | 89.6887     | 13m 48s      |</pre>"
            ],
            "text/plain": [
              "| 71751        | 5.7e+09 | 89.6887     | 13m 48s      |"
            ]
          },
          "metadata": {
            "tags": []
          }
        },
        {
          "output_type": "display_data",
          "data": {
            "text/html": [
              "<pre>| 72049        | 5.8e+09 | 90.0613     | 13m 51s      |</pre>"
            ],
            "text/plain": [
              "| 72049        | 5.8e+09 | 90.0613     | 13m 51s      |"
            ]
          },
          "metadata": {
            "tags": []
          }
        },
        {
          "output_type": "display_data",
          "data": {
            "text/html": [
              "<pre>| 72334        | 5.8e+09 | 90.4175     | 13m 54s      |</pre>"
            ],
            "text/plain": [
              "| 72334        | 5.8e+09 | 90.4175     | 13m 54s      |"
            ]
          },
          "metadata": {
            "tags": []
          }
        },
        {
          "output_type": "display_data",
          "data": {
            "text/html": [
              "<pre>| 72592        | 5.8e+09 | 90.74       | 13m 57s      |</pre>"
            ],
            "text/plain": [
              "| 72592        | 5.8e+09 | 90.74       | 13m 57s      |"
            ]
          },
          "metadata": {
            "tags": []
          }
        },
        {
          "output_type": "display_data",
          "data": {
            "text/html": [
              "<pre>| 72859        | 5.8e+09 | 91.0738     | 14m 0s       |</pre>"
            ],
            "text/plain": [
              "| 72859        | 5.8e+09 | 91.0738     | 14m 0s       |"
            ]
          },
          "metadata": {
            "tags": []
          }
        },
        {
          "output_type": "display_data",
          "data": {
            "text/html": [
              "<pre>| 73137        | 5.9e+09 | 91.4213     | 14m 3s       |</pre>"
            ],
            "text/plain": [
              "| 73137        | 5.9e+09 | 91.4213     | 14m 3s       |"
            ]
          },
          "metadata": {
            "tags": []
          }
        },
        {
          "output_type": "display_data",
          "data": {
            "text/html": [
              "<pre>| 73418        | 5.9e+09 | 91.7725     | 14m 6s       |</pre>"
            ],
            "text/plain": [
              "| 73418        | 5.9e+09 | 91.7725     | 14m 6s       |"
            ]
          },
          "metadata": {
            "tags": []
          }
        },
        {
          "output_type": "display_data",
          "data": {
            "text/html": [
              "<pre>| 73648        | 5.9e+09 | 92.06       | 14m 9s       |</pre>"
            ],
            "text/plain": [
              "| 73648        | 5.9e+09 | 92.06       | 14m 9s       |"
            ]
          },
          "metadata": {
            "tags": []
          }
        },
        {
          "output_type": "display_data",
          "data": {
            "text/html": [
              "<pre>| 73910        | 5.9e+09 | 92.3875     | 14m 12s      |</pre>"
            ],
            "text/plain": [
              "| 73910        | 5.9e+09 | 92.3875     | 14m 12s      |"
            ]
          },
          "metadata": {
            "tags": []
          }
        },
        {
          "output_type": "display_data",
          "data": {
            "text/html": [
              "<pre>| 74160        | 5.9e+09 | 92.7        | 14m 15s      |</pre>"
            ],
            "text/plain": [
              "| 74160        | 5.9e+09 | 92.7        | 14m 15s      |"
            ]
          },
          "metadata": {
            "tags": []
          }
        },
        {
          "output_type": "display_data",
          "data": {
            "text/html": [
              "<pre>| 74436        | 6e+09   | 93.045      | 14m 18s      |</pre>"
            ],
            "text/plain": [
              "| 74436        | 6e+09   | 93.045      | 14m 18s      |"
            ]
          },
          "metadata": {
            "tags": []
          }
        },
        {
          "output_type": "display_data",
          "data": {
            "text/html": [
              "<pre>| 74710        | 6e+09   | 93.3875     | 14m 21s      |</pre>"
            ],
            "text/plain": [
              "| 74710        | 6e+09   | 93.3875     | 14m 21s      |"
            ]
          },
          "metadata": {
            "tags": []
          }
        },
        {
          "output_type": "display_data",
          "data": {
            "text/html": [
              "<pre>| 74986        | 6e+09   | 93.7325     | 14m 24s      |</pre>"
            ],
            "text/plain": [
              "| 74986        | 6e+09   | 93.7325     | 14m 24s      |"
            ]
          },
          "metadata": {
            "tags": []
          }
        },
        {
          "output_type": "display_data",
          "data": {
            "text/html": [
              "<pre>| 75235        | 6e+09   | 94.0438     | 14m 27s      |</pre>"
            ],
            "text/plain": [
              "| 75235        | 6e+09   | 94.0438     | 14m 27s      |"
            ]
          },
          "metadata": {
            "tags": []
          }
        },
        {
          "output_type": "display_data",
          "data": {
            "text/html": [
              "<pre>| 75489        | 6e+09   | 94.3612     | 14m 30s      |</pre>"
            ],
            "text/plain": [
              "| 75489        | 6e+09   | 94.3612     | 14m 30s      |"
            ]
          },
          "metadata": {
            "tags": []
          }
        },
        {
          "output_type": "display_data",
          "data": {
            "text/html": [
              "<pre>| 75718        | 6.1e+09 | 94.6475     | 14m 33s      |</pre>"
            ],
            "text/plain": [
              "| 75718        | 6.1e+09 | 94.6475     | 14m 33s      |"
            ]
          },
          "metadata": {
            "tags": []
          }
        },
        {
          "output_type": "display_data",
          "data": {
            "text/html": [
              "<pre>| 75944        | 6.1e+09 | 94.93       | 14m 36s      |</pre>"
            ],
            "text/plain": [
              "| 75944        | 6.1e+09 | 94.93       | 14m 36s      |"
            ]
          },
          "metadata": {
            "tags": []
          }
        },
        {
          "output_type": "display_data",
          "data": {
            "text/html": [
              "<pre>| 76225        | 6.1e+09 | 95.2812     | 14m 39s      |</pre>"
            ],
            "text/plain": [
              "| 76225        | 6.1e+09 | 95.2812     | 14m 39s      |"
            ]
          },
          "metadata": {
            "tags": []
          }
        },
        {
          "output_type": "display_data",
          "data": {
            "text/html": [
              "<pre>| 76495        | 6.1e+09 | 95.6188     | 14m 42s      |</pre>"
            ],
            "text/plain": [
              "| 76495        | 6.1e+09 | 95.6188     | 14m 42s      |"
            ]
          },
          "metadata": {
            "tags": []
          }
        },
        {
          "output_type": "display_data",
          "data": {
            "text/html": [
              "<pre>| 76797        | 6.1e+09 | 95.9963     | 14m 45s      |</pre>"
            ],
            "text/plain": [
              "| 76797        | 6.1e+09 | 95.9963     | 14m 45s      |"
            ]
          },
          "metadata": {
            "tags": []
          }
        },
        {
          "output_type": "display_data",
          "data": {
            "text/html": [
              "<pre>| 77101        | 6.2e+09 | 96.3762     | 14m 48s      |</pre>"
            ],
            "text/plain": [
              "| 77101        | 6.2e+09 | 96.3762     | 14m 48s      |"
            ]
          },
          "metadata": {
            "tags": []
          }
        },
        {
          "output_type": "display_data",
          "data": {
            "text/html": [
              "<pre>| 77368        | 6.2e+09 | 96.71       | 14m 51s      |</pre>"
            ],
            "text/plain": [
              "| 77368        | 6.2e+09 | 96.71       | 14m 51s      |"
            ]
          },
          "metadata": {
            "tags": []
          }
        },
        {
          "output_type": "display_data",
          "data": {
            "text/html": [
              "<pre>| 77595        | 6.2e+09 | 96.9938     | 14m 54s      |</pre>"
            ],
            "text/plain": [
              "| 77595        | 6.2e+09 | 96.9938     | 14m 54s      |"
            ]
          },
          "metadata": {
            "tags": []
          }
        },
        {
          "output_type": "display_data",
          "data": {
            "text/html": [
              "<pre>| 77827        | 6.2e+09 | 97.2837     | 14m 57s      |</pre>"
            ],
            "text/plain": [
              "| 77827        | 6.2e+09 | 97.2837     | 14m 57s      |"
            ]
          },
          "metadata": {
            "tags": []
          }
        },
        {
          "output_type": "display_data",
          "data": {
            "text/html": [
              "<pre>| 78058        | 6.2e+09 | 97.5725     | 15m 0s       |</pre>"
            ],
            "text/plain": [
              "| 78058        | 6.2e+09 | 97.5725     | 15m 0s       |"
            ]
          },
          "metadata": {
            "tags": []
          }
        },
        {
          "output_type": "display_data",
          "data": {
            "text/html": [
              "<pre>| 78300        | 6.3e+09 | 97.875      | 15m 3s       |</pre>"
            ],
            "text/plain": [
              "| 78300        | 6.3e+09 | 97.875      | 15m 3s       |"
            ]
          },
          "metadata": {
            "tags": []
          }
        },
        {
          "output_type": "display_data",
          "data": {
            "text/html": [
              "<pre>| 78522        | 6.3e+09 | 98.1525     | 15m 6s       |</pre>"
            ],
            "text/plain": [
              "| 78522        | 6.3e+09 | 98.1525     | 15m 6s       |"
            ]
          },
          "metadata": {
            "tags": []
          }
        },
        {
          "output_type": "display_data",
          "data": {
            "text/html": [
              "<pre>| 78804        | 6.3e+09 | 98.505      | 15m 9s       |</pre>"
            ],
            "text/plain": [
              "| 78804        | 6.3e+09 | 98.505      | 15m 9s       |"
            ]
          },
          "metadata": {
            "tags": []
          }
        },
        {
          "output_type": "display_data",
          "data": {
            "text/html": [
              "<pre>| 79090        | 6.3e+09 | 98.8625     | 15m 12s      |</pre>"
            ],
            "text/plain": [
              "| 79090        | 6.3e+09 | 98.8625     | 15m 12s      |"
            ]
          },
          "metadata": {
            "tags": []
          }
        },
        {
          "output_type": "display_data",
          "data": {
            "text/html": [
              "<pre>| 79392        | 6.4e+09 | 99.24       | 15m 15s      |</pre>"
            ],
            "text/plain": [
              "| 79392        | 6.4e+09 | 99.24       | 15m 15s      |"
            ]
          },
          "metadata": {
            "tags": []
          }
        },
        {
          "output_type": "display_data",
          "data": {
            "text/html": [
              "<pre>| 79630        | 6.4e+09 | 99.5375     | 15m 18s      |</pre>"
            ],
            "text/plain": [
              "| 79630        | 6.4e+09 | 99.5375     | 15m 18s      |"
            ]
          },
          "metadata": {
            "tags": []
          }
        },
        {
          "output_type": "display_data",
          "data": {
            "text/html": [
              "<pre>| 79894        | 6.4e+09 | 99.8675     | 15m 21s      |</pre>"
            ],
            "text/plain": [
              "| 79894        | 6.4e+09 | 99.8675     | 15m 21s      |"
            ]
          },
          "metadata": {
            "tags": []
          }
        },
        {
          "output_type": "display_data",
          "data": {
            "text/html": [
              "<pre>| Done         |         | 100         | 15m 22s      |</pre>"
            ],
            "text/plain": [
              "| Done         |         | 100         | 15m 22s      |"
            ]
          },
          "metadata": {
            "tags": []
          }
        },
        {
          "output_type": "display_data",
          "data": {
            "text/html": [
              "<pre>+--------------+---------+-------------+--------------+</pre>"
            ],
            "text/plain": [
              "+--------------+---------+-------------+--------------+"
            ]
          },
          "metadata": {
            "tags": []
          }
        },
        {
          "output_type": "display_data",
          "data": {
            "text/html": [
              "<pre>Preparing data set.</pre>"
            ],
            "text/plain": [
              "Preparing data set."
            ]
          },
          "metadata": {
            "tags": []
          }
        },
        {
          "output_type": "display_data",
          "data": {
            "text/html": [
              "<pre>    Data has 0 observations with 0 users and 1650 items.</pre>"
            ],
            "text/plain": [
              "    Data has 0 observations with 0 users and 1650 items."
            ]
          },
          "metadata": {
            "tags": []
          }
        },
        {
          "output_type": "display_data",
          "data": {
            "text/html": [
              "<pre>    Data prepared in: 6.08497s</pre>"
            ],
            "text/plain": [
              "    Data prepared in: 6.08497s"
            ]
          },
          "metadata": {
            "tags": []
          }
        },
        {
          "output_type": "display_data",
          "data": {
            "text/html": [
              "<pre>Loading user-provided nearest items.</pre>"
            ],
            "text/plain": [
              "Loading user-provided nearest items."
            ]
          },
          "metadata": {
            "tags": []
          }
        },
        {
          "output_type": "display_data",
          "data": {
            "text/html": [
              "<pre>Generating candidate set for working with new users.</pre>"
            ],
            "text/plain": [
              "Generating candidate set for working with new users."
            ]
          },
          "metadata": {
            "tags": []
          }
        },
        {
          "output_type": "display_data",
          "data": {
            "text/html": [
              "<pre>Finished training in 0.279148s</pre>"
            ],
            "text/plain": [
              "Finished training in 0.279148s"
            ]
          },
          "metadata": {
            "tags": []
          }
        }
      ]
    },
    {
      "cell_type": "code",
      "metadata": {
        "colab": {
          "base_uri": "https://localhost:8080/"
        },
        "id": "fNGP5xaYT2rm",
        "outputId": "3bd3471c-8a42-4ac6-fca5-c155cf3fa27f"
      },
      "source": [
        "# make the prediction\n",
        "predict = model_item_content.predict(sframe)\n",
        "error = abs((ratings-predict))\n",
        "Item_Content_MAE = sum(error) / len(error)\n",
        "print(Item_Content_MAE)"
      ],
      "execution_count": null,
      "outputs": [
        {
          "output_type": "stream",
          "text": [
            "3.52835\n"
          ],
          "name": "stdout"
        }
      ]
    },
    {
      "cell_type": "markdown",
      "metadata": {
        "id": "QM2Lwvm7vWiP"
      },
      "source": [
        "Summery"
      ]
    },
    {
      "cell_type": "code",
      "metadata": {
        "colab": {
          "base_uri": "https://localhost:8080/"
        },
        "id": "Pfgf5LdnvV_i",
        "outputId": "a40dc6ae-9869-422f-9dfd-94697a8cc649"
      },
      "source": [
        "print(\"MF MAE:\" + str(MF_MAE))\n",
        "print(\"Item to Item MAE:\" + str(Item_2_Item_MAE))\n",
        "print(\"Item Content MAE:\" + str(Item_Content_MAE))"
      ],
      "execution_count": null,
      "outputs": [
        {
          "output_type": "stream",
          "text": [
            "MF MAE:0.4413899055736707\n",
            "Item to Item MAE:3.4766969639049465\n",
            "Item Content MAE:3.52835\n"
          ],
          "name": "stdout"
        }
      ]
    }
  ]
}