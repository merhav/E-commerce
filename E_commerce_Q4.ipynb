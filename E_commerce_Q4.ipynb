{
  "nbformat": 4,
  "nbformat_minor": 0,
  "metadata": {
    "colab": {
      "name": "E-commerce-Q4.ipynb",
      "provenance": [],
      "collapsed_sections": []
    },
    "kernelspec": {
      "name": "python3",
      "display_name": "Python 3"
    },
    "language_info": {
      "name": "python"
    }
  },
  "cells": [
    {
      "cell_type": "markdown",
      "metadata": {
        "id": "iT0u09ilR8KJ"
      },
      "source": [
        "# Question 4"
      ]
    },
    {
      "cell_type": "code",
      "metadata": {
        "colab": {
          "base_uri": "https://localhost:8080/"
        },
        "id": "vO7rulexLUHu",
        "outputId": "013df3c3-fd12-495d-9bdd-4ad2a90f0c0d"
      },
      "source": [
        "from google.colab import drive\n",
        "drive.mount('/content/drive')"
      ],
      "execution_count": null,
      "outputs": [
        {
          "output_type": "stream",
          "text": [
            "Drive already mounted at /content/drive; to attempt to forcibly remount, call drive.mount(\"/content/drive\", force_remount=True).\n"
          ],
          "name": "stdout"
        }
      ]
    },
    {
      "cell_type": "code",
      "metadata": {
        "id": "AkMVVUUKKxG6"
      },
      "source": [
        "import pandas as pd\n",
        "\n",
        "import os\n",
        "import tensorflow as T\n",
        "import keras\n",
        "from keras import backend as K\n",
        "from keras import initializers\n",
        "from keras.initializers import RandomNormal\n",
        "from keras.models import Sequential, Model, load_model, save_model\n",
        "from keras.layers.core import Dense, Lambda, Activation\n",
        "from keras.layers import Embedding, Input, Dense, merge, Reshape,  Flatten, Dropout\n",
        "from keras.optimizers import Adagrad, Adam, SGD, RMSprop, Adamax\n",
        "from keras.regularizers import l2\n",
        "from keras.layers import Multiply, Concatenate\n",
        "from keras.callbacks import Callback, EarlyStopping, ModelCheckpoint\n",
        "from time import time\n",
        "import multiprocessing as mp\n",
        "import sys\n",
        "import math\n",
        "import argparse\n",
        "import matplotlib.pyplot as plt\n",
        "\n",
        "from tensorflow import keras\n",
        "from tensorflow.keras import layers\n",
        "from tensorflow.keras.layers import Input,Embedding,Dense,Reshape,Flatten,Dropout\n"
      ],
      "execution_count": null,
      "outputs": []
    },
    {
      "cell_type": "code",
      "metadata": {
        "id": "21lWBmMYdzip"
      },
      "source": [
        "# function for loading the data\n",
        "def load_data(df_data):\n",
        "  max_user_id = df_data['User id'].drop_duplicates().max()\n",
        "  max_item_id = df_data['Item id'].drop_duplicates().max()\n",
        "  df_data['user_emd_id'] = df_data['User id'] - 1\n",
        "  df_data['item_emd_id'] = df_data['Item id'] - 1\n",
        "  # print(str(len(df_data))+' ratings loaded')\n",
        "  return max_user_id, max_item_id"
      ],
      "execution_count": null,
      "outputs": []
    },
    {
      "cell_type": "markdown",
      "metadata": {
        "id": "ubaQ3XN2ZxBi"
      },
      "source": [
        "load the data"
      ]
    },
    {
      "cell_type": "code",
      "metadata": {
        "id": "QDEOHktIQ6Wf"
      },
      "source": [
        "ratings = pd.read_csv('/content/drive/Shareddrives/E-Commerce Project/ml-100k/ml-100k/u.data', \n",
        "                    sep='\\t', \n",
        "                    engine='python', \n",
        "                    encoding='latin-1',\n",
        "                    names=['User id', 'Item id', 'Rating', 'Timestamp'])\n",
        "df_ratings_train = pd.read_csv('/content/drive/Shareddrives/E-Commerce Project/ml-100k/ml-100k/u1.base', delimiter='\\t', names=['User id', 'Item id', 'Rating', 'Timestamp'])\n",
        "df_ratings_test = pd.read_csv('/content/drive/Shareddrives/E-Commerce Project/ml-100k/ml-100k/u1.test', delimiter='\\t', names=['User id', 'Item id', 'Rating', 'Timestamp'])\n",
        "# load the data\n",
        "max_userid, max_movieid = load_data(ratings)\n",
        "# load the train\n",
        "num_of_users_train, num_of_items_train = load_data(df_ratings_train)\n",
        "# load the test\n",
        "num_of_users_test, num_of_items_test = load_data(df_ratings_test)"
      ],
      "execution_count": null,
      "outputs": []
    },
    {
      "cell_type": "markdown",
      "metadata": {
        "id": "UZ0tsgEwZ8Ce"
      },
      "source": [
        "Define neural collaborative filtering model"
      ]
    },
    {
      "cell_type": "code",
      "metadata": {
        "id": "V_dzooKBK5z2"
      },
      "source": [
        "def get_ncf_model(num_users, num_items, latent_dim,hidden_dim,do):\n",
        "    # Input variables\n",
        "    user_input = Input(shape=(1,), dtype='int32', name = 'user_input')\n",
        "    item_input = Input(shape=(1,), dtype='int32', name = 'item_input')\n",
        "\n",
        "    MF_Embedding_User = Embedding(input_dim = num_users, output_dim = latent_dim, name = 'user_embedding', input_length=1)\n",
        "    MF_Embedding_Item = Embedding(input_dim = num_items, output_dim = latent_dim, name = 'item_embedding', input_length=1)   \n",
        "    \n",
        "    # Crucial to flatten an embedding vector!\n",
        "    user_latent = Flatten()(MF_Embedding_User(user_input))\n",
        "    item_latent = Flatten()(MF_Embedding_Item(item_input))\n",
        "    \n",
        "    # Element-wise product of user and item embeddings\n",
        "    conc = Concatenate()([user_latent, item_latent])\n",
        "    drop = Dropout(0.5)(conc)\n",
        "    hid1 = Dense(hidden_dim, activation='relu')(conc)\n",
        "    drop2  = Dropout(do)(hid1)\n",
        "    prediction = Dense(1, activation='relu', kernel_initializer='lecun_uniform', name = 'prediction')(drop2)\n",
        "    \n",
        "    \n",
        "    model = Model(inputs=[user_input, item_input], outputs=prediction)\n",
        "    print(\"ncf model\")\n",
        "    model.summary()\n",
        "\n",
        "    return model"
      ],
      "execution_count": null,
      "outputs": []
    },
    {
      "cell_type": "markdown",
      "metadata": {
        "id": "QS25dFioaBrQ"
      },
      "source": [
        "Prepare inputs to model"
      ]
    },
    {
      "cell_type": "code",
      "metadata": {
        "id": "B-l6MMWIK8Gf"
      },
      "source": [
        "Users = df_ratings_train['user_emd_id'].values\n",
        "Items = df_ratings_train['item_emd_id'].values\n",
        "Ratings = df_ratings_train['Rating'].values"
      ],
      "execution_count": null,
      "outputs": []
    },
    {
      "cell_type": "markdown",
      "metadata": {
        "id": "q9-afMUB299H"
      },
      "source": [
        "## Train 1 "
      ]
    },
    {
      "cell_type": "markdown",
      "metadata": {
        "id": "zJKdVyesaHLU"
      },
      "source": [
        "Compile model"
      ]
    },
    {
      "cell_type": "code",
      "metadata": {
        "colab": {
          "base_uri": "https://localhost:8080/"
        },
        "id": "RE_4beOvK_W8",
        "outputId": "493dc401-7e17-4fa1-a064-dc0595b87dd0"
      },
      "source": [
        "K_LATENT = 20\n",
        "hidden_dim = 1\n",
        "do = 0.5\n",
        "\n",
        "NCF_Model = get_ncf_model(max_userid, max_movieid, K_LATENT, hidden_dim, do)\n",
        "NCF_Model.compile(loss='mse', optimizer=Adamax(), metrics=['mae'])"
      ],
      "execution_count": null,
      "outputs": [
        {
          "output_type": "stream",
          "text": [
            "ncf model\n",
            "Model: \"model\"\n",
            "__________________________________________________________________________________________________\n",
            "Layer (type)                    Output Shape         Param #     Connected to                     \n",
            "==================================================================================================\n",
            "user_input (InputLayer)         [(None, 1)]          0                                            \n",
            "__________________________________________________________________________________________________\n",
            "item_input (InputLayer)         [(None, 1)]          0                                            \n",
            "__________________________________________________________________________________________________\n",
            "user_embedding (Embedding)      (None, 1, 20)        18860       user_input[0][0]                 \n",
            "__________________________________________________________________________________________________\n",
            "item_embedding (Embedding)      (None, 1, 20)        33640       item_input[0][0]                 \n",
            "__________________________________________________________________________________________________\n",
            "flatten (Flatten)               (None, 20)           0           user_embedding[0][0]             \n",
            "__________________________________________________________________________________________________\n",
            "flatten_1 (Flatten)             (None, 20)           0           item_embedding[0][0]             \n",
            "__________________________________________________________________________________________________\n",
            "concatenate (Concatenate)       (None, 40)           0           flatten[0][0]                    \n",
            "                                                                 flatten_1[0][0]                  \n",
            "__________________________________________________________________________________________________\n",
            "dense (Dense)                   (None, 1)            41          concatenate[0][0]                \n",
            "__________________________________________________________________________________________________\n",
            "dropout_1 (Dropout)             (None, 1)            0           dense[0][0]                      \n",
            "__________________________________________________________________________________________________\n",
            "prediction (Dense)              (None, 1)            2           dropout_1[0][0]                  \n",
            "==================================================================================================\n",
            "Total params: 52,543\n",
            "Trainable params: 52,543\n",
            "Non-trainable params: 0\n",
            "__________________________________________________________________________________________________\n"
          ],
          "name": "stdout"
        }
      ]
    },
    {
      "cell_type": "markdown",
      "metadata": {
        "id": "X-S-xSwhaKns"
      },
      "source": [
        "Train model"
      ]
    },
    {
      "cell_type": "code",
      "metadata": {
        "colab": {
          "base_uri": "https://localhost:8080/"
        },
        "id": "WWTtkrs7LBs4",
        "outputId": "be458a43-7614-4a8d-ea3c-e8b67d36b556"
      },
      "source": [
        "callbacks = [EarlyStopping('val_loss', patience=5), \n",
        "             ModelCheckpoint('/content/drive/Shareddrives/E-Commerce Project/ml-100k/ml-100k/u_emb_weights', save_best_only=True)]\n",
        "history = NCF_Model.fit([Users, Items], Ratings, epochs=100, validation_split=.1, verbose=1, callbacks=callbacks, batch_size = 32)"
      ],
      "execution_count": null,
      "outputs": [
        {
          "output_type": "stream",
          "text": [
            "Epoch 1/100\n",
            "2250/2250 [==============================] - 4s 1ms/step - loss: 8.9320 - mae: 2.6709 - val_loss: 2.1976 - val_mae: 1.2875\n",
            "INFO:tensorflow:Assets written to: /content/drive/Shareddrives/E-Commerce Project/ml-100k/ml-100k/u_emb_weights/assets\n",
            "Epoch 2/100\n",
            "2250/2250 [==============================] - 3s 1ms/step - loss: 2.4688 - mae: 1.2753 - val_loss: 1.2552 - val_mae: 0.9243\n",
            "INFO:tensorflow:Assets written to: /content/drive/Shareddrives/E-Commerce Project/ml-100k/ml-100k/u_emb_weights/assets\n",
            "Epoch 3/100\n",
            "2250/2250 [==============================] - 3s 1ms/step - loss: 1.3349 - mae: 0.9364 - val_loss: 1.0854 - val_mae: 0.8762\n",
            "INFO:tensorflow:Assets written to: /content/drive/Shareddrives/E-Commerce Project/ml-100k/ml-100k/u_emb_weights/assets\n",
            "Epoch 4/100\n",
            "2250/2250 [==============================] - 3s 1ms/step - loss: 1.1740 - mae: 0.8885 - val_loss: 1.0804 - val_mae: 0.8728\n",
            "INFO:tensorflow:Assets written to: /content/drive/Shareddrives/E-Commerce Project/ml-100k/ml-100k/u_emb_weights/assets\n",
            "Epoch 5/100\n",
            "2250/2250 [==============================] - 3s 1ms/step - loss: 1.1695 - mae: 0.8873 - val_loss: 1.0708 - val_mae: 0.8666\n",
            "INFO:tensorflow:Assets written to: /content/drive/Shareddrives/E-Commerce Project/ml-100k/ml-100k/u_emb_weights/assets\n",
            "Epoch 6/100\n",
            "2250/2250 [==============================] - 3s 1ms/step - loss: 1.1619 - mae: 0.8817 - val_loss: 1.0705 - val_mae: 0.8665\n",
            "INFO:tensorflow:Assets written to: /content/drive/Shareddrives/E-Commerce Project/ml-100k/ml-100k/u_emb_weights/assets\n",
            "Epoch 7/100\n",
            "2250/2250 [==============================] - 3s 1ms/step - loss: 1.1528 - mae: 0.8799 - val_loss: 1.0682 - val_mae: 0.8653\n",
            "INFO:tensorflow:Assets written to: /content/drive/Shareddrives/E-Commerce Project/ml-100k/ml-100k/u_emb_weights/assets\n",
            "Epoch 8/100\n",
            "2250/2250 [==============================] - 3s 1ms/step - loss: 1.1589 - mae: 0.8812 - val_loss: 1.0671 - val_mae: 0.8646\n",
            "INFO:tensorflow:Assets written to: /content/drive/Shareddrives/E-Commerce Project/ml-100k/ml-100k/u_emb_weights/assets\n",
            "Epoch 9/100\n",
            "2250/2250 [==============================] - 3s 1ms/step - loss: 1.1548 - mae: 0.8803 - val_loss: 1.0726 - val_mae: 0.8679\n",
            "Epoch 10/100\n",
            "2250/2250 [==============================] - 3s 1ms/step - loss: 1.1562 - mae: 0.8805 - val_loss: 1.0675 - val_mae: 0.8647\n",
            "Epoch 11/100\n",
            "2250/2250 [==============================] - 3s 1ms/step - loss: 1.1460 - mae: 0.8768 - val_loss: 1.0684 - val_mae: 0.8654\n",
            "Epoch 12/100\n",
            "2250/2250 [==============================] - 3s 1ms/step - loss: 1.1581 - mae: 0.8813 - val_loss: 1.0689 - val_mae: 0.8661\n",
            "Epoch 13/100\n",
            "2250/2250 [==============================] - 3s 1ms/step - loss: 1.1451 - mae: 0.8763 - val_loss: 1.0670 - val_mae: 0.8644\n",
            "INFO:tensorflow:Assets written to: /content/drive/Shareddrives/E-Commerce Project/ml-100k/ml-100k/u_emb_weights/assets\n",
            "Epoch 14/100\n",
            "2250/2250 [==============================] - 3s 1ms/step - loss: 1.1415 - mae: 0.8729 - val_loss: 1.0692 - val_mae: 0.8659\n",
            "Epoch 15/100\n",
            "2250/2250 [==============================] - 3s 1ms/step - loss: 1.1420 - mae: 0.8726 - val_loss: 1.0725 - val_mae: 0.8680\n",
            "Epoch 16/100\n",
            "2250/2250 [==============================] - 3s 1ms/step - loss: 1.1487 - mae: 0.8768 - val_loss: 1.0712 - val_mae: 0.8673\n",
            "Epoch 17/100\n",
            "2250/2250 [==============================] - 3s 1ms/step - loss: 1.1496 - mae: 0.8779 - val_loss: 1.0723 - val_mae: 0.8678\n",
            "Epoch 18/100\n",
            "2250/2250 [==============================] - 3s 1ms/step - loss: 1.1420 - mae: 0.8726 - val_loss: 1.0688 - val_mae: 0.8657\n"
          ],
          "name": "stdout"
        }
      ]
    },
    {
      "cell_type": "markdown",
      "metadata": {
        "id": "SEYuuFKXaLar"
      },
      "source": [
        "calculate the MAE"
      ]
    },
    {
      "cell_type": "code",
      "metadata": {
        "colab": {
          "base_uri": "https://localhost:8080/"
        },
        "id": "m4wFTuiFRd59",
        "outputId": "44986a47-f20e-44b5-9e63-56d96f2b59cf"
      },
      "source": [
        "def calculate_mae():\n",
        "  test_users = df_ratings_test['user_emd_id'].values\n",
        "  test_items = df_ratings_test['item_emd_id'].values\n",
        "  test_rating = df_ratings_test['Rating'].values\n",
        "  prediction = NCF_Model.predict([test_users,test_items])\n",
        "  df_predict = pd.DataFrame(data=prediction, columns=['prediction'])\n",
        "  df_predict['rating'] = test_rating\n",
        "  df_predict['diffrence'] = abs(df_predict['rating']- df_predict['prediction'])\n",
        "\n",
        "  print(df_predict)\n",
        "\n",
        "  print('MAE:' + str(sum(df_predict['diffrence'])/len(df_predict['diffrence'])))\n",
        "\n",
        "calculate_mae()"
      ],
      "execution_count": null,
      "outputs": [
        {
          "output_type": "stream",
          "text": [
            "       prediction  rating  diffrence\n",
            "0        3.595116       5   1.404884\n",
            "1        3.661030       3   0.661030\n",
            "2        3.963953       5   1.036047\n",
            "3        3.660741       5   1.339259\n",
            "4        3.469081       3   0.469081\n",
            "...           ...     ...        ...\n",
            "19995    3.677051       4   0.322949\n",
            "19996    3.573693       4   0.426307\n",
            "19997    3.346525       3   0.346525\n",
            "19998    3.431136       3   0.431136\n",
            "19999    3.428607       5   1.571393\n",
            "\n",
            "[20000 rows x 3 columns]\n",
            "MAE:0.8811644292831421\n"
          ],
          "name": "stdout"
        }
      ]
    },
    {
      "cell_type": "markdown",
      "metadata": {
        "id": "NojawuQPVMPR"
      },
      "source": [
        "## train 2 - more hidden layers - 10 "
      ]
    },
    {
      "cell_type": "markdown",
      "metadata": {
        "id": "2u3wleL7aSX8"
      },
      "source": [
        "compile model"
      ]
    },
    {
      "cell_type": "code",
      "metadata": {
        "colab": {
          "base_uri": "https://localhost:8080/"
        },
        "id": "WfDbXl3ZVOZf",
        "outputId": "fb00f629-c63a-4a6c-82e2-256b2a032f37"
      },
      "source": [
        "K_LATENT = 20\n",
        "hidden_dim = 10\n",
        "do = 0.5\n",
        "\n",
        "NCF_Model = get_ncf_model(max_userid, max_movieid, K_LATENT, hidden_dim, do)\n",
        "NCF_Model.compile(loss='mse', optimizer=Adamax(), metrics=['mae'])"
      ],
      "execution_count": null,
      "outputs": [
        {
          "output_type": "stream",
          "text": [
            "ncf model\n",
            "Model: \"model_1\"\n",
            "__________________________________________________________________________________________________\n",
            "Layer (type)                    Output Shape         Param #     Connected to                     \n",
            "==================================================================================================\n",
            "user_input (InputLayer)         [(None, 1)]          0                                            \n",
            "__________________________________________________________________________________________________\n",
            "item_input (InputLayer)         [(None, 1)]          0                                            \n",
            "__________________________________________________________________________________________________\n",
            "user_embedding (Embedding)      (None, 1, 20)        18860       user_input[0][0]                 \n",
            "__________________________________________________________________________________________________\n",
            "item_embedding (Embedding)      (None, 1, 20)        33640       item_input[0][0]                 \n",
            "__________________________________________________________________________________________________\n",
            "flatten_2 (Flatten)             (None, 20)           0           user_embedding[0][0]             \n",
            "__________________________________________________________________________________________________\n",
            "flatten_3 (Flatten)             (None, 20)           0           item_embedding[0][0]             \n",
            "__________________________________________________________________________________________________\n",
            "concatenate_1 (Concatenate)     (None, 40)           0           flatten_2[0][0]                  \n",
            "                                                                 flatten_3[0][0]                  \n",
            "__________________________________________________________________________________________________\n",
            "dense_1 (Dense)                 (None, 10)           410         concatenate_1[0][0]              \n",
            "__________________________________________________________________________________________________\n",
            "dropout_3 (Dropout)             (None, 10)           0           dense_1[0][0]                    \n",
            "__________________________________________________________________________________________________\n",
            "prediction (Dense)              (None, 1)            11          dropout_3[0][0]                  \n",
            "==================================================================================================\n",
            "Total params: 52,921\n",
            "Trainable params: 52,921\n",
            "Non-trainable params: 0\n",
            "__________________________________________________________________________________________________\n"
          ],
          "name": "stdout"
        }
      ]
    },
    {
      "cell_type": "markdown",
      "metadata": {
        "id": "E-rDI25qakS9"
      },
      "source": [
        "train model"
      ]
    },
    {
      "cell_type": "code",
      "metadata": {
        "colab": {
          "base_uri": "https://localhost:8080/"
        },
        "id": "_aTh8psNsKhn",
        "outputId": "93b49cc1-084e-46e6-b449-ff7b4871a52f"
      },
      "source": [
        "callbacks = [EarlyStopping('val_loss', patience=5), \n",
        "             ModelCheckpoint('/content/drive/Shareddrives/E-Commerce Project/ml-100k/ml-100k/u_emb_weights_2', save_best_only=True)]\n",
        "history = NCF_Model.fit([Users, Items], Ratings, epochs=100, validation_split=.1, verbose=1, callbacks=callbacks, batch_size = 32)"
      ],
      "execution_count": null,
      "outputs": [
        {
          "output_type": "stream",
          "text": [
            "Epoch 1/100\n",
            "2250/2250 [==============================] - 4s 1ms/step - loss: 7.7280 - mae: 2.4203 - val_loss: 1.4190 - val_mae: 0.9900\n",
            "INFO:tensorflow:Assets written to: /content/drive/Shareddrives/E-Commerce Project/ml-100k/ml-100k/u_emb_weights_2/assets\n",
            "Epoch 2/100\n",
            "2250/2250 [==============================] - 3s 1ms/step - loss: 1.8604 - mae: 1.1052 - val_loss: 1.2273 - val_mae: 0.9164\n",
            "INFO:tensorflow:Assets written to: /content/drive/Shareddrives/E-Commerce Project/ml-100k/ml-100k/u_emb_weights_2/assets\n",
            "Epoch 3/100\n",
            "2250/2250 [==============================] - 3s 1ms/step - loss: 1.3582 - mae: 0.9440 - val_loss: 1.1150 - val_mae: 0.8712\n",
            "INFO:tensorflow:Assets written to: /content/drive/Shareddrives/E-Commerce Project/ml-100k/ml-100k/u_emb_weights_2/assets\n",
            "Epoch 4/100\n",
            "2250/2250 [==============================] - 3s 1ms/step - loss: 1.1278 - mae: 0.8549 - val_loss: 1.0627 - val_mae: 0.8449\n",
            "INFO:tensorflow:Assets written to: /content/drive/Shareddrives/E-Commerce Project/ml-100k/ml-100k/u_emb_weights_2/assets\n",
            "Epoch 5/100\n",
            "2250/2250 [==============================] - 3s 1ms/step - loss: 1.0521 - mae: 0.8183 - val_loss: 1.0479 - val_mae: 0.8339\n",
            "INFO:tensorflow:Assets written to: /content/drive/Shareddrives/E-Commerce Project/ml-100k/ml-100k/u_emb_weights_2/assets\n",
            "Epoch 6/100\n",
            "2250/2250 [==============================] - 3s 1ms/step - loss: 1.0141 - mae: 0.8030 - val_loss: 1.0294 - val_mae: 0.8234\n",
            "INFO:tensorflow:Assets written to: /content/drive/Shareddrives/E-Commerce Project/ml-100k/ml-100k/u_emb_weights_2/assets\n",
            "Epoch 7/100\n",
            "2250/2250 [==============================] - 3s 1ms/step - loss: 0.9764 - mae: 0.7883 - val_loss: 1.0221 - val_mae: 0.8197\n",
            "INFO:tensorflow:Assets written to: /content/drive/Shareddrives/E-Commerce Project/ml-100k/ml-100k/u_emb_weights_2/assets\n",
            "Epoch 8/100\n",
            "2250/2250 [==============================] - 3s 1ms/step - loss: 0.9540 - mae: 0.7789 - val_loss: 1.0156 - val_mae: 0.8170\n",
            "INFO:tensorflow:Assets written to: /content/drive/Shareddrives/E-Commerce Project/ml-100k/ml-100k/u_emb_weights_2/assets\n",
            "Epoch 9/100\n",
            "2250/2250 [==============================] - 3s 1ms/step - loss: 0.9569 - mae: 0.7810 - val_loss: 1.0081 - val_mae: 0.8135\n",
            "INFO:tensorflow:Assets written to: /content/drive/Shareddrives/E-Commerce Project/ml-100k/ml-100k/u_emb_weights_2/assets\n",
            "Epoch 10/100\n",
            "2250/2250 [==============================] - 3s 1ms/step - loss: 0.9496 - mae: 0.7767 - val_loss: 1.0153 - val_mae: 0.8192\n",
            "Epoch 11/100\n",
            "2250/2250 [==============================] - 3s 1ms/step - loss: 0.9528 - mae: 0.7816 - val_loss: 1.0033 - val_mae: 0.8128\n",
            "INFO:tensorflow:Assets written to: /content/drive/Shareddrives/E-Commerce Project/ml-100k/ml-100k/u_emb_weights_2/assets\n",
            "Epoch 12/100\n",
            "2250/2250 [==============================] - 3s 1ms/step - loss: 0.9396 - mae: 0.7746 - val_loss: 1.0059 - val_mae: 0.8149\n",
            "Epoch 13/100\n",
            "2250/2250 [==============================] - 3s 1ms/step - loss: 0.9345 - mae: 0.7726 - val_loss: 1.0050 - val_mae: 0.8148\n",
            "Epoch 14/100\n",
            "2250/2250 [==============================] - 3s 1ms/step - loss: 0.9425 - mae: 0.7763 - val_loss: 1.0006 - val_mae: 0.8133\n",
            "INFO:tensorflow:Assets written to: /content/drive/Shareddrives/E-Commerce Project/ml-100k/ml-100k/u_emb_weights_2/assets\n",
            "Epoch 15/100\n",
            "2250/2250 [==============================] - 3s 1ms/step - loss: 0.9344 - mae: 0.7731 - val_loss: 1.0036 - val_mae: 0.8154\n",
            "Epoch 16/100\n",
            "2250/2250 [==============================] - 3s 1ms/step - loss: 0.9203 - mae: 0.7658 - val_loss: 1.0041 - val_mae: 0.8149\n",
            "Epoch 17/100\n",
            "2250/2250 [==============================] - 3s 1ms/step - loss: 0.9190 - mae: 0.7662 - val_loss: 0.9977 - val_mae: 0.8104\n",
            "INFO:tensorflow:Assets written to: /content/drive/Shareddrives/E-Commerce Project/ml-100k/ml-100k/u_emb_weights_2/assets\n",
            "Epoch 18/100\n",
            "2250/2250 [==============================] - 3s 1ms/step - loss: 0.9135 - mae: 0.7634 - val_loss: 0.9953 - val_mae: 0.8094\n",
            "INFO:tensorflow:Assets written to: /content/drive/Shareddrives/E-Commerce Project/ml-100k/ml-100k/u_emb_weights_2/assets\n",
            "Epoch 19/100\n",
            "2250/2250 [==============================] - 3s 1ms/step - loss: 0.9201 - mae: 0.7663 - val_loss: 1.0015 - val_mae: 0.8139\n",
            "Epoch 20/100\n",
            "2250/2250 [==============================] - 3s 1ms/step - loss: 0.9107 - mae: 0.7652 - val_loss: 0.9939 - val_mae: 0.8089\n",
            "INFO:tensorflow:Assets written to: /content/drive/Shareddrives/E-Commerce Project/ml-100k/ml-100k/u_emb_weights_2/assets\n",
            "Epoch 21/100\n",
            "2250/2250 [==============================] - 3s 1ms/step - loss: 0.9077 - mae: 0.7613 - val_loss: 0.9975 - val_mae: 0.8121\n",
            "Epoch 22/100\n",
            "2250/2250 [==============================] - 3s 1ms/step - loss: 0.9019 - mae: 0.7580 - val_loss: 1.0017 - val_mae: 0.8136\n",
            "Epoch 23/100\n",
            "2250/2250 [==============================] - 3s 1ms/step - loss: 0.9036 - mae: 0.7609 - val_loss: 1.0064 - val_mae: 0.8171\n",
            "Epoch 24/100\n",
            "2250/2250 [==============================] - 3s 1ms/step - loss: 0.9072 - mae: 0.7617 - val_loss: 0.9967 - val_mae: 0.8103\n",
            "Epoch 25/100\n",
            "2250/2250 [==============================] - 3s 1ms/step - loss: 0.8950 - mae: 0.7557 - val_loss: 1.0056 - val_mae: 0.8148\n"
          ],
          "name": "stdout"
        }
      ]
    },
    {
      "cell_type": "markdown",
      "metadata": {
        "id": "nwWmfg9uamFM"
      },
      "source": [
        "calculate MAE"
      ]
    },
    {
      "cell_type": "code",
      "metadata": {
        "colab": {
          "base_uri": "https://localhost:8080/"
        },
        "id": "nVgYt-DGsSiJ",
        "outputId": "0a5d5a60-5694-448f-8e41-436e631dda94"
      },
      "source": [
        "calculate_mae()"
      ],
      "execution_count": null,
      "outputs": [
        {
          "output_type": "stream",
          "text": [
            "       prediction  rating  diffrence\n",
            "0        3.753603       5   1.246397\n",
            "1        4.050681       3   1.050681\n",
            "2        4.472354       5   0.527646\n",
            "3        4.061982       5   0.938018\n",
            "4        3.232677       3   0.232677\n",
            "...           ...     ...        ...\n",
            "19995    3.950520       4   0.049480\n",
            "19996    3.720449       4   0.279551\n",
            "19997    3.205225       3   0.205225\n",
            "19998    3.603199       3   0.603199\n",
            "19999    3.535588       5   1.464412\n",
            "\n",
            "[20000 rows x 3 columns]\n",
            "MAE:0.7534351791203022\n"
          ],
          "name": "stdout"
        }
      ]
    },
    {
      "cell_type": "markdown",
      "metadata": {
        "id": "NBjTmJlasQnq"
      },
      "source": [
        "## train 3 - using another optimizer - SGD"
      ]
    },
    {
      "cell_type": "markdown",
      "metadata": {
        "id": "vckYg9sdaz8g"
      },
      "source": [
        "compile model"
      ]
    },
    {
      "cell_type": "code",
      "metadata": {
        "colab": {
          "base_uri": "https://localhost:8080/"
        },
        "id": "VGTDmUBOsQIE",
        "outputId": "b72c1cdc-fec0-47db-ed42-491826492d4d"
      },
      "source": [
        "K_LATENT = 20\n",
        "hidden_dim = 20\n",
        "do = 0.5\n",
        "\n",
        "NCF_Model = get_ncf_model(max_userid, max_movieid, K_LATENT, hidden_dim, do)\n",
        "NCF_Model.compile(loss='mse', optimizer=SGD(), metrics=['mae'])"
      ],
      "execution_count": null,
      "outputs": [
        {
          "output_type": "stream",
          "text": [
            "ncf model\n",
            "Model: \"model_2\"\n",
            "__________________________________________________________________________________________________\n",
            "Layer (type)                    Output Shape         Param #     Connected to                     \n",
            "==================================================================================================\n",
            "user_input (InputLayer)         [(None, 1)]          0                                            \n",
            "__________________________________________________________________________________________________\n",
            "item_input (InputLayer)         [(None, 1)]          0                                            \n",
            "__________________________________________________________________________________________________\n",
            "user_embedding (Embedding)      (None, 1, 20)        18860       user_input[0][0]                 \n",
            "__________________________________________________________________________________________________\n",
            "item_embedding (Embedding)      (None, 1, 20)        33640       item_input[0][0]                 \n",
            "__________________________________________________________________________________________________\n",
            "flatten_4 (Flatten)             (None, 20)           0           user_embedding[0][0]             \n",
            "__________________________________________________________________________________________________\n",
            "flatten_5 (Flatten)             (None, 20)           0           item_embedding[0][0]             \n",
            "__________________________________________________________________________________________________\n",
            "concatenate_2 (Concatenate)     (None, 40)           0           flatten_4[0][0]                  \n",
            "                                                                 flatten_5[0][0]                  \n",
            "__________________________________________________________________________________________________\n",
            "dense_2 (Dense)                 (None, 20)           820         concatenate_2[0][0]              \n",
            "__________________________________________________________________________________________________\n",
            "dropout_5 (Dropout)             (None, 20)           0           dense_2[0][0]                    \n",
            "__________________________________________________________________________________________________\n",
            "prediction (Dense)              (None, 1)            21          dropout_5[0][0]                  \n",
            "==================================================================================================\n",
            "Total params: 53,341\n",
            "Trainable params: 53,341\n",
            "Non-trainable params: 0\n",
            "__________________________________________________________________________________________________\n"
          ],
          "name": "stdout"
        }
      ]
    },
    {
      "cell_type": "markdown",
      "metadata": {
        "id": "q5qMoQxia13g"
      },
      "source": [
        "train model"
      ]
    },
    {
      "cell_type": "code",
      "metadata": {
        "colab": {
          "base_uri": "https://localhost:8080/"
        },
        "id": "BZsLFCSaty4s",
        "outputId": "b2627893-9410-43b8-c8a3-c9192a47df77"
      },
      "source": [
        "callbacks = [EarlyStopping('val_loss', patience=5), \n",
        "             ModelCheckpoint('/content/drive/Shareddrives/E-Commerce Project/ml-100k/ml-100k/u_emb_weights_3', save_best_only=True)]\n",
        "history = NCF_Model.fit([Users, Items], Ratings, epochs=100, validation_split=.1, verbose=1, callbacks=callbacks, batch_size = 32)"
      ],
      "execution_count": null,
      "outputs": [
        {
          "output_type": "stream",
          "text": [
            "Epoch 1/100\n",
            "2250/2250 [==============================] - 3s 1ms/step - loss: 1.8202 - mae: 1.0697 - val_loss: 1.1027 - val_mae: 0.8771\n",
            "INFO:tensorflow:Assets written to: /content/drive/Shareddrives/E-Commerce Project/ml-100k/ml-100k/u_emb_weights_3/assets\n",
            "Epoch 2/100\n",
            "2250/2250 [==============================] - 3s 1ms/step - loss: 1.1300 - mae: 0.8724 - val_loss: 1.0220 - val_mae: 0.8192\n",
            "INFO:tensorflow:Assets written to: /content/drive/Shareddrives/E-Commerce Project/ml-100k/ml-100k/u_emb_weights_3/assets\n",
            "Epoch 3/100\n",
            "2250/2250 [==============================] - 3s 1ms/step - loss: 1.0017 - mae: 0.8007 - val_loss: 1.0075 - val_mae: 0.8064\n",
            "INFO:tensorflow:Assets written to: /content/drive/Shareddrives/E-Commerce Project/ml-100k/ml-100k/u_emb_weights_3/assets\n",
            "Epoch 4/100\n",
            "2250/2250 [==============================] - 3s 1ms/step - loss: 0.9561 - mae: 0.7776 - val_loss: 0.9994 - val_mae: 0.8010\n",
            "INFO:tensorflow:Assets written to: /content/drive/Shareddrives/E-Commerce Project/ml-100k/ml-100k/u_emb_weights_3/assets\n",
            "Epoch 5/100\n",
            "2250/2250 [==============================] - 3s 1ms/step - loss: 0.9319 - mae: 0.7678 - val_loss: 0.9956 - val_mae: 0.8023\n",
            "INFO:tensorflow:Assets written to: /content/drive/Shareddrives/E-Commerce Project/ml-100k/ml-100k/u_emb_weights_3/assets\n",
            "Epoch 6/100\n",
            "2250/2250 [==============================] - 3s 1ms/step - loss: 0.9158 - mae: 0.7615 - val_loss: 0.9920 - val_mae: 0.8001\n",
            "INFO:tensorflow:Assets written to: /content/drive/Shareddrives/E-Commerce Project/ml-100k/ml-100k/u_emb_weights_3/assets\n",
            "Epoch 7/100\n",
            "2250/2250 [==============================] - 3s 1ms/step - loss: 0.9155 - mae: 0.7622 - val_loss: 0.9910 - val_mae: 0.7990\n",
            "INFO:tensorflow:Assets written to: /content/drive/Shareddrives/E-Commerce Project/ml-100k/ml-100k/u_emb_weights_3/assets\n",
            "Epoch 8/100\n",
            "2250/2250 [==============================] - 3s 1ms/step - loss: 0.9091 - mae: 0.7603 - val_loss: 0.9879 - val_mae: 0.7961\n",
            "INFO:tensorflow:Assets written to: /content/drive/Shareddrives/E-Commerce Project/ml-100k/ml-100k/u_emb_weights_3/assets\n",
            "Epoch 9/100\n",
            "2250/2250 [==============================] - 3s 1ms/step - loss: 0.9031 - mae: 0.7562 - val_loss: 0.9873 - val_mae: 0.7963\n",
            "INFO:tensorflow:Assets written to: /content/drive/Shareddrives/E-Commerce Project/ml-100k/ml-100k/u_emb_weights_3/assets\n",
            "Epoch 10/100\n",
            "2250/2250 [==============================] - 3s 1ms/step - loss: 0.8926 - mae: 0.7513 - val_loss: 0.9907 - val_mae: 0.7945\n",
            "Epoch 11/100\n",
            "2250/2250 [==============================] - 3s 1ms/step - loss: 0.8965 - mae: 0.7538 - val_loss: 0.9891 - val_mae: 0.8015\n",
            "Epoch 12/100\n",
            "2250/2250 [==============================] - 3s 1ms/step - loss: 0.8892 - mae: 0.7502 - val_loss: 0.9882 - val_mae: 0.7965\n",
            "Epoch 13/100\n",
            "2250/2250 [==============================] - 3s 1ms/step - loss: 0.8885 - mae: 0.7502 - val_loss: 0.9897 - val_mae: 0.8025\n",
            "Epoch 14/100\n",
            "2250/2250 [==============================] - 3s 1ms/step - loss: 0.8907 - mae: 0.7516 - val_loss: 0.9873 - val_mae: 0.8010\n"
          ],
          "name": "stdout"
        }
      ]
    },
    {
      "cell_type": "markdown",
      "metadata": {
        "id": "Tql14Ni-a3oM"
      },
      "source": [
        "calculate MAE"
      ]
    },
    {
      "cell_type": "code",
      "metadata": {
        "colab": {
          "base_uri": "https://localhost:8080/"
        },
        "id": "i4gxHG0bt2MQ",
        "outputId": "5dc5dac5-4149-4041-e79b-483c3ad92519"
      },
      "source": [
        "calculate_mae()"
      ],
      "execution_count": null,
      "outputs": [
        {
          "output_type": "stream",
          "text": [
            "       prediction  rating  diffrence\n",
            "0        3.622347       5   1.377653\n",
            "1        3.979993       3   0.979993\n",
            "2        4.448256       5   0.551744\n",
            "3        3.978531       5   1.021469\n",
            "4        3.224342       3   0.224342\n",
            "...           ...     ...        ...\n",
            "19995    3.995329       4   0.004671\n",
            "19996    3.716760       4   0.283240\n",
            "19997    3.274203       3   0.274203\n",
            "19998    3.547563       3   0.547563\n",
            "19999    3.439081       5   1.560919\n",
            "\n",
            "[20000 rows x 3 columns]\n",
            "MAE:0.7577954462587834\n"
          ],
          "name": "stdout"
        }
      ]
    },
    {
      "cell_type": "markdown",
      "metadata": {
        "id": "8SaCmv_uuagM"
      },
      "source": [
        "## train 4 - larger size of layer - 30 nodes"
      ]
    },
    {
      "cell_type": "markdown",
      "metadata": {
        "id": "xREXA6XpbDGT"
      },
      "source": [
        "compile model"
      ]
    },
    {
      "cell_type": "code",
      "metadata": {
        "colab": {
          "base_uri": "https://localhost:8080/"
        },
        "id": "DLz1RjT8ucmt",
        "outputId": "828db595-1c8a-4795-9e1d-b481e8504d23"
      },
      "source": [
        "K_LATENT = 30\n",
        "hidden_dim = 20\n",
        "do = 0.5\n",
        "\n",
        "NCF_Model = get_ncf_model(max_userid, max_movieid, K_LATENT, hidden_dim, do)\n",
        "NCF_Model.compile(loss='mse', optimizer=Adamax(), metrics=['mae'])"
      ],
      "execution_count": null,
      "outputs": [
        {
          "output_type": "stream",
          "text": [
            "ncf model\n",
            "Model: \"model_3\"\n",
            "__________________________________________________________________________________________________\n",
            "Layer (type)                    Output Shape         Param #     Connected to                     \n",
            "==================================================================================================\n",
            "user_input (InputLayer)         [(None, 1)]          0                                            \n",
            "__________________________________________________________________________________________________\n",
            "item_input (InputLayer)         [(None, 1)]          0                                            \n",
            "__________________________________________________________________________________________________\n",
            "user_embedding (Embedding)      (None, 1, 30)        28290       user_input[0][0]                 \n",
            "__________________________________________________________________________________________________\n",
            "item_embedding (Embedding)      (None, 1, 30)        50460       item_input[0][0]                 \n",
            "__________________________________________________________________________________________________\n",
            "flatten_6 (Flatten)             (None, 30)           0           user_embedding[0][0]             \n",
            "__________________________________________________________________________________________________\n",
            "flatten_7 (Flatten)             (None, 30)           0           item_embedding[0][0]             \n",
            "__________________________________________________________________________________________________\n",
            "concatenate_3 (Concatenate)     (None, 60)           0           flatten_6[0][0]                  \n",
            "                                                                 flatten_7[0][0]                  \n",
            "__________________________________________________________________________________________________\n",
            "dense_3 (Dense)                 (None, 20)           1220        concatenate_3[0][0]              \n",
            "__________________________________________________________________________________________________\n",
            "dropout_7 (Dropout)             (None, 20)           0           dense_3[0][0]                    \n",
            "__________________________________________________________________________________________________\n",
            "prediction (Dense)              (None, 1)            21          dropout_7[0][0]                  \n",
            "==================================================================================================\n",
            "Total params: 79,991\n",
            "Trainable params: 79,991\n",
            "Non-trainable params: 0\n",
            "__________________________________________________________________________________________________\n"
          ],
          "name": "stdout"
        }
      ]
    },
    {
      "cell_type": "markdown",
      "metadata": {
        "id": "j2K89SZ5bFrl"
      },
      "source": [
        "train model"
      ]
    },
    {
      "cell_type": "code",
      "metadata": {
        "colab": {
          "base_uri": "https://localhost:8080/"
        },
        "id": "XwKb7HdXujCZ",
        "outputId": "7d88e482-3740-41cd-8cc1-9f2796baacf8"
      },
      "source": [
        "callbacks = [EarlyStopping('val_loss', patience=5), \n",
        "             ModelCheckpoint('/content/drive/Shareddrives/E-Commerce Project/ml-100k/ml-100k/u_emb_weights_4', save_best_only=True)]\n",
        "history = NCF_Model.fit([Users, Items], Ratings, epochs=100, validation_split=.1, verbose=1, callbacks=callbacks, batch_size = 32)"
      ],
      "execution_count": null,
      "outputs": [
        {
          "output_type": "stream",
          "text": [
            "Epoch 1/100\n",
            "2250/2250 [==============================] - 4s 1ms/step - loss: 7.4672 - mae: 2.3617 - val_loss: 1.4389 - val_mae: 1.0015\n",
            "INFO:tensorflow:Assets written to: /content/drive/Shareddrives/E-Commerce Project/ml-100k/ml-100k/u_emb_weights_4/assets\n",
            "Epoch 2/100\n",
            "2250/2250 [==============================] - 3s 1ms/step - loss: 1.8746 - mae: 1.1081 - val_loss: 1.1948 - val_mae: 0.9052\n",
            "INFO:tensorflow:Assets written to: /content/drive/Shareddrives/E-Commerce Project/ml-100k/ml-100k/u_emb_weights_4/assets\n",
            "Epoch 3/100\n",
            "2250/2250 [==============================] - 3s 1ms/step - loss: 1.3653 - mae: 0.9470 - val_loss: 1.0793 - val_mae: 0.8557\n",
            "INFO:tensorflow:Assets written to: /content/drive/Shareddrives/E-Commerce Project/ml-100k/ml-100k/u_emb_weights_4/assets\n",
            "Epoch 4/100\n",
            "2250/2250 [==============================] - 3s 1ms/step - loss: 1.0975 - mae: 0.8444 - val_loss: 1.0274 - val_mae: 0.8298\n",
            "INFO:tensorflow:Assets written to: /content/drive/Shareddrives/E-Commerce Project/ml-100k/ml-100k/u_emb_weights_4/assets\n",
            "Epoch 5/100\n",
            "2250/2250 [==============================] - 3s 1ms/step - loss: 0.9867 - mae: 0.7972 - val_loss: 1.0117 - val_mae: 0.8183\n",
            "INFO:tensorflow:Assets written to: /content/drive/Shareddrives/E-Commerce Project/ml-100k/ml-100k/u_emb_weights_4/assets\n",
            "Epoch 6/100\n",
            "2250/2250 [==============================] - 3s 1ms/step - loss: 0.9409 - mae: 0.7757 - val_loss: 1.0033 - val_mae: 0.8108\n",
            "INFO:tensorflow:Assets written to: /content/drive/Shareddrives/E-Commerce Project/ml-100k/ml-100k/u_emb_weights_4/assets\n",
            "Epoch 7/100\n",
            "2250/2250 [==============================] - 3s 1ms/step - loss: 0.9072 - mae: 0.7584 - val_loss: 0.9978 - val_mae: 0.8068\n",
            "INFO:tensorflow:Assets written to: /content/drive/Shareddrives/E-Commerce Project/ml-100k/ml-100k/u_emb_weights_4/assets\n",
            "Epoch 8/100\n",
            "2250/2250 [==============================] - 3s 1ms/step - loss: 0.8866 - mae: 0.7497 - val_loss: 0.9917 - val_mae: 0.8010\n",
            "INFO:tensorflow:Assets written to: /content/drive/Shareddrives/E-Commerce Project/ml-100k/ml-100k/u_emb_weights_4/assets\n",
            "Epoch 9/100\n",
            "2250/2250 [==============================] - 3s 1ms/step - loss: 0.8841 - mae: 0.7464 - val_loss: 0.9856 - val_mae: 0.7983\n",
            "INFO:tensorflow:Assets written to: /content/drive/Shareddrives/E-Commerce Project/ml-100k/ml-100k/u_emb_weights_4/assets\n",
            "Epoch 10/100\n",
            "2250/2250 [==============================] - 3s 1ms/step - loss: 0.8782 - mae: 0.7426 - val_loss: 0.9928 - val_mae: 0.8024\n",
            "Epoch 11/100\n",
            "2250/2250 [==============================] - 3s 1ms/step - loss: 0.8700 - mae: 0.7403 - val_loss: 0.9900 - val_mae: 0.8001\n",
            "Epoch 12/100\n",
            "2250/2250 [==============================] - 3s 1ms/step - loss: 0.8743 - mae: 0.7413 - val_loss: 0.9891 - val_mae: 0.7986\n",
            "Epoch 13/100\n",
            "2250/2250 [==============================] - 3s 1ms/step - loss: 0.8673 - mae: 0.7369 - val_loss: 0.9953 - val_mae: 0.8029\n",
            "Epoch 14/100\n",
            "2250/2250 [==============================] - 3s 1ms/step - loss: 0.8570 - mae: 0.7354 - val_loss: 0.9977 - val_mae: 0.8051\n"
          ],
          "name": "stdout"
        }
      ]
    },
    {
      "cell_type": "markdown",
      "metadata": {
        "id": "zXd-fGvRbIHg"
      },
      "source": [
        "calculate MAE"
      ]
    },
    {
      "cell_type": "code",
      "metadata": {
        "colab": {
          "base_uri": "https://localhost:8080/"
        },
        "id": "bUrMg4TUujp6",
        "outputId": "05cdc2e4-1732-483f-acdc-e57e17bf7f0a"
      },
      "source": [
        "calculate_mae()"
      ],
      "execution_count": null,
      "outputs": [
        {
          "output_type": "stream",
          "text": [
            "       prediction  rating  diffrence\n",
            "0        3.576867       5   1.423133\n",
            "1        3.978754       3   0.978754\n",
            "2        4.421106       5   0.578894\n",
            "3        4.025956       5   0.974044\n",
            "4        3.088450       3   0.088450\n",
            "...           ...     ...        ...\n",
            "19995    4.050476       4   0.050476\n",
            "19996    3.759901       4   0.240099\n",
            "19997    2.986450       3   0.013550\n",
            "19998    3.635630       3   0.635630\n",
            "19999    3.544216       5   1.455784\n",
            "\n",
            "[20000 rows x 3 columns]\n",
            "MAE:0.7506155411958695\n"
          ],
          "name": "stdout"
        }
      ]
    },
    {
      "cell_type": "markdown",
      "metadata": {
        "id": "eq_rDy3fRrtq"
      },
      "source": [
        "# Question 5"
      ]
    },
    {
      "cell_type": "code",
      "metadata": {
        "colab": {
          "base_uri": "https://localhost:8080/"
        },
        "id": "FuCtDK7X9So1",
        "outputId": "328ada0c-0e85-48ba-d181-524daf19b139"
      },
      "source": [
        "from google.colab import drive\n",
        "drive.mount('/content/drive')"
      ],
      "execution_count": null,
      "outputs": [
        {
          "output_type": "stream",
          "text": [
            "Mounted at /content/drive\n"
          ],
          "name": "stdout"
        }
      ]
    },
    {
      "cell_type": "code",
      "metadata": {
        "colab": {
          "base_uri": "https://localhost:8080/"
        },
        "id": "lnQnvKZk90il",
        "outputId": "d6be9f3b-ed02-493c-b898-26187cd4ca1d"
      },
      "source": [
        "!pip install deepctr\n",
        "import numpy as np\n",
        "import pandas as pd\n",
        "from sklearn.metrics import log_loss, roc_auc_score\n",
        "from sklearn.model_selection import train_test_split\n",
        "from sklearn.preprocessing import LabelEncoder, MinMaxScaler\n",
        "from sklearn.metrics import mean_absolute_error\n",
        "from deepctr.models import *\n",
        "from deepctr.feature_column import SparseFeat, DenseFeat, get_feature_names"
      ],
      "execution_count": null,
      "outputs": [
        {
          "output_type": "stream",
          "text": [
            "Requirement already satisfied: deepctr in /usr/local/lib/python3.7/dist-packages (0.8.5)\n",
            "Requirement already satisfied: h5py==2.10.0 in /usr/local/lib/python3.7/dist-packages (from deepctr) (2.10.0)\n",
            "Requirement already satisfied: requests in /usr/local/lib/python3.7/dist-packages (from deepctr) (2.23.0)\n",
            "Requirement already satisfied: six in /usr/local/lib/python3.7/dist-packages (from h5py==2.10.0->deepctr) (1.15.0)\n",
            "Requirement already satisfied: numpy>=1.7 in /usr/local/lib/python3.7/dist-packages (from h5py==2.10.0->deepctr) (1.19.5)\n",
            "Requirement already satisfied: chardet<4,>=3.0.2 in /usr/local/lib/python3.7/dist-packages (from requests->deepctr) (3.0.4)\n",
            "Requirement already satisfied: idna<3,>=2.5 in /usr/local/lib/python3.7/dist-packages (from requests->deepctr) (2.10)\n",
            "Requirement already satisfied: certifi>=2017.4.17 in /usr/local/lib/python3.7/dist-packages (from requests->deepctr) (2020.12.5)\n",
            "Requirement already satisfied: urllib3!=1.25.0,!=1.25.1,<1.26,>=1.21.1 in /usr/local/lib/python3.7/dist-packages (from requests->deepctr) (1.24.3)\n"
          ],
          "name": "stdout"
        }
      ]
    },
    {
      "cell_type": "code",
      "metadata": {
        "id": "KZdvviKC9sPv"
      },
      "source": [
        "# read the data\n",
        "df_train_ratings = pd.read_csv('/content/drive/Shareddrives/E-Commerce Project/ml-100k/ml-100k/u1.base', \n",
        "                    sep='\\t', \n",
        "                    engine='python', \n",
        "                    encoding='latin-1',\n",
        "                    names=['User_id', 'Item_id', 'rating', 'timestamp'])\n",
        "df_test_ratings = pd.read_csv('/content/drive/Shareddrives/E-Commerce Project/ml-100k/ml-100k/u1.test', \n",
        "                    sep='\\t', \n",
        "                    engine='python', \n",
        "                    encoding='latin-1',\n",
        "                    names=['User_id', 'Item_id', 'rating', 'timestamp'])\n",
        "df_users_info = pd.read_csv('/content/drive/Shareddrives/E-Commerce Project/ml-100k/ml-100k/u.user',delimiter='|',names=['User_id','age','gender','occupation','zip_code'])\n",
        "df_items_info = pd.read_csv('/content/drive/Shareddrives/E-Commerce Project/ml-100k/ml-100k/u.item',delimiter='|', encoding = \"ISO-8859-1\", names=['Item_id', 'movie_title', 'release_date', 'video_release_date','IMDb_URL', 'unknown', 'Action', 'Adventure', 'Animation','Children', 'Comedy', 'Crime', 'Documentary', 'Drama','Fantasy', 'Film-Noir', 'Horror', 'Musical', 'Mystery', 'Romance','Sci-Fi', 'Thriller', 'War', 'Western'])\n",
        "\n",
        "# merge the data for more features\n",
        "df_temp_merge = pd.merge(df_train_ratings, df_users_info)\n",
        "df_train_merged = pd.merge(df_temp_merge, df_items_info) \n",
        "\n",
        "df_temp_merge = pd.merge(df_test_ratings, df_users_info)\n",
        "df_test_merged = pd.merge(df_temp_merge, df_items_info) "
      ],
      "execution_count": null,
      "outputs": []
    },
    {
      "cell_type": "code",
      "metadata": {
        "id": "ygBCv5fuA4vb"
      },
      "source": [
        "# define the relevant features for the model\n",
        "sparse_features = ['User_id', 'Item_id', 'timestamp', 'gender']\n",
        "target = ['rating']"
      ],
      "execution_count": null,
      "outputs": []
    },
    {
      "cell_type": "code",
      "metadata": {
        "id": "-IyPOpAzMG77"
      },
      "source": [
        " # 1.Label Encoding for sparse features,and do simple Transformation for dense features\n",
        "for feat in sparse_features:\n",
        "    lbe = LabelEncoder()\n",
        "    df_train_merged[feat] = lbe.fit_transform(df_train_merged[feat])\n",
        "    df_test_merged[feat] = lbe.fit_transform(df_test_merged[feat])"
      ],
      "execution_count": null,
      "outputs": []
    },
    {
      "cell_type": "code",
      "metadata": {
        "id": "7YXGva5KNqcO"
      },
      "source": [
        "# 2.count #unique features for each sparse field,and record dense feature field name\n",
        "\n",
        "fixlen_feature_columns = [SparseFeat(feat, vocabulary_size=df_train_merged[feat].max() + 1,embedding_dim=4)\n",
        "                        for i,feat in enumerate(sparse_features)]\n",
        "dnn_feature_columns = fixlen_feature_columns\n",
        "linear_feature_columns = fixlen_feature_columns\n",
        "\n",
        "feature_names = get_feature_names(linear_feature_columns + dnn_feature_columns)"
      ],
      "execution_count": null,
      "outputs": []
    },
    {
      "cell_type": "code",
      "metadata": {
        "id": "TmndhBw-N1Zx"
      },
      "source": [
        "# 3.generate input data for model\n",
        "\n",
        "# train, test = train_test_split(df_merged, test_size=0.2, random_state=2020)\n",
        "train = df_train_merged\n",
        "test = df_test_merged\n",
        "train_model_input = {name:train[name] for name in feature_names}\n",
        "test_model_input = {name:test[name] for name in feature_names}\n"
      ],
      "execution_count": null,
      "outputs": []
    },
    {
      "cell_type": "code",
      "metadata": {
        "colab": {
          "base_uri": "https://localhost:8080/"
        },
        "id": "uMGnCeACOdbD",
        "outputId": "5b1f7c76-601c-40ee-bef1-3da56b2a101c"
      },
      "source": [
        "# 4.Define Model 1 ,train,predict and evaluate \n",
        "model_1 = DeepFM(linear_feature_columns, dnn_feature_columns, task='regression')\n",
        "model_1.compile(\"adam\", \"mse\",\n",
        "              metrics=['mse'], )\n",
        "\n",
        "history = model_1.fit(train_model_input, train[target].values,\n",
        "                    batch_size=256, epochs=30, verbose=2, validation_split=0.2, )\n",
        "pred_ans = model_1.predict(test_model_input, batch_size=256)\n",
        "print(\"mae\", round(mean_absolute_error(test[target].values, pred_ans), 4))"
      ],
      "execution_count": null,
      "outputs": [
        {
          "output_type": "stream",
          "text": [
            "Epoch 1/30\n",
            "250/250 - 3s - loss: 2.4152 - mse: 2.4150 - val_loss: 1.1231 - val_mse: 1.1228\n",
            "Epoch 2/30\n",
            "250/250 - 1s - loss: 0.6742 - mse: 0.6736 - val_loss: 1.1557 - val_mse: 1.1549\n",
            "Epoch 3/30\n",
            "250/250 - 1s - loss: 0.4934 - mse: 0.4924 - val_loss: 1.1982 - val_mse: 1.1971\n",
            "Epoch 4/30\n",
            "250/250 - 1s - loss: 0.4316 - mse: 0.4304 - val_loss: 1.2371 - val_mse: 1.2358\n",
            "Epoch 5/30\n",
            "250/250 - 1s - loss: 0.3987 - mse: 0.3973 - val_loss: 1.2706 - val_mse: 1.2691\n",
            "Epoch 6/30\n",
            "250/250 - 1s - loss: 0.3784 - mse: 0.3767 - val_loss: 1.2880 - val_mse: 1.2862\n",
            "Epoch 7/30\n",
            "250/250 - 1s - loss: 0.3642 - mse: 0.3623 - val_loss: 1.2661 - val_mse: 1.2641\n",
            "Epoch 8/30\n",
            "250/250 - 1s - loss: 0.3527 - mse: 0.3506 - val_loss: 1.3096 - val_mse: 1.3074\n",
            "Epoch 9/30\n",
            "250/250 - 1s - loss: 0.3370 - mse: 0.3347 - val_loss: 1.3120 - val_mse: 1.3095\n",
            "Epoch 10/30\n",
            "250/250 - 1s - loss: 0.3167 - mse: 0.3141 - val_loss: 1.2942 - val_mse: 1.2915\n",
            "Epoch 11/30\n",
            "250/250 - 1s - loss: 0.2957 - mse: 0.2929 - val_loss: 1.2998 - val_mse: 1.2969\n",
            "Epoch 12/30\n",
            "250/250 - 1s - loss: 0.2774 - mse: 0.2744 - val_loss: 1.3509 - val_mse: 1.3477\n",
            "Epoch 13/30\n",
            "250/250 - 1s - loss: 0.2596 - mse: 0.2564 - val_loss: 1.3370 - val_mse: 1.3337\n",
            "Epoch 14/30\n",
            "250/250 - 1s - loss: 0.2445 - mse: 0.2412 - val_loss: 1.3630 - val_mse: 1.3595\n",
            "Epoch 15/30\n",
            "250/250 - 1s - loss: 0.2292 - mse: 0.2256 - val_loss: 1.3448 - val_mse: 1.3411\n",
            "Epoch 16/30\n",
            "250/250 - 1s - loss: 0.2160 - mse: 0.2123 - val_loss: 1.3591 - val_mse: 1.3553\n",
            "Epoch 17/30\n",
            "250/250 - 1s - loss: 0.2041 - mse: 0.2002 - val_loss: 1.3681 - val_mse: 1.3642\n",
            "Epoch 18/30\n",
            "250/250 - 1s - loss: 0.1926 - mse: 0.1886 - val_loss: 1.3767 - val_mse: 1.3726\n",
            "Epoch 19/30\n",
            "250/250 - 1s - loss: 0.1781 - mse: 0.1739 - val_loss: 1.3765 - val_mse: 1.3722\n",
            "Epoch 20/30\n",
            "250/250 - 1s - loss: 0.1645 - mse: 0.1601 - val_loss: 1.3492 - val_mse: 1.3447\n",
            "Epoch 21/30\n",
            "250/250 - 1s - loss: 0.1513 - mse: 0.1467 - val_loss: 1.3662 - val_mse: 1.3616\n",
            "Epoch 22/30\n",
            "250/250 - 1s - loss: 0.1392 - mse: 0.1344 - val_loss: 1.3749 - val_mse: 1.3700\n",
            "Epoch 23/30\n",
            "250/250 - 1s - loss: 0.1278 - mse: 0.1229 - val_loss: 1.3656 - val_mse: 1.3606\n",
            "Epoch 24/30\n",
            "250/250 - 1s - loss: 0.1183 - mse: 0.1132 - val_loss: 1.3955 - val_mse: 1.3903\n",
            "Epoch 25/30\n",
            "250/250 - 1s - loss: 0.1118 - mse: 0.1066 - val_loss: 1.3764 - val_mse: 1.3712\n",
            "Epoch 26/30\n",
            "250/250 - 1s - loss: 0.1057 - mse: 0.1003 - val_loss: 1.3530 - val_mse: 1.3476\n",
            "Epoch 27/30\n",
            "250/250 - 1s - loss: 0.0996 - mse: 0.0941 - val_loss: 1.3934 - val_mse: 1.3878\n",
            "Epoch 28/30\n",
            "250/250 - 1s - loss: 0.0934 - mse: 0.0878 - val_loss: 1.3860 - val_mse: 1.3803\n",
            "Epoch 29/30\n",
            "250/250 - 1s - loss: 0.0896 - mse: 0.0839 - val_loss: 1.3663 - val_mse: 1.3605\n",
            "Epoch 30/30\n",
            "250/250 - 1s - loss: 0.0875 - mse: 0.0816 - val_loss: 1.3675 - val_mse: 1.3616\n",
            "mae 1.0605\n"
          ],
          "name": "stdout"
        }
      ]
    },
    {
      "cell_type": "markdown",
      "metadata": {
        "id": "bLHCH_nsVhHc"
      },
      "source": [
        "model 2"
      ]
    },
    {
      "cell_type": "code",
      "metadata": {
        "colab": {
          "base_uri": "https://localhost:8080/"
        },
        "id": "oZYygAO0VilV",
        "outputId": "84216986-da6c-40a6-8daa-450378a1f756"
      },
      "source": [
        "# Define Model 2 ,train,predict and evaluate \n",
        "model_2 = DeepFM(linear_feature_columns, dnn_feature_columns, task='regression')\n",
        "model_2.compile(\"sgd\", \"mse\",\n",
        "              metrics=['mse'], )\n",
        "\n",
        "history = model_2.fit(train_model_input, train[target].values,\n",
        "                    batch_size=256, epochs=30, verbose=2, validation_split=0.2, )\n",
        "pred_ans = model_2.predict(test_model_input, batch_size=256)\n",
        "print(\"mae\", round(mean_absolute_error(test[target].values, pred_ans), 4))"
      ],
      "execution_count": null,
      "outputs": [
        {
          "output_type": "stream",
          "text": [
            "Epoch 1/30\n",
            "250/250 - 2s - loss: 1.5471 - mse: 1.5471 - val_loss: 1.5331 - val_mse: 1.5331\n",
            "Epoch 2/30\n",
            "250/250 - 1s - loss: 1.1697 - mse: 1.1697 - val_loss: 1.5361 - val_mse: 1.5361\n",
            "Epoch 3/30\n",
            "250/250 - 1s - loss: 1.1574 - mse: 1.1574 - val_loss: 1.5470 - val_mse: 1.5470\n",
            "Epoch 4/30\n",
            "250/250 - 1s - loss: 1.1431 - mse: 1.1431 - val_loss: 1.4660 - val_mse: 1.4660\n",
            "Epoch 5/30\n",
            "250/250 - 1s - loss: 1.1249 - mse: 1.1249 - val_loss: 1.4714 - val_mse: 1.4714\n",
            "Epoch 6/30\n",
            "250/250 - 1s - loss: 1.1001 - mse: 1.1001 - val_loss: 1.4109 - val_mse: 1.4109\n",
            "Epoch 7/30\n",
            "250/250 - 1s - loss: 1.0671 - mse: 1.0671 - val_loss: 1.4016 - val_mse: 1.4016\n",
            "Epoch 8/30\n",
            "250/250 - 1s - loss: 1.0239 - mse: 1.0239 - val_loss: 1.3551 - val_mse: 1.3551\n",
            "Epoch 9/30\n",
            "250/250 - 1s - loss: 0.9743 - mse: 0.9743 - val_loss: 1.3171 - val_mse: 1.3170\n",
            "Epoch 10/30\n",
            "250/250 - 1s - loss: 0.9295 - mse: 0.9295 - val_loss: 1.2680 - val_mse: 1.2679\n",
            "Epoch 11/30\n",
            "250/250 - 1s - loss: 0.8979 - mse: 0.8979 - val_loss: 1.2475 - val_mse: 1.2474\n",
            "Epoch 12/30\n",
            "250/250 - 1s - loss: 0.8776 - mse: 0.8775 - val_loss: 1.2284 - val_mse: 1.2283\n",
            "Epoch 13/30\n",
            "250/250 - 1s - loss: 0.8637 - mse: 0.8637 - val_loss: 1.2537 - val_mse: 1.2536\n",
            "Epoch 14/30\n",
            "250/250 - 1s - loss: 0.8543 - mse: 0.8542 - val_loss: 1.2229 - val_mse: 1.2229\n",
            "Epoch 15/30\n",
            "250/250 - 1s - loss: 0.8467 - mse: 0.8467 - val_loss: 1.2476 - val_mse: 1.2476\n",
            "Epoch 16/30\n",
            "250/250 - 1s - loss: 0.8408 - mse: 0.8407 - val_loss: 1.1969 - val_mse: 1.1969\n",
            "Epoch 17/30\n",
            "250/250 - 1s - loss: 0.8360 - mse: 0.8359 - val_loss: 1.2024 - val_mse: 1.2023\n",
            "Epoch 18/30\n",
            "250/250 - 1s - loss: 0.8326 - mse: 0.8325 - val_loss: 1.2275 - val_mse: 1.2274\n",
            "Epoch 19/30\n",
            "250/250 - 1s - loss: 0.8290 - mse: 0.8290 - val_loss: 1.2262 - val_mse: 1.2262\n",
            "Epoch 20/30\n",
            "250/250 - 1s - loss: 0.8255 - mse: 0.8254 - val_loss: 1.1930 - val_mse: 1.1930\n",
            "Epoch 21/30\n",
            "250/250 - 1s - loss: 0.8220 - mse: 0.8219 - val_loss: 1.2220 - val_mse: 1.2220\n",
            "Epoch 22/30\n",
            "250/250 - 1s - loss: 0.8176 - mse: 0.8175 - val_loss: 1.2739 - val_mse: 1.2738\n",
            "Epoch 23/30\n",
            "250/250 - 1s - loss: 0.8137 - mse: 0.8137 - val_loss: 1.1812 - val_mse: 1.1811\n",
            "Epoch 24/30\n",
            "250/250 - 1s - loss: 0.8080 - mse: 0.8080 - val_loss: 1.1991 - val_mse: 1.1991\n",
            "Epoch 25/30\n",
            "250/250 - 1s - loss: 0.8023 - mse: 0.8023 - val_loss: 1.2147 - val_mse: 1.2147\n",
            "Epoch 26/30\n",
            "250/250 - 1s - loss: 0.7945 - mse: 0.7945 - val_loss: 1.2194 - val_mse: 1.2193\n",
            "Epoch 27/30\n",
            "250/250 - 1s - loss: 0.7848 - mse: 0.7848 - val_loss: 1.1974 - val_mse: 1.1973\n",
            "Epoch 28/30\n",
            "250/250 - 1s - loss: 0.7741 - mse: 0.7740 - val_loss: 1.2253 - val_mse: 1.2252\n",
            "Epoch 29/30\n",
            "250/250 - 1s - loss: 0.7589 - mse: 0.7589 - val_loss: 1.2049 - val_mse: 1.2048\n",
            "Epoch 30/30\n",
            "250/250 - 1s - loss: 0.7399 - mse: 0.7398 - val_loss: 1.1532 - val_mse: 1.1531\n",
            "mae 0.8451\n"
          ],
          "name": "stdout"
        }
      ]
    },
    {
      "cell_type": "markdown",
      "metadata": {
        "id": "4GeWRFGv1dDx"
      },
      "source": [
        "change the features"
      ]
    },
    {
      "cell_type": "code",
      "metadata": {
        "id": "tHJWRQHyWwQv"
      },
      "source": [
        "# define the relevant features for the model\n",
        "sparse_features = ['User_id', 'Item_id', 'age', 'occupation']\n",
        "target = ['rating']\n",
        " # 1.Label Encoding for sparse features,and do simple Transformation for dense features\n",
        "for feat in sparse_features:\n",
        "    lbe = LabelEncoder()\n",
        "    df_train_merged[feat] = lbe.fit_transform(df_train_merged[feat])\n",
        "    df_test_merged[feat] = lbe.fit_transform(df_test_merged[feat])\n",
        "# 2.count #unique features for each sparse field,and record dense feature field name\n",
        "\n",
        "fixlen_feature_columns = [SparseFeat(feat, vocabulary_size=df_train_merged[feat].max() + 1,embedding_dim=4)\n",
        "                        for i,feat in enumerate(sparse_features)]\n",
        "dnn_feature_columns = fixlen_feature_columns\n",
        "linear_feature_columns = fixlen_feature_columns\n",
        "\n",
        "feature_names = get_feature_names(linear_feature_columns + dnn_feature_columns)\n",
        "# 3.generate input data for model\n",
        "\n",
        "# train, test = train_test_split(df_merged, test_size=0.2, random_state=2020)\n",
        "train = df_train_merged\n",
        "test = df_test_merged\n",
        "train_model_input = {name:train[name] for name in feature_names}\n",
        "test_model_input = {name:test[name] for name in feature_names}"
      ],
      "execution_count": null,
      "outputs": []
    },
    {
      "cell_type": "markdown",
      "metadata": {
        "id": "2UlKhqBGW8tL"
      },
      "source": [
        "model 1"
      ]
    },
    {
      "cell_type": "code",
      "metadata": {
        "colab": {
          "base_uri": "https://localhost:8080/"
        },
        "id": "kCZqzQCFW-QO",
        "outputId": "3dee316a-f238-4cc3-de58-d678dd77b892"
      },
      "source": [
        "# 4.Define Model 1,train,predict and evaluate\n",
        "model_1 = DeepFM(linear_feature_columns, dnn_feature_columns, task='regression')\n",
        "model_1.compile(\"adam\", \"mse\",\n",
        "              metrics=['mse'], )\n",
        "\n",
        "history = model_1.fit(train_model_input, train[target].values,\n",
        "                    batch_size=256, epochs=30, verbose=2, validation_split=0.2, )\n",
        "pred_ans = model_1.predict(test_model_input, batch_size=256)\n",
        "print(\"mae\", round(mean_absolute_error(test[target].values, pred_ans), 4))"
      ],
      "execution_count": null,
      "outputs": [
        {
          "output_type": "stream",
          "text": [
            "Epoch 1/30\n",
            "250/250 - 2s - loss: 2.3226 - mse: 2.3226 - val_loss: 1.1703 - val_mse: 1.1702\n",
            "Epoch 2/30\n",
            "250/250 - 1s - loss: 0.8644 - mse: 0.8643 - val_loss: 1.1721 - val_mse: 1.1720\n",
            "Epoch 3/30\n",
            "250/250 - 1s - loss: 0.8559 - mse: 0.8558 - val_loss: 1.1697 - val_mse: 1.1696\n",
            "Epoch 4/30\n",
            "250/250 - 1s - loss: 0.8492 - mse: 0.8491 - val_loss: 1.1699 - val_mse: 1.1698\n",
            "Epoch 5/30\n",
            "250/250 - 1s - loss: 0.8437 - mse: 0.8436 - val_loss: 1.1732 - val_mse: 1.1731\n",
            "Epoch 6/30\n",
            "250/250 - 1s - loss: 0.8315 - mse: 0.8313 - val_loss: 1.1823 - val_mse: 1.1821\n",
            "Epoch 7/30\n",
            "250/250 - 1s - loss: 0.8221 - mse: 0.8219 - val_loss: 1.1965 - val_mse: 1.1963\n",
            "Epoch 8/30\n",
            "250/250 - 1s - loss: 0.8150 - mse: 0.8148 - val_loss: 1.2056 - val_mse: 1.2053\n",
            "Epoch 9/30\n",
            "250/250 - 1s - loss: 0.8119 - mse: 0.8117 - val_loss: 1.2130 - val_mse: 1.2128\n",
            "Epoch 10/30\n",
            "250/250 - 1s - loss: 0.8025 - mse: 0.8023 - val_loss: 1.2196 - val_mse: 1.2193\n",
            "Epoch 11/30\n",
            "250/250 - 1s - loss: 0.7961 - mse: 0.7958 - val_loss: 1.2302 - val_mse: 1.2299\n",
            "Epoch 12/30\n",
            "250/250 - 1s - loss: 0.7883 - mse: 0.7880 - val_loss: 1.2197 - val_mse: 1.2194\n",
            "Epoch 13/30\n",
            "250/250 - 1s - loss: 0.7817 - mse: 0.7814 - val_loss: 1.2142 - val_mse: 1.2139\n",
            "Epoch 14/30\n",
            "250/250 - 1s - loss: 0.7740 - mse: 0.7737 - val_loss: 1.2323 - val_mse: 1.2320\n",
            "Epoch 15/30\n",
            "250/250 - 1s - loss: 0.7655 - mse: 0.7651 - val_loss: 1.2198 - val_mse: 1.2195\n",
            "Epoch 16/30\n",
            "250/250 - 1s - loss: 0.7564 - mse: 0.7560 - val_loss: 1.2387 - val_mse: 1.2383\n",
            "Epoch 17/30\n",
            "250/250 - 1s - loss: 0.7489 - mse: 0.7485 - val_loss: 1.2292 - val_mse: 1.2288\n",
            "Epoch 18/30\n",
            "250/250 - 1s - loss: 0.7395 - mse: 0.7391 - val_loss: 1.2182 - val_mse: 1.2178\n",
            "Epoch 19/30\n",
            "250/250 - 1s - loss: 0.7325 - mse: 0.7320 - val_loss: 1.2166 - val_mse: 1.2161\n",
            "Epoch 20/30\n",
            "250/250 - 1s - loss: 0.7279 - mse: 0.7274 - val_loss: 1.2355 - val_mse: 1.2350\n",
            "Epoch 21/30\n",
            "250/250 - 1s - loss: 0.7209 - mse: 0.7203 - val_loss: 1.2344 - val_mse: 1.2339\n",
            "Epoch 22/30\n",
            "250/250 - 1s - loss: 0.7191 - mse: 0.7185 - val_loss: 1.2541 - val_mse: 1.2536\n",
            "Epoch 23/30\n",
            "250/250 - 1s - loss: 0.7147 - mse: 0.7142 - val_loss: 1.2224 - val_mse: 1.2218\n",
            "Epoch 24/30\n",
            "250/250 - 1s - loss: 0.7103 - mse: 0.7097 - val_loss: 1.2457 - val_mse: 1.2451\n",
            "Epoch 25/30\n",
            "250/250 - 1s - loss: 0.7083 - mse: 0.7077 - val_loss: 1.2393 - val_mse: 1.2387\n",
            "Epoch 26/30\n",
            "250/250 - 1s - loss: 0.7043 - mse: 0.7037 - val_loss: 1.2479 - val_mse: 1.2473\n",
            "Epoch 27/30\n",
            "250/250 - 1s - loss: 0.7008 - mse: 0.7001 - val_loss: 1.2432 - val_mse: 1.2425\n",
            "Epoch 28/30\n",
            "250/250 - 1s - loss: 0.6992 - mse: 0.6985 - val_loss: 1.2363 - val_mse: 1.2356\n",
            "Epoch 29/30\n",
            "250/250 - 1s - loss: 0.6960 - mse: 0.6953 - val_loss: 1.2496 - val_mse: 1.2489\n",
            "Epoch 30/30\n",
            "250/250 - 1s - loss: 0.6931 - mse: 0.6923 - val_loss: 1.2583 - val_mse: 1.2575\n",
            "mae 0.8618\n"
          ],
          "name": "stdout"
        }
      ]
    },
    {
      "cell_type": "markdown",
      "metadata": {
        "id": "ZqqsM1lIXEB5"
      },
      "source": [
        "model 2"
      ]
    },
    {
      "cell_type": "code",
      "metadata": {
        "colab": {
          "base_uri": "https://localhost:8080/"
        },
        "id": "4741p1urXFfk",
        "outputId": "a73ec598-4a37-4576-819f-b3c401ef7e70"
      },
      "source": [
        "# Define Model 2,train,predict and evaluate\n",
        "model_2 = DeepFM(linear_feature_columns, dnn_feature_columns, task='regression')\n",
        "model_2.compile(\"sgd\", \"mse\",\n",
        "              metrics=['mse'], )\n",
        "\n",
        "history = model_2.fit(train_model_input, train[target].values,\n",
        "                    batch_size=256, epochs=30, verbose=2, validation_split=0.2, )\n",
        "pred_ans = model_2.predict(test_model_input, batch_size=256)\n",
        "print(\"mae\", round(mean_absolute_error(test[target].values, pred_ans), 4))"
      ],
      "execution_count": null,
      "outputs": [
        {
          "output_type": "stream",
          "text": [
            "Epoch 1/30\n",
            "250/250 - 2s - loss: 1.5743 - mse: 1.5743 - val_loss: 1.5313 - val_mse: 1.5313\n",
            "Epoch 2/30\n",
            "250/250 - 1s - loss: 1.1635 - mse: 1.1635 - val_loss: 1.5244 - val_mse: 1.5244\n",
            "Epoch 3/30\n",
            "250/250 - 1s - loss: 1.1489 - mse: 1.1489 - val_loss: 1.4836 - val_mse: 1.4836\n",
            "Epoch 4/30\n",
            "250/250 - 1s - loss: 1.1334 - mse: 1.1334 - val_loss: 1.4797 - val_mse: 1.4797\n",
            "Epoch 5/30\n",
            "250/250 - 1s - loss: 1.1160 - mse: 1.1160 - val_loss: 1.4702 - val_mse: 1.4702\n",
            "Epoch 6/30\n",
            "250/250 - 1s - loss: 1.0942 - mse: 1.0942 - val_loss: 1.4433 - val_mse: 1.4433\n",
            "Epoch 7/30\n",
            "250/250 - 1s - loss: 1.0642 - mse: 1.0642 - val_loss: 1.3958 - val_mse: 1.3958\n",
            "Epoch 8/30\n",
            "250/250 - 1s - loss: 1.0225 - mse: 1.0225 - val_loss: 1.3238 - val_mse: 1.3237\n",
            "Epoch 9/30\n",
            "250/250 - 1s - loss: 0.9726 - mse: 0.9725 - val_loss: 1.3222 - val_mse: 1.3222\n",
            "Epoch 10/30\n",
            "250/250 - 1s - loss: 0.9277 - mse: 0.9277 - val_loss: 1.2760 - val_mse: 1.2760\n",
            "Epoch 11/30\n",
            "250/250 - 1s - loss: 0.8970 - mse: 0.8970 - val_loss: 1.2373 - val_mse: 1.2373\n",
            "Epoch 12/30\n",
            "250/250 - 1s - loss: 0.8781 - mse: 0.8781 - val_loss: 1.2540 - val_mse: 1.2540\n",
            "Epoch 13/30\n",
            "250/250 - 1s - loss: 0.8663 - mse: 0.8662 - val_loss: 1.2444 - val_mse: 1.2443\n",
            "Epoch 14/30\n",
            "250/250 - 1s - loss: 0.8572 - mse: 0.8571 - val_loss: 1.2443 - val_mse: 1.2442\n",
            "Epoch 15/30\n",
            "250/250 - 1s - loss: 0.8505 - mse: 0.8505 - val_loss: 1.2515 - val_mse: 1.2514\n",
            "Epoch 16/30\n",
            "250/250 - 1s - loss: 0.8463 - mse: 0.8463 - val_loss: 1.2542 - val_mse: 1.2541\n",
            "Epoch 17/30\n",
            "250/250 - 1s - loss: 0.8425 - mse: 0.8425 - val_loss: 1.1922 - val_mse: 1.1921\n",
            "Epoch 18/30\n",
            "250/250 - 1s - loss: 0.8399 - mse: 0.8398 - val_loss: 1.2089 - val_mse: 1.2089\n",
            "Epoch 19/30\n",
            "250/250 - 1s - loss: 0.8380 - mse: 0.8379 - val_loss: 1.2048 - val_mse: 1.2047\n",
            "Epoch 20/30\n",
            "250/250 - 1s - loss: 0.8362 - mse: 0.8362 - val_loss: 1.2661 - val_mse: 1.2660\n",
            "Epoch 21/30\n",
            "250/250 - 1s - loss: 0.8343 - mse: 0.8343 - val_loss: 1.2541 - val_mse: 1.2541\n",
            "Epoch 22/30\n",
            "250/250 - 1s - loss: 0.8334 - mse: 0.8333 - val_loss: 1.2374 - val_mse: 1.2374\n",
            "Epoch 23/30\n",
            "250/250 - 1s - loss: 0.8327 - mse: 0.8327 - val_loss: 1.2112 - val_mse: 1.2112\n",
            "Epoch 24/30\n",
            "250/250 - 1s - loss: 0.8318 - mse: 0.8318 - val_loss: 1.2792 - val_mse: 1.2791\n",
            "Epoch 25/30\n",
            "250/250 - 1s - loss: 0.8317 - mse: 0.8316 - val_loss: 1.2727 - val_mse: 1.2726\n",
            "Epoch 26/30\n",
            "250/250 - 1s - loss: 0.8309 - mse: 0.8309 - val_loss: 1.2274 - val_mse: 1.2273\n",
            "Epoch 27/30\n",
            "250/250 - 1s - loss: 0.8305 - mse: 0.8305 - val_loss: 1.2279 - val_mse: 1.2278\n",
            "Epoch 28/30\n",
            "250/250 - 1s - loss: 0.8296 - mse: 0.8295 - val_loss: 1.2459 - val_mse: 1.2459\n",
            "Epoch 29/30\n",
            "250/250 - 1s - loss: 0.8295 - mse: 0.8295 - val_loss: 1.2261 - val_mse: 1.2260\n",
            "Epoch 30/30\n",
            "250/250 - 1s - loss: 0.8287 - mse: 0.8287 - val_loss: 1.2165 - val_mse: 1.2164\n",
            "mae 0.8387\n"
          ],
          "name": "stdout"
        }
      ]
    }
  ]
}